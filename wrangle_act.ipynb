{
 "cells": [
  {
   "cell_type": "markdown",
   "metadata": {},
   "source": [
    "## Gathering data"
   ]
  },
  {
   "cell_type": "code",
   "execution_count": 1,
   "metadata": {},
   "outputs": [],
   "source": [
    "import pandas as pd\n",
    "import numpy as np\n",
    "import requests\n",
    "import json\n",
    "import tweepy\n"
   ]
  },
  {
   "cell_type": "markdown",
   "metadata": {},
   "source": [
    "#### Reading the twitter archive enhanced csv file."
   ]
  },
  {
   "cell_type": "code",
   "execution_count": 2,
   "metadata": {},
   "outputs": [
    {
     "data": {
      "text/html": [
       "<div>\n",
       "<style scoped>\n",
       "    .dataframe tbody tr th:only-of-type {\n",
       "        vertical-align: middle;\n",
       "    }\n",
       "\n",
       "    .dataframe tbody tr th {\n",
       "        vertical-align: top;\n",
       "    }\n",
       "\n",
       "    .dataframe thead th {\n",
       "        text-align: right;\n",
       "    }\n",
       "</style>\n",
       "<table border=\"1\" class=\"dataframe\">\n",
       "  <thead>\n",
       "    <tr style=\"text-align: right;\">\n",
       "      <th></th>\n",
       "      <th>tweet_id</th>\n",
       "      <th>in_reply_to_status_id</th>\n",
       "      <th>in_reply_to_user_id</th>\n",
       "      <th>timestamp</th>\n",
       "      <th>source</th>\n",
       "      <th>text</th>\n",
       "      <th>retweeted_status_id</th>\n",
       "      <th>retweeted_status_user_id</th>\n",
       "      <th>retweeted_status_timestamp</th>\n",
       "      <th>expanded_urls</th>\n",
       "      <th>rating_numerator</th>\n",
       "      <th>rating_denominator</th>\n",
       "      <th>name</th>\n",
       "      <th>doggo</th>\n",
       "      <th>floofer</th>\n",
       "      <th>pupper</th>\n",
       "      <th>puppo</th>\n",
       "    </tr>\n",
       "  </thead>\n",
       "  <tbody>\n",
       "    <tr>\n",
       "      <th>0</th>\n",
       "      <td>892420643555336193</td>\n",
       "      <td>NaN</td>\n",
       "      <td>NaN</td>\n",
       "      <td>2017-08-01 16:23:56 +0000</td>\n",
       "      <td>&lt;a href=\"http://twitter.com/download/iphone\" r...</td>\n",
       "      <td>This is Phineas. He's a mystical boy. Only eve...</td>\n",
       "      <td>NaN</td>\n",
       "      <td>NaN</td>\n",
       "      <td>NaN</td>\n",
       "      <td>https://twitter.com/dog_rates/status/892420643...</td>\n",
       "      <td>13</td>\n",
       "      <td>10</td>\n",
       "      <td>Phineas</td>\n",
       "      <td>None</td>\n",
       "      <td>None</td>\n",
       "      <td>None</td>\n",
       "      <td>None</td>\n",
       "    </tr>\n",
       "    <tr>\n",
       "      <th>1</th>\n",
       "      <td>892177421306343426</td>\n",
       "      <td>NaN</td>\n",
       "      <td>NaN</td>\n",
       "      <td>2017-08-01 00:17:27 +0000</td>\n",
       "      <td>&lt;a href=\"http://twitter.com/download/iphone\" r...</td>\n",
       "      <td>This is Tilly. She's just checking pup on you....</td>\n",
       "      <td>NaN</td>\n",
       "      <td>NaN</td>\n",
       "      <td>NaN</td>\n",
       "      <td>https://twitter.com/dog_rates/status/892177421...</td>\n",
       "      <td>13</td>\n",
       "      <td>10</td>\n",
       "      <td>Tilly</td>\n",
       "      <td>None</td>\n",
       "      <td>None</td>\n",
       "      <td>None</td>\n",
       "      <td>None</td>\n",
       "    </tr>\n",
       "    <tr>\n",
       "      <th>2</th>\n",
       "      <td>891815181378084864</td>\n",
       "      <td>NaN</td>\n",
       "      <td>NaN</td>\n",
       "      <td>2017-07-31 00:18:03 +0000</td>\n",
       "      <td>&lt;a href=\"http://twitter.com/download/iphone\" r...</td>\n",
       "      <td>This is Archie. He is a rare Norwegian Pouncin...</td>\n",
       "      <td>NaN</td>\n",
       "      <td>NaN</td>\n",
       "      <td>NaN</td>\n",
       "      <td>https://twitter.com/dog_rates/status/891815181...</td>\n",
       "      <td>12</td>\n",
       "      <td>10</td>\n",
       "      <td>Archie</td>\n",
       "      <td>None</td>\n",
       "      <td>None</td>\n",
       "      <td>None</td>\n",
       "      <td>None</td>\n",
       "    </tr>\n",
       "    <tr>\n",
       "      <th>3</th>\n",
       "      <td>891689557279858688</td>\n",
       "      <td>NaN</td>\n",
       "      <td>NaN</td>\n",
       "      <td>2017-07-30 15:58:51 +0000</td>\n",
       "      <td>&lt;a href=\"http://twitter.com/download/iphone\" r...</td>\n",
       "      <td>This is Darla. She commenced a snooze mid meal...</td>\n",
       "      <td>NaN</td>\n",
       "      <td>NaN</td>\n",
       "      <td>NaN</td>\n",
       "      <td>https://twitter.com/dog_rates/status/891689557...</td>\n",
       "      <td>13</td>\n",
       "      <td>10</td>\n",
       "      <td>Darla</td>\n",
       "      <td>None</td>\n",
       "      <td>None</td>\n",
       "      <td>None</td>\n",
       "      <td>None</td>\n",
       "    </tr>\n",
       "    <tr>\n",
       "      <th>4</th>\n",
       "      <td>891327558926688256</td>\n",
       "      <td>NaN</td>\n",
       "      <td>NaN</td>\n",
       "      <td>2017-07-29 16:00:24 +0000</td>\n",
       "      <td>&lt;a href=\"http://twitter.com/download/iphone\" r...</td>\n",
       "      <td>This is Franklin. He would like you to stop ca...</td>\n",
       "      <td>NaN</td>\n",
       "      <td>NaN</td>\n",
       "      <td>NaN</td>\n",
       "      <td>https://twitter.com/dog_rates/status/891327558...</td>\n",
       "      <td>12</td>\n",
       "      <td>10</td>\n",
       "      <td>Franklin</td>\n",
       "      <td>None</td>\n",
       "      <td>None</td>\n",
       "      <td>None</td>\n",
       "      <td>None</td>\n",
       "    </tr>\n",
       "  </tbody>\n",
       "</table>\n",
       "</div>"
      ],
      "text/plain": [
       "             tweet_id  in_reply_to_status_id  in_reply_to_user_id  \\\n",
       "0  892420643555336193                    NaN                  NaN   \n",
       "1  892177421306343426                    NaN                  NaN   \n",
       "2  891815181378084864                    NaN                  NaN   \n",
       "3  891689557279858688                    NaN                  NaN   \n",
       "4  891327558926688256                    NaN                  NaN   \n",
       "\n",
       "                   timestamp  \\\n",
       "0  2017-08-01 16:23:56 +0000   \n",
       "1  2017-08-01 00:17:27 +0000   \n",
       "2  2017-07-31 00:18:03 +0000   \n",
       "3  2017-07-30 15:58:51 +0000   \n",
       "4  2017-07-29 16:00:24 +0000   \n",
       "\n",
       "                                              source  \\\n",
       "0  <a href=\"http://twitter.com/download/iphone\" r...   \n",
       "1  <a href=\"http://twitter.com/download/iphone\" r...   \n",
       "2  <a href=\"http://twitter.com/download/iphone\" r...   \n",
       "3  <a href=\"http://twitter.com/download/iphone\" r...   \n",
       "4  <a href=\"http://twitter.com/download/iphone\" r...   \n",
       "\n",
       "                                                text  retweeted_status_id  \\\n",
       "0  This is Phineas. He's a mystical boy. Only eve...                  NaN   \n",
       "1  This is Tilly. She's just checking pup on you....                  NaN   \n",
       "2  This is Archie. He is a rare Norwegian Pouncin...                  NaN   \n",
       "3  This is Darla. She commenced a snooze mid meal...                  NaN   \n",
       "4  This is Franklin. He would like you to stop ca...                  NaN   \n",
       "\n",
       "   retweeted_status_user_id retweeted_status_timestamp  \\\n",
       "0                       NaN                        NaN   \n",
       "1                       NaN                        NaN   \n",
       "2                       NaN                        NaN   \n",
       "3                       NaN                        NaN   \n",
       "4                       NaN                        NaN   \n",
       "\n",
       "                                       expanded_urls  rating_numerator  \\\n",
       "0  https://twitter.com/dog_rates/status/892420643...                13   \n",
       "1  https://twitter.com/dog_rates/status/892177421...                13   \n",
       "2  https://twitter.com/dog_rates/status/891815181...                12   \n",
       "3  https://twitter.com/dog_rates/status/891689557...                13   \n",
       "4  https://twitter.com/dog_rates/status/891327558...                12   \n",
       "\n",
       "   rating_denominator      name doggo floofer pupper puppo  \n",
       "0                  10   Phineas  None    None   None  None  \n",
       "1                  10     Tilly  None    None   None  None  \n",
       "2                  10    Archie  None    None   None  None  \n",
       "3                  10     Darla  None    None   None  None  \n",
       "4                  10  Franklin  None    None   None  None  "
      ]
     },
     "execution_count": 2,
     "metadata": {},
     "output_type": "execute_result"
    }
   ],
   "source": [
    "twitter_archive = pd.read_csv('twitter-archive-enhanced.csv')\n",
    "\n",
    "twitter_archive.head()"
   ]
  },
  {
   "cell_type": "markdown",
   "metadata": {},
   "source": [
    "#### Reading the image predicitons tsv file using python's requests library."
   ]
  },
  {
   "cell_type": "code",
   "execution_count": 3,
   "metadata": {},
   "outputs": [],
   "source": [
    "url = 'https://d17h27t6h515a5.cloudfront.net/topher/2017/August/599fd2ad_image-predictions/image-predictions.tsv'\n",
    "response = requests.get(url)\n",
    "\n",
    "localfile = url.split('/')[-1]\n",
    "with open(localfile, mode='wb') as file:\n",
    "    file.write(response.content)"
   ]
  },
  {
   "cell_type": "code",
   "execution_count": 3,
   "metadata": {},
   "outputs": [
    {
     "data": {
      "text/html": [
       "<div>\n",
       "<style scoped>\n",
       "    .dataframe tbody tr th:only-of-type {\n",
       "        vertical-align: middle;\n",
       "    }\n",
       "\n",
       "    .dataframe tbody tr th {\n",
       "        vertical-align: top;\n",
       "    }\n",
       "\n",
       "    .dataframe thead th {\n",
       "        text-align: right;\n",
       "    }\n",
       "</style>\n",
       "<table border=\"1\" class=\"dataframe\">\n",
       "  <thead>\n",
       "    <tr style=\"text-align: right;\">\n",
       "      <th></th>\n",
       "      <th>tweet_id</th>\n",
       "      <th>jpg_url</th>\n",
       "      <th>img_num</th>\n",
       "      <th>p1</th>\n",
       "      <th>p1_conf</th>\n",
       "      <th>p1_dog</th>\n",
       "      <th>p2</th>\n",
       "      <th>p2_conf</th>\n",
       "      <th>p2_dog</th>\n",
       "      <th>p3</th>\n",
       "      <th>p3_conf</th>\n",
       "      <th>p3_dog</th>\n",
       "    </tr>\n",
       "  </thead>\n",
       "  <tbody>\n",
       "    <tr>\n",
       "      <th>0</th>\n",
       "      <td>666020888022790149</td>\n",
       "      <td>https://pbs.twimg.com/media/CT4udn0WwAA0aMy.jpg</td>\n",
       "      <td>1</td>\n",
       "      <td>Welsh_springer_spaniel</td>\n",
       "      <td>0.465074</td>\n",
       "      <td>True</td>\n",
       "      <td>collie</td>\n",
       "      <td>0.156665</td>\n",
       "      <td>True</td>\n",
       "      <td>Shetland_sheepdog</td>\n",
       "      <td>0.061428</td>\n",
       "      <td>True</td>\n",
       "    </tr>\n",
       "    <tr>\n",
       "      <th>1</th>\n",
       "      <td>666029285002620928</td>\n",
       "      <td>https://pbs.twimg.com/media/CT42GRgUYAA5iDo.jpg</td>\n",
       "      <td>1</td>\n",
       "      <td>redbone</td>\n",
       "      <td>0.506826</td>\n",
       "      <td>True</td>\n",
       "      <td>miniature_pinscher</td>\n",
       "      <td>0.074192</td>\n",
       "      <td>True</td>\n",
       "      <td>Rhodesian_ridgeback</td>\n",
       "      <td>0.072010</td>\n",
       "      <td>True</td>\n",
       "    </tr>\n",
       "    <tr>\n",
       "      <th>2</th>\n",
       "      <td>666033412701032449</td>\n",
       "      <td>https://pbs.twimg.com/media/CT4521TWwAEvMyu.jpg</td>\n",
       "      <td>1</td>\n",
       "      <td>German_shepherd</td>\n",
       "      <td>0.596461</td>\n",
       "      <td>True</td>\n",
       "      <td>malinois</td>\n",
       "      <td>0.138584</td>\n",
       "      <td>True</td>\n",
       "      <td>bloodhound</td>\n",
       "      <td>0.116197</td>\n",
       "      <td>True</td>\n",
       "    </tr>\n",
       "    <tr>\n",
       "      <th>3</th>\n",
       "      <td>666044226329800704</td>\n",
       "      <td>https://pbs.twimg.com/media/CT5Dr8HUEAA-lEu.jpg</td>\n",
       "      <td>1</td>\n",
       "      <td>Rhodesian_ridgeback</td>\n",
       "      <td>0.408143</td>\n",
       "      <td>True</td>\n",
       "      <td>redbone</td>\n",
       "      <td>0.360687</td>\n",
       "      <td>True</td>\n",
       "      <td>miniature_pinscher</td>\n",
       "      <td>0.222752</td>\n",
       "      <td>True</td>\n",
       "    </tr>\n",
       "    <tr>\n",
       "      <th>4</th>\n",
       "      <td>666049248165822465</td>\n",
       "      <td>https://pbs.twimg.com/media/CT5IQmsXIAAKY4A.jpg</td>\n",
       "      <td>1</td>\n",
       "      <td>miniature_pinscher</td>\n",
       "      <td>0.560311</td>\n",
       "      <td>True</td>\n",
       "      <td>Rottweiler</td>\n",
       "      <td>0.243682</td>\n",
       "      <td>True</td>\n",
       "      <td>Doberman</td>\n",
       "      <td>0.154629</td>\n",
       "      <td>True</td>\n",
       "    </tr>\n",
       "  </tbody>\n",
       "</table>\n",
       "</div>"
      ],
      "text/plain": [
       "             tweet_id                                          jpg_url  \\\n",
       "0  666020888022790149  https://pbs.twimg.com/media/CT4udn0WwAA0aMy.jpg   \n",
       "1  666029285002620928  https://pbs.twimg.com/media/CT42GRgUYAA5iDo.jpg   \n",
       "2  666033412701032449  https://pbs.twimg.com/media/CT4521TWwAEvMyu.jpg   \n",
       "3  666044226329800704  https://pbs.twimg.com/media/CT5Dr8HUEAA-lEu.jpg   \n",
       "4  666049248165822465  https://pbs.twimg.com/media/CT5IQmsXIAAKY4A.jpg   \n",
       "\n",
       "   img_num                      p1   p1_conf  p1_dog                  p2  \\\n",
       "0        1  Welsh_springer_spaniel  0.465074    True              collie   \n",
       "1        1                 redbone  0.506826    True  miniature_pinscher   \n",
       "2        1         German_shepherd  0.596461    True            malinois   \n",
       "3        1     Rhodesian_ridgeback  0.408143    True             redbone   \n",
       "4        1      miniature_pinscher  0.560311    True          Rottweiler   \n",
       "\n",
       "    p2_conf  p2_dog                   p3   p3_conf  p3_dog  \n",
       "0  0.156665    True    Shetland_sheepdog  0.061428    True  \n",
       "1  0.074192    True  Rhodesian_ridgeback  0.072010    True  \n",
       "2  0.138584    True           bloodhound  0.116197    True  \n",
       "3  0.360687    True   miniature_pinscher  0.222752    True  \n",
       "4  0.243682    True             Doberman  0.154629    True  "
      ]
     },
     "execution_count": 3,
     "metadata": {},
     "output_type": "execute_result"
    }
   ],
   "source": [
    "image_predictions = pd.read_csv('image-predictions.tsv', sep='\\t')\n",
    "\n",
    "image_predictions.head()"
   ]
  },
  {
   "cell_type": "markdown",
   "metadata": {},
   "source": [
    "#### Reading the twitter data using Twitter API (tweepy)"
   ]
  },
  {
   "cell_type": "code",
   "execution_count": 5,
   "metadata": {},
   "outputs": [],
   "source": [
    "consumer_key = 'J0UThDBO9siolq9pfZmcssywF'\n",
    "consumer_secret = 'Gl1Bn8rBO7ePznuUluN5Y7RnHRLuWfnrculT8sLu6knPDjrp7f'\n",
    "access_token = '1155634178811146245-P7ONVnV63xjqt6iXC2N2yi3jO836VL'\n",
    "access_secret = 'Ws32qLAgaHITsAhuaRQ3JN6yDxNaLfTMvCdzybRSZWcCN'\n",
    "\n",
    "auth = tweepy.OAuthHandler(consumer_key, consumer_secret)\n",
    "auth.set_access_token(access_token, access_secret)\n",
    "\n",
    "api = tweepy.API(auth, wait_on_rate_limit=True)"
   ]
  },
  {
   "cell_type": "code",
   "execution_count": 6,
   "metadata": {},
   "outputs": [
    {
     "data": {
      "text/plain": [
       "0    892420643555336193\n",
       "1    892177421306343426\n",
       "2    891815181378084864\n",
       "3    891689557279858688\n",
       "4    891327558926688256\n",
       "Name: tweet_id, dtype: int64"
      ]
     },
     "execution_count": 6,
     "metadata": {},
     "output_type": "execute_result"
    }
   ],
   "source": [
    "tweet_ids = twitter_archive.tweet_id\n",
    "\n",
    "tweet_ids.head()"
   ]
  },
  {
   "cell_type": "markdown",
   "metadata": {},
   "source": [
    "source: https://stackoverflow.com/questions/34379168/how-to-save-the-tweets-in-json-to-txt-file-in-python-3-4"
   ]
  },
  {
   "cell_type": "code",
   "execution_count": 7,
   "metadata": {},
   "outputs": [
    {
     "name": "stdout",
     "output_type": "stream",
     "text": [
      "[{'code': 144, 'message': 'No status found with that ID.'}]\n",
      "[{'code': 144, 'message': 'No status found with that ID.'}]\n",
      "[{'code': 144, 'message': 'No status found with that ID.'}]\n",
      "[{'code': 144, 'message': 'No status found with that ID.'}]\n",
      "[{'code': 144, 'message': 'No status found with that ID.'}]\n",
      "[{'code': 144, 'message': 'No status found with that ID.'}]\n",
      "[{'code': 144, 'message': 'No status found with that ID.'}]\n",
      "[{'code': 144, 'message': 'No status found with that ID.'}]\n",
      "[{'code': 144, 'message': 'No status found with that ID.'}]\n",
      "[{'code': 144, 'message': 'No status found with that ID.'}]\n",
      "[{'code': 144, 'message': 'No status found with that ID.'}]\n",
      "[{'code': 144, 'message': 'No status found with that ID.'}]\n",
      "[{'code': 144, 'message': 'No status found with that ID.'}]\n",
      "[{'code': 144, 'message': 'No status found with that ID.'}]\n",
      "[{'code': 144, 'message': 'No status found with that ID.'}]\n",
      "[{'code': 144, 'message': 'No status found with that ID.'}]\n",
      "[{'code': 144, 'message': 'No status found with that ID.'}]\n",
      "[{'code': 144, 'message': 'No status found with that ID.'}]\n",
      "[{'code': 144, 'message': 'No status found with that ID.'}]\n",
      "[{'code': 144, 'message': 'No status found with that ID.'}]\n",
      "[{'code': 144, 'message': 'No status found with that ID.'}]\n",
      "[{'code': 144, 'message': 'No status found with that ID.'}]\n",
      "[{'code': 144, 'message': 'No status found with that ID.'}]\n"
     ]
    }
   ],
   "source": [
    "Exception_list = []\n",
    "with open('tweet_json.txt', 'w', encoding='utf-8') as file:\n",
    "    for tweet_id in tweet_ids:\n",
    "        try:\n",
    "            tweet = api.get_status(tweet_id, tweet_mode='extended')        \n",
    "            json.dump(tweet._json, file)\n",
    "            file.write('\\n')\n",
    "        except Exception as e:\n",
    "            Exception_list.append(tweet_id)\n",
    "            print(e)"
   ]
  },
  {
   "cell_type": "code",
   "execution_count": 4,
   "metadata": {},
   "outputs": [],
   "source": [
    "tweet_json = pd.read_json('tweet_json.txt', orient='records', lines=True )"
   ]
  },
  {
   "cell_type": "code",
   "execution_count": 5,
   "metadata": {},
   "outputs": [
    {
     "data": {
      "text/plain": [
       "Index(['contributors', 'coordinates', 'created_at', 'display_text_range',\n",
       "       'entities', 'extended_entities', 'favorite_count', 'favorited',\n",
       "       'full_text', 'geo', 'id', 'id_str', 'in_reply_to_screen_name',\n",
       "       'in_reply_to_status_id', 'in_reply_to_status_id_str',\n",
       "       'in_reply_to_user_id', 'in_reply_to_user_id_str', 'is_quote_status',\n",
       "       'lang', 'place', 'possibly_sensitive', 'possibly_sensitive_appealable',\n",
       "       'quoted_status', 'quoted_status_id', 'quoted_status_id_str',\n",
       "       'quoted_status_permalink', 'retweet_count', 'retweeted',\n",
       "       'retweeted_status', 'source', 'truncated', 'user'],\n",
       "      dtype='object')"
      ]
     },
     "execution_count": 5,
     "metadata": {},
     "output_type": "execute_result"
    }
   ],
   "source": [
    "tweet_json.columns"
   ]
  },
  {
   "cell_type": "code",
   "execution_count": 6,
   "metadata": {},
   "outputs": [
    {
     "data": {
      "text/html": [
       "<div>\n",
       "<style scoped>\n",
       "    .dataframe tbody tr th:only-of-type {\n",
       "        vertical-align: middle;\n",
       "    }\n",
       "\n",
       "    .dataframe tbody tr th {\n",
       "        vertical-align: top;\n",
       "    }\n",
       "\n",
       "    .dataframe thead th {\n",
       "        text-align: right;\n",
       "    }\n",
       "</style>\n",
       "<table border=\"1\" class=\"dataframe\">\n",
       "  <thead>\n",
       "    <tr style=\"text-align: right;\">\n",
       "      <th></th>\n",
       "      <th>contributors</th>\n",
       "      <th>coordinates</th>\n",
       "      <th>created_at</th>\n",
       "      <th>display_text_range</th>\n",
       "      <th>entities</th>\n",
       "      <th>extended_entities</th>\n",
       "      <th>favorite_count</th>\n",
       "      <th>favorited</th>\n",
       "      <th>full_text</th>\n",
       "      <th>geo</th>\n",
       "      <th>...</th>\n",
       "      <th>quoted_status</th>\n",
       "      <th>quoted_status_id</th>\n",
       "      <th>quoted_status_id_str</th>\n",
       "      <th>quoted_status_permalink</th>\n",
       "      <th>retweet_count</th>\n",
       "      <th>retweeted</th>\n",
       "      <th>retweeted_status</th>\n",
       "      <th>source</th>\n",
       "      <th>truncated</th>\n",
       "      <th>user</th>\n",
       "    </tr>\n",
       "  </thead>\n",
       "  <tbody>\n",
       "    <tr>\n",
       "      <th>0</th>\n",
       "      <td>NaN</td>\n",
       "      <td>NaN</td>\n",
       "      <td>2017-08-01 16:23:56</td>\n",
       "      <td>[0, 85]</td>\n",
       "      <td>{'hashtags': [], 'symbols': [], 'user_mentions...</td>\n",
       "      <td>{'media': [{'id': 892420639486877696, 'id_str'...</td>\n",
       "      <td>37273</td>\n",
       "      <td>False</td>\n",
       "      <td>This is Phineas. He's a mystical boy. Only eve...</td>\n",
       "      <td>NaN</td>\n",
       "      <td>...</td>\n",
       "      <td>NaN</td>\n",
       "      <td>NaN</td>\n",
       "      <td>NaN</td>\n",
       "      <td>NaN</td>\n",
       "      <td>7984</td>\n",
       "      <td>False</td>\n",
       "      <td>NaN</td>\n",
       "      <td>&lt;a href=\"http://twitter.com/download/iphone\" r...</td>\n",
       "      <td>False</td>\n",
       "      <td>{'id': 4196983835, 'id_str': '4196983835', 'na...</td>\n",
       "    </tr>\n",
       "    <tr>\n",
       "      <th>1</th>\n",
       "      <td>NaN</td>\n",
       "      <td>NaN</td>\n",
       "      <td>2017-08-01 00:17:27</td>\n",
       "      <td>[0, 138]</td>\n",
       "      <td>{'hashtags': [], 'symbols': [], 'user_mentions...</td>\n",
       "      <td>{'media': [{'id': 892177413194625024, 'id_str'...</td>\n",
       "      <td>32049</td>\n",
       "      <td>False</td>\n",
       "      <td>This is Tilly. She's just checking pup on you....</td>\n",
       "      <td>NaN</td>\n",
       "      <td>...</td>\n",
       "      <td>NaN</td>\n",
       "      <td>NaN</td>\n",
       "      <td>NaN</td>\n",
       "      <td>NaN</td>\n",
       "      <td>5930</td>\n",
       "      <td>False</td>\n",
       "      <td>NaN</td>\n",
       "      <td>&lt;a href=\"http://twitter.com/download/iphone\" r...</td>\n",
       "      <td>False</td>\n",
       "      <td>{'id': 4196983835, 'id_str': '4196983835', 'na...</td>\n",
       "    </tr>\n",
       "    <tr>\n",
       "      <th>2</th>\n",
       "      <td>NaN</td>\n",
       "      <td>NaN</td>\n",
       "      <td>2017-07-31 00:18:03</td>\n",
       "      <td>[0, 121]</td>\n",
       "      <td>{'hashtags': [], 'symbols': [], 'user_mentions...</td>\n",
       "      <td>{'media': [{'id': 891815175371796480, 'id_str'...</td>\n",
       "      <td>24148</td>\n",
       "      <td>False</td>\n",
       "      <td>This is Archie. He is a rare Norwegian Pouncin...</td>\n",
       "      <td>NaN</td>\n",
       "      <td>...</td>\n",
       "      <td>NaN</td>\n",
       "      <td>NaN</td>\n",
       "      <td>NaN</td>\n",
       "      <td>NaN</td>\n",
       "      <td>3917</td>\n",
       "      <td>False</td>\n",
       "      <td>NaN</td>\n",
       "      <td>&lt;a href=\"http://twitter.com/download/iphone\" r...</td>\n",
       "      <td>False</td>\n",
       "      <td>{'id': 4196983835, 'id_str': '4196983835', 'na...</td>\n",
       "    </tr>\n",
       "    <tr>\n",
       "      <th>3</th>\n",
       "      <td>NaN</td>\n",
       "      <td>NaN</td>\n",
       "      <td>2017-07-30 15:58:51</td>\n",
       "      <td>[0, 79]</td>\n",
       "      <td>{'hashtags': [], 'symbols': [], 'user_mentions...</td>\n",
       "      <td>{'media': [{'id': 891689552724799489, 'id_str'...</td>\n",
       "      <td>40589</td>\n",
       "      <td>False</td>\n",
       "      <td>This is Darla. She commenced a snooze mid meal...</td>\n",
       "      <td>NaN</td>\n",
       "      <td>...</td>\n",
       "      <td>NaN</td>\n",
       "      <td>NaN</td>\n",
       "      <td>NaN</td>\n",
       "      <td>NaN</td>\n",
       "      <td>8142</td>\n",
       "      <td>False</td>\n",
       "      <td>NaN</td>\n",
       "      <td>&lt;a href=\"http://twitter.com/download/iphone\" r...</td>\n",
       "      <td>False</td>\n",
       "      <td>{'id': 4196983835, 'id_str': '4196983835', 'na...</td>\n",
       "    </tr>\n",
       "    <tr>\n",
       "      <th>4</th>\n",
       "      <td>NaN</td>\n",
       "      <td>NaN</td>\n",
       "      <td>2017-07-29 16:00:24</td>\n",
       "      <td>[0, 138]</td>\n",
       "      <td>{'hashtags': [{'text': 'BarkWeek', 'indices': ...</td>\n",
       "      <td>{'media': [{'id': 891327551943041024, 'id_str'...</td>\n",
       "      <td>38826</td>\n",
       "      <td>False</td>\n",
       "      <td>This is Franklin. He would like you to stop ca...</td>\n",
       "      <td>NaN</td>\n",
       "      <td>...</td>\n",
       "      <td>NaN</td>\n",
       "      <td>NaN</td>\n",
       "      <td>NaN</td>\n",
       "      <td>NaN</td>\n",
       "      <td>8816</td>\n",
       "      <td>False</td>\n",
       "      <td>NaN</td>\n",
       "      <td>&lt;a href=\"http://twitter.com/download/iphone\" r...</td>\n",
       "      <td>False</td>\n",
       "      <td>{'id': 4196983835, 'id_str': '4196983835', 'na...</td>\n",
       "    </tr>\n",
       "  </tbody>\n",
       "</table>\n",
       "<p>5 rows × 32 columns</p>\n",
       "</div>"
      ],
      "text/plain": [
       "   contributors  coordinates          created_at display_text_range  \\\n",
       "0           NaN          NaN 2017-08-01 16:23:56            [0, 85]   \n",
       "1           NaN          NaN 2017-08-01 00:17:27           [0, 138]   \n",
       "2           NaN          NaN 2017-07-31 00:18:03           [0, 121]   \n",
       "3           NaN          NaN 2017-07-30 15:58:51            [0, 79]   \n",
       "4           NaN          NaN 2017-07-29 16:00:24           [0, 138]   \n",
       "\n",
       "                                            entities  \\\n",
       "0  {'hashtags': [], 'symbols': [], 'user_mentions...   \n",
       "1  {'hashtags': [], 'symbols': [], 'user_mentions...   \n",
       "2  {'hashtags': [], 'symbols': [], 'user_mentions...   \n",
       "3  {'hashtags': [], 'symbols': [], 'user_mentions...   \n",
       "4  {'hashtags': [{'text': 'BarkWeek', 'indices': ...   \n",
       "\n",
       "                                   extended_entities  favorite_count  \\\n",
       "0  {'media': [{'id': 892420639486877696, 'id_str'...           37273   \n",
       "1  {'media': [{'id': 892177413194625024, 'id_str'...           32049   \n",
       "2  {'media': [{'id': 891815175371796480, 'id_str'...           24148   \n",
       "3  {'media': [{'id': 891689552724799489, 'id_str'...           40589   \n",
       "4  {'media': [{'id': 891327551943041024, 'id_str'...           38826   \n",
       "\n",
       "   favorited                                          full_text  geo  ...  \\\n",
       "0      False  This is Phineas. He's a mystical boy. Only eve...  NaN  ...   \n",
       "1      False  This is Tilly. She's just checking pup on you....  NaN  ...   \n",
       "2      False  This is Archie. He is a rare Norwegian Pouncin...  NaN  ...   \n",
       "3      False  This is Darla. She commenced a snooze mid meal...  NaN  ...   \n",
       "4      False  This is Franklin. He would like you to stop ca...  NaN  ...   \n",
       "\n",
       "   quoted_status  quoted_status_id quoted_status_id_str  \\\n",
       "0            NaN               NaN                  NaN   \n",
       "1            NaN               NaN                  NaN   \n",
       "2            NaN               NaN                  NaN   \n",
       "3            NaN               NaN                  NaN   \n",
       "4            NaN               NaN                  NaN   \n",
       "\n",
       "   quoted_status_permalink  retweet_count  retweeted  retweeted_status  \\\n",
       "0                      NaN           7984      False               NaN   \n",
       "1                      NaN           5930      False               NaN   \n",
       "2                      NaN           3917      False               NaN   \n",
       "3                      NaN           8142      False               NaN   \n",
       "4                      NaN           8816      False               NaN   \n",
       "\n",
       "                                              source truncated  \\\n",
       "0  <a href=\"http://twitter.com/download/iphone\" r...     False   \n",
       "1  <a href=\"http://twitter.com/download/iphone\" r...     False   \n",
       "2  <a href=\"http://twitter.com/download/iphone\" r...     False   \n",
       "3  <a href=\"http://twitter.com/download/iphone\" r...     False   \n",
       "4  <a href=\"http://twitter.com/download/iphone\" r...     False   \n",
       "\n",
       "                                                user  \n",
       "0  {'id': 4196983835, 'id_str': '4196983835', 'na...  \n",
       "1  {'id': 4196983835, 'id_str': '4196983835', 'na...  \n",
       "2  {'id': 4196983835, 'id_str': '4196983835', 'na...  \n",
       "3  {'id': 4196983835, 'id_str': '4196983835', 'na...  \n",
       "4  {'id': 4196983835, 'id_str': '4196983835', 'na...  \n",
       "\n",
       "[5 rows x 32 columns]"
      ]
     },
     "execution_count": 6,
     "metadata": {},
     "output_type": "execute_result"
    }
   ],
   "source": [
    "tweet_json.head()"
   ]
  },
  {
   "cell_type": "code",
   "execution_count": 7,
   "metadata": {},
   "outputs": [
    {
     "data": {
      "text/html": [
       "<div>\n",
       "<style scoped>\n",
       "    .dataframe tbody tr th:only-of-type {\n",
       "        vertical-align: middle;\n",
       "    }\n",
       "\n",
       "    .dataframe tbody tr th {\n",
       "        vertical-align: top;\n",
       "    }\n",
       "\n",
       "    .dataframe thead th {\n",
       "        text-align: right;\n",
       "    }\n",
       "</style>\n",
       "<table border=\"1\" class=\"dataframe\">\n",
       "  <thead>\n",
       "    <tr style=\"text-align: right;\">\n",
       "      <th></th>\n",
       "      <th>tweet_id</th>\n",
       "      <th>retweet_count</th>\n",
       "      <th>favorite_count</th>\n",
       "      <th>retweeted</th>\n",
       "      <th>display_text_range</th>\n",
       "    </tr>\n",
       "  </thead>\n",
       "  <tbody>\n",
       "    <tr>\n",
       "      <th>0</th>\n",
       "      <td>892420643555336193</td>\n",
       "      <td>7984</td>\n",
       "      <td>37273</td>\n",
       "      <td>False</td>\n",
       "      <td>[0, 85]</td>\n",
       "    </tr>\n",
       "    <tr>\n",
       "      <th>1</th>\n",
       "      <td>892177421306343426</td>\n",
       "      <td>5930</td>\n",
       "      <td>32049</td>\n",
       "      <td>False</td>\n",
       "      <td>[0, 138]</td>\n",
       "    </tr>\n",
       "    <tr>\n",
       "      <th>2</th>\n",
       "      <td>891815181378084864</td>\n",
       "      <td>3917</td>\n",
       "      <td>24148</td>\n",
       "      <td>False</td>\n",
       "      <td>[0, 121]</td>\n",
       "    </tr>\n",
       "    <tr>\n",
       "      <th>3</th>\n",
       "      <td>891689557279858688</td>\n",
       "      <td>8142</td>\n",
       "      <td>40589</td>\n",
       "      <td>False</td>\n",
       "      <td>[0, 79]</td>\n",
       "    </tr>\n",
       "    <tr>\n",
       "      <th>4</th>\n",
       "      <td>891327558926688256</td>\n",
       "      <td>8816</td>\n",
       "      <td>38826</td>\n",
       "      <td>False</td>\n",
       "      <td>[0, 138]</td>\n",
       "    </tr>\n",
       "  </tbody>\n",
       "</table>\n",
       "</div>"
      ],
      "text/plain": [
       "             tweet_id  retweet_count  favorite_count  retweeted  \\\n",
       "0  892420643555336193           7984           37273      False   \n",
       "1  892177421306343426           5930           32049      False   \n",
       "2  891815181378084864           3917           24148      False   \n",
       "3  891689557279858688           8142           40589      False   \n",
       "4  891327558926688256           8816           38826      False   \n",
       "\n",
       "  display_text_range  \n",
       "0            [0, 85]  \n",
       "1           [0, 138]  \n",
       "2           [0, 121]  \n",
       "3            [0, 79]  \n",
       "4           [0, 138]  "
      ]
     },
     "execution_count": 7,
     "metadata": {},
     "output_type": "execute_result"
    }
   ],
   "source": [
    "tweet_df = tweet_json[['id', 'retweet_count', 'favorite_count', 'retweeted', 'display_text_range']]\n",
    "\n",
    "tweet_df = tweet_df.rename(columns={'id':'tweet_id'})\n",
    "\n",
    "tweet_df.head()"
   ]
  },
  {
   "cell_type": "markdown",
   "metadata": {},
   "source": [
    "## Assessing data"
   ]
  },
  {
   "cell_type": "code",
   "execution_count": 8,
   "metadata": {},
   "outputs": [
    {
     "data": {
      "text/html": [
       "<div>\n",
       "<style scoped>\n",
       "    .dataframe tbody tr th:only-of-type {\n",
       "        vertical-align: middle;\n",
       "    }\n",
       "\n",
       "    .dataframe tbody tr th {\n",
       "        vertical-align: top;\n",
       "    }\n",
       "\n",
       "    .dataframe thead th {\n",
       "        text-align: right;\n",
       "    }\n",
       "</style>\n",
       "<table border=\"1\" class=\"dataframe\">\n",
       "  <thead>\n",
       "    <tr style=\"text-align: right;\">\n",
       "      <th></th>\n",
       "      <th>tweet_id</th>\n",
       "      <th>in_reply_to_status_id</th>\n",
       "      <th>in_reply_to_user_id</th>\n",
       "      <th>timestamp</th>\n",
       "      <th>source</th>\n",
       "      <th>text</th>\n",
       "      <th>retweeted_status_id</th>\n",
       "      <th>retweeted_status_user_id</th>\n",
       "      <th>retweeted_status_timestamp</th>\n",
       "      <th>expanded_urls</th>\n",
       "      <th>rating_numerator</th>\n",
       "      <th>rating_denominator</th>\n",
       "      <th>name</th>\n",
       "      <th>doggo</th>\n",
       "      <th>floofer</th>\n",
       "      <th>pupper</th>\n",
       "      <th>puppo</th>\n",
       "    </tr>\n",
       "  </thead>\n",
       "  <tbody>\n",
       "    <tr>\n",
       "      <th>0</th>\n",
       "      <td>892420643555336193</td>\n",
       "      <td>NaN</td>\n",
       "      <td>NaN</td>\n",
       "      <td>2017-08-01 16:23:56 +0000</td>\n",
       "      <td>&lt;a href=\"http://twitter.com/download/iphone\" r...</td>\n",
       "      <td>This is Phineas. He's a mystical boy. Only eve...</td>\n",
       "      <td>NaN</td>\n",
       "      <td>NaN</td>\n",
       "      <td>NaN</td>\n",
       "      <td>https://twitter.com/dog_rates/status/892420643...</td>\n",
       "      <td>13</td>\n",
       "      <td>10</td>\n",
       "      <td>Phineas</td>\n",
       "      <td>None</td>\n",
       "      <td>None</td>\n",
       "      <td>None</td>\n",
       "      <td>None</td>\n",
       "    </tr>\n",
       "    <tr>\n",
       "      <th>1</th>\n",
       "      <td>892177421306343426</td>\n",
       "      <td>NaN</td>\n",
       "      <td>NaN</td>\n",
       "      <td>2017-08-01 00:17:27 +0000</td>\n",
       "      <td>&lt;a href=\"http://twitter.com/download/iphone\" r...</td>\n",
       "      <td>This is Tilly. She's just checking pup on you....</td>\n",
       "      <td>NaN</td>\n",
       "      <td>NaN</td>\n",
       "      <td>NaN</td>\n",
       "      <td>https://twitter.com/dog_rates/status/892177421...</td>\n",
       "      <td>13</td>\n",
       "      <td>10</td>\n",
       "      <td>Tilly</td>\n",
       "      <td>None</td>\n",
       "      <td>None</td>\n",
       "      <td>None</td>\n",
       "      <td>None</td>\n",
       "    </tr>\n",
       "    <tr>\n",
       "      <th>2</th>\n",
       "      <td>891815181378084864</td>\n",
       "      <td>NaN</td>\n",
       "      <td>NaN</td>\n",
       "      <td>2017-07-31 00:18:03 +0000</td>\n",
       "      <td>&lt;a href=\"http://twitter.com/download/iphone\" r...</td>\n",
       "      <td>This is Archie. He is a rare Norwegian Pouncin...</td>\n",
       "      <td>NaN</td>\n",
       "      <td>NaN</td>\n",
       "      <td>NaN</td>\n",
       "      <td>https://twitter.com/dog_rates/status/891815181...</td>\n",
       "      <td>12</td>\n",
       "      <td>10</td>\n",
       "      <td>Archie</td>\n",
       "      <td>None</td>\n",
       "      <td>None</td>\n",
       "      <td>None</td>\n",
       "      <td>None</td>\n",
       "    </tr>\n",
       "    <tr>\n",
       "      <th>3</th>\n",
       "      <td>891689557279858688</td>\n",
       "      <td>NaN</td>\n",
       "      <td>NaN</td>\n",
       "      <td>2017-07-30 15:58:51 +0000</td>\n",
       "      <td>&lt;a href=\"http://twitter.com/download/iphone\" r...</td>\n",
       "      <td>This is Darla. She commenced a snooze mid meal...</td>\n",
       "      <td>NaN</td>\n",
       "      <td>NaN</td>\n",
       "      <td>NaN</td>\n",
       "      <td>https://twitter.com/dog_rates/status/891689557...</td>\n",
       "      <td>13</td>\n",
       "      <td>10</td>\n",
       "      <td>Darla</td>\n",
       "      <td>None</td>\n",
       "      <td>None</td>\n",
       "      <td>None</td>\n",
       "      <td>None</td>\n",
       "    </tr>\n",
       "    <tr>\n",
       "      <th>4</th>\n",
       "      <td>891327558926688256</td>\n",
       "      <td>NaN</td>\n",
       "      <td>NaN</td>\n",
       "      <td>2017-07-29 16:00:24 +0000</td>\n",
       "      <td>&lt;a href=\"http://twitter.com/download/iphone\" r...</td>\n",
       "      <td>This is Franklin. He would like you to stop ca...</td>\n",
       "      <td>NaN</td>\n",
       "      <td>NaN</td>\n",
       "      <td>NaN</td>\n",
       "      <td>https://twitter.com/dog_rates/status/891327558...</td>\n",
       "      <td>12</td>\n",
       "      <td>10</td>\n",
       "      <td>Franklin</td>\n",
       "      <td>None</td>\n",
       "      <td>None</td>\n",
       "      <td>None</td>\n",
       "      <td>None</td>\n",
       "    </tr>\n",
       "  </tbody>\n",
       "</table>\n",
       "</div>"
      ],
      "text/plain": [
       "             tweet_id  in_reply_to_status_id  in_reply_to_user_id  \\\n",
       "0  892420643555336193                    NaN                  NaN   \n",
       "1  892177421306343426                    NaN                  NaN   \n",
       "2  891815181378084864                    NaN                  NaN   \n",
       "3  891689557279858688                    NaN                  NaN   \n",
       "4  891327558926688256                    NaN                  NaN   \n",
       "\n",
       "                   timestamp  \\\n",
       "0  2017-08-01 16:23:56 +0000   \n",
       "1  2017-08-01 00:17:27 +0000   \n",
       "2  2017-07-31 00:18:03 +0000   \n",
       "3  2017-07-30 15:58:51 +0000   \n",
       "4  2017-07-29 16:00:24 +0000   \n",
       "\n",
       "                                              source  \\\n",
       "0  <a href=\"http://twitter.com/download/iphone\" r...   \n",
       "1  <a href=\"http://twitter.com/download/iphone\" r...   \n",
       "2  <a href=\"http://twitter.com/download/iphone\" r...   \n",
       "3  <a href=\"http://twitter.com/download/iphone\" r...   \n",
       "4  <a href=\"http://twitter.com/download/iphone\" r...   \n",
       "\n",
       "                                                text  retweeted_status_id  \\\n",
       "0  This is Phineas. He's a mystical boy. Only eve...                  NaN   \n",
       "1  This is Tilly. She's just checking pup on you....                  NaN   \n",
       "2  This is Archie. He is a rare Norwegian Pouncin...                  NaN   \n",
       "3  This is Darla. She commenced a snooze mid meal...                  NaN   \n",
       "4  This is Franklin. He would like you to stop ca...                  NaN   \n",
       "\n",
       "   retweeted_status_user_id retweeted_status_timestamp  \\\n",
       "0                       NaN                        NaN   \n",
       "1                       NaN                        NaN   \n",
       "2                       NaN                        NaN   \n",
       "3                       NaN                        NaN   \n",
       "4                       NaN                        NaN   \n",
       "\n",
       "                                       expanded_urls  rating_numerator  \\\n",
       "0  https://twitter.com/dog_rates/status/892420643...                13   \n",
       "1  https://twitter.com/dog_rates/status/892177421...                13   \n",
       "2  https://twitter.com/dog_rates/status/891815181...                12   \n",
       "3  https://twitter.com/dog_rates/status/891689557...                13   \n",
       "4  https://twitter.com/dog_rates/status/891327558...                12   \n",
       "\n",
       "   rating_denominator      name doggo floofer pupper puppo  \n",
       "0                  10   Phineas  None    None   None  None  \n",
       "1                  10     Tilly  None    None   None  None  \n",
       "2                  10    Archie  None    None   None  None  \n",
       "3                  10     Darla  None    None   None  None  \n",
       "4                  10  Franklin  None    None   None  None  "
      ]
     },
     "execution_count": 8,
     "metadata": {},
     "output_type": "execute_result"
    }
   ],
   "source": [
    "twitter_archive.head()"
   ]
  },
  {
   "cell_type": "code",
   "execution_count": 9,
   "metadata": {},
   "outputs": [
    {
     "name": "stdout",
     "output_type": "stream",
     "text": [
      "<class 'pandas.core.frame.DataFrame'>\n",
      "RangeIndex: 2356 entries, 0 to 2355\n",
      "Data columns (total 17 columns):\n",
      "tweet_id                      2356 non-null int64\n",
      "in_reply_to_status_id         78 non-null float64\n",
      "in_reply_to_user_id           78 non-null float64\n",
      "timestamp                     2356 non-null object\n",
      "source                        2356 non-null object\n",
      "text                          2356 non-null object\n",
      "retweeted_status_id           181 non-null float64\n",
      "retweeted_status_user_id      181 non-null float64\n",
      "retweeted_status_timestamp    181 non-null object\n",
      "expanded_urls                 2297 non-null object\n",
      "rating_numerator              2356 non-null int64\n",
      "rating_denominator            2356 non-null int64\n",
      "name                          2356 non-null object\n",
      "doggo                         2356 non-null object\n",
      "floofer                       2356 non-null object\n",
      "pupper                        2356 non-null object\n",
      "puppo                         2356 non-null object\n",
      "dtypes: float64(4), int64(3), object(10)\n",
      "memory usage: 313.0+ KB\n"
     ]
    }
   ],
   "source": [
    "twitter_archive.info()"
   ]
  },
  {
   "cell_type": "code",
   "execution_count": 10,
   "metadata": {},
   "outputs": [
    {
     "data": {
      "text/plain": [
       "0"
      ]
     },
     "execution_count": 10,
     "metadata": {},
     "output_type": "execute_result"
    }
   ],
   "source": [
    "twitter_archive.duplicated().sum()"
   ]
  },
  {
   "cell_type": "markdown",
   "metadata": {},
   "source": [
    "There are no duplicate values in this dataset."
   ]
  },
  {
   "cell_type": "code",
   "execution_count": 11,
   "metadata": {},
   "outputs": [
    {
     "data": {
      "text/plain": [
       "tweet_id                         0\n",
       "in_reply_to_status_id         2278\n",
       "in_reply_to_user_id           2278\n",
       "timestamp                        0\n",
       "source                           0\n",
       "text                             0\n",
       "retweeted_status_id           2175\n",
       "retweeted_status_user_id      2175\n",
       "retweeted_status_timestamp    2175\n",
       "expanded_urls                   59\n",
       "rating_numerator                 0\n",
       "rating_denominator               0\n",
       "name                             0\n",
       "doggo                            0\n",
       "floofer                          0\n",
       "pupper                           0\n",
       "puppo                            0\n",
       "dtype: int64"
      ]
     },
     "execution_count": 11,
     "metadata": {},
     "output_type": "execute_result"
    }
   ],
   "source": [
    "twitter_archive.isnull().sum()"
   ]
  },
  {
   "cell_type": "code",
   "execution_count": 12,
   "metadata": {},
   "outputs": [
    {
     "data": {
      "text/plain": [
       "0              NaN\n",
       "1              NaN\n",
       "2              NaN\n",
       "3              NaN\n",
       "4              NaN\n",
       "5              NaN\n",
       "6              NaN\n",
       "7              NaN\n",
       "8              NaN\n",
       "9              NaN\n",
       "10             NaN\n",
       "11             NaN\n",
       "12             NaN\n",
       "13             NaN\n",
       "14             NaN\n",
       "15             NaN\n",
       "16             NaN\n",
       "17             NaN\n",
       "18             NaN\n",
       "19             NaN\n",
       "20             NaN\n",
       "21             NaN\n",
       "22             NaN\n",
       "23             NaN\n",
       "24             NaN\n",
       "25             NaN\n",
       "26             NaN\n",
       "27             NaN\n",
       "28             NaN\n",
       "29             NaN\n",
       "30    8.862664e+17\n",
       "31             NaN\n",
       "32             NaN\n",
       "33             NaN\n",
       "34             NaN\n",
       "Name: in_reply_to_status_id, dtype: float64"
      ]
     },
     "execution_count": 12,
     "metadata": {},
     "output_type": "execute_result"
    }
   ],
   "source": [
    "twitter_archive.in_reply_to_status_id.head(35)"
   ]
  },
  {
   "cell_type": "code",
   "execution_count": 13,
   "metadata": {},
   "outputs": [
    {
     "data": {
      "text/plain": [
       "0              NaN\n",
       "1              NaN\n",
       "2              NaN\n",
       "3              NaN\n",
       "4              NaN\n",
       "5              NaN\n",
       "6              NaN\n",
       "7              NaN\n",
       "8              NaN\n",
       "9              NaN\n",
       "10             NaN\n",
       "11             NaN\n",
       "12             NaN\n",
       "13             NaN\n",
       "14             NaN\n",
       "15             NaN\n",
       "16             NaN\n",
       "17             NaN\n",
       "18             NaN\n",
       "19             NaN\n",
       "20             NaN\n",
       "21             NaN\n",
       "22             NaN\n",
       "23             NaN\n",
       "24             NaN\n",
       "25             NaN\n",
       "26             NaN\n",
       "27             NaN\n",
       "28             NaN\n",
       "29             NaN\n",
       "30    2.281182e+09\n",
       "31             NaN\n",
       "32             NaN\n",
       "33             NaN\n",
       "34             NaN\n",
       "Name: in_reply_to_user_id, dtype: float64"
      ]
     },
     "execution_count": 13,
     "metadata": {},
     "output_type": "execute_result"
    }
   ],
   "source": [
    "twitter_archive.in_reply_to_user_id.head(35)"
   ]
  },
  {
   "cell_type": "code",
   "execution_count": 14,
   "metadata": {},
   "outputs": [
    {
     "data": {
      "text/plain": [
       "dtype('O')"
      ]
     },
     "execution_count": 14,
     "metadata": {},
     "output_type": "execute_result"
    }
   ],
   "source": [
    "twitter_archive.timestamp.dtype"
   ]
  },
  {
   "cell_type": "code",
   "execution_count": 15,
   "metadata": {},
   "outputs": [
    {
     "data": {
      "text/plain": [
       "1093    Everybody stop what you're doing and watch the...\n",
       "Name: text, dtype: object"
      ]
     },
     "execution_count": 15,
     "metadata": {},
     "output_type": "execute_result"
    }
   ],
   "source": [
    "twitter_archive.text.sample()"
   ]
  },
  {
   "cell_type": "code",
   "execution_count": 16,
   "metadata": {},
   "outputs": [
    {
     "data": {
      "text/plain": [
       "None     2259\n",
       "doggo      97\n",
       "Name: doggo, dtype: int64"
      ]
     },
     "execution_count": 16,
     "metadata": {},
     "output_type": "execute_result"
    }
   ],
   "source": [
    "twitter_archive.doggo.value_counts()"
   ]
  },
  {
   "cell_type": "code",
   "execution_count": 17,
   "metadata": {},
   "outputs": [
    {
     "data": {
      "text/plain": [
       "None       2346\n",
       "floofer      10\n",
       "Name: floofer, dtype: int64"
      ]
     },
     "execution_count": 17,
     "metadata": {},
     "output_type": "execute_result"
    }
   ],
   "source": [
    "twitter_archive.floofer.value_counts()"
   ]
  },
  {
   "cell_type": "code",
   "execution_count": 18,
   "metadata": {},
   "outputs": [
    {
     "data": {
      "text/plain": [
       "None      2099\n",
       "pupper     257\n",
       "Name: pupper, dtype: int64"
      ]
     },
     "execution_count": 18,
     "metadata": {},
     "output_type": "execute_result"
    }
   ],
   "source": [
    "twitter_archive.pupper.value_counts()"
   ]
  },
  {
   "cell_type": "code",
   "execution_count": 19,
   "metadata": {},
   "outputs": [
    {
     "data": {
      "text/plain": [
       "None     2326\n",
       "puppo      30\n",
       "Name: puppo, dtype: int64"
      ]
     },
     "execution_count": 19,
     "metadata": {},
     "output_type": "execute_result"
    }
   ],
   "source": [
    "twitter_archive.puppo.value_counts()"
   ]
  },
  {
   "cell_type": "code",
   "execution_count": 20,
   "metadata": {},
   "outputs": [
    {
     "data": {
      "text/plain": [
       "2075"
      ]
     },
     "execution_count": 20,
     "metadata": {},
     "output_type": "execute_result"
    }
   ],
   "source": [
    "test = twitter_archive[twitter_archive.tweet_id.isin(image_predictions.tweet_id)]\n",
    "\n",
    "len(test)"
   ]
  },
  {
   "cell_type": "markdown",
   "metadata": {},
   "source": [
    "This means there are several tweet_ids not present in image_prediction data."
   ]
  },
  {
   "cell_type": "code",
   "execution_count": 21,
   "metadata": {},
   "outputs": [
    {
     "data": {
      "text/plain": [
       "181"
      ]
     },
     "execution_count": 21,
     "metadata": {},
     "output_type": "execute_result"
    }
   ],
   "source": [
    "twitter_archive.retweeted_status_id.notnull().sum()"
   ]
  },
  {
   "cell_type": "markdown",
   "metadata": {},
   "source": [
    "This means there are 181 retweeted entries in this dataframe which should not be there."
   ]
  },
  {
   "cell_type": "code",
   "execution_count": 22,
   "metadata": {},
   "outputs": [
    {
     "name": "stdout",
     "output_type": "stream",
     "text": [
      "<class 'pandas.core.frame.DataFrame'>\n",
      "RangeIndex: 2075 entries, 0 to 2074\n",
      "Data columns (total 12 columns):\n",
      "tweet_id    2075 non-null int64\n",
      "jpg_url     2075 non-null object\n",
      "img_num     2075 non-null int64\n",
      "p1          2075 non-null object\n",
      "p1_conf     2075 non-null float64\n",
      "p1_dog      2075 non-null bool\n",
      "p2          2075 non-null object\n",
      "p2_conf     2075 non-null float64\n",
      "p2_dog      2075 non-null bool\n",
      "p3          2075 non-null object\n",
      "p3_conf     2075 non-null float64\n",
      "p3_dog      2075 non-null bool\n",
      "dtypes: bool(3), float64(3), int64(2), object(4)\n",
      "memory usage: 152.1+ KB\n"
     ]
    }
   ],
   "source": [
    "image_predictions.info()"
   ]
  },
  {
   "cell_type": "code",
   "execution_count": 23,
   "metadata": {},
   "outputs": [
    {
     "data": {
      "text/html": [
       "<div>\n",
       "<style scoped>\n",
       "    .dataframe tbody tr th:only-of-type {\n",
       "        vertical-align: middle;\n",
       "    }\n",
       "\n",
       "    .dataframe tbody tr th {\n",
       "        vertical-align: top;\n",
       "    }\n",
       "\n",
       "    .dataframe thead th {\n",
       "        text-align: right;\n",
       "    }\n",
       "</style>\n",
       "<table border=\"1\" class=\"dataframe\">\n",
       "  <thead>\n",
       "    <tr style=\"text-align: right;\">\n",
       "      <th></th>\n",
       "      <th>tweet_id</th>\n",
       "      <th>jpg_url</th>\n",
       "      <th>img_num</th>\n",
       "      <th>p1</th>\n",
       "      <th>p1_conf</th>\n",
       "      <th>p1_dog</th>\n",
       "      <th>p2</th>\n",
       "      <th>p2_conf</th>\n",
       "      <th>p2_dog</th>\n",
       "      <th>p3</th>\n",
       "      <th>p3_conf</th>\n",
       "      <th>p3_dog</th>\n",
       "    </tr>\n",
       "  </thead>\n",
       "  <tbody>\n",
       "    <tr>\n",
       "      <th>0</th>\n",
       "      <td>666020888022790149</td>\n",
       "      <td>https://pbs.twimg.com/media/CT4udn0WwAA0aMy.jpg</td>\n",
       "      <td>1</td>\n",
       "      <td>Welsh_springer_spaniel</td>\n",
       "      <td>0.465074</td>\n",
       "      <td>True</td>\n",
       "      <td>collie</td>\n",
       "      <td>0.156665</td>\n",
       "      <td>True</td>\n",
       "      <td>Shetland_sheepdog</td>\n",
       "      <td>0.061428</td>\n",
       "      <td>True</td>\n",
       "    </tr>\n",
       "    <tr>\n",
       "      <th>1</th>\n",
       "      <td>666029285002620928</td>\n",
       "      <td>https://pbs.twimg.com/media/CT42GRgUYAA5iDo.jpg</td>\n",
       "      <td>1</td>\n",
       "      <td>redbone</td>\n",
       "      <td>0.506826</td>\n",
       "      <td>True</td>\n",
       "      <td>miniature_pinscher</td>\n",
       "      <td>0.074192</td>\n",
       "      <td>True</td>\n",
       "      <td>Rhodesian_ridgeback</td>\n",
       "      <td>0.072010</td>\n",
       "      <td>True</td>\n",
       "    </tr>\n",
       "    <tr>\n",
       "      <th>2</th>\n",
       "      <td>666033412701032449</td>\n",
       "      <td>https://pbs.twimg.com/media/CT4521TWwAEvMyu.jpg</td>\n",
       "      <td>1</td>\n",
       "      <td>German_shepherd</td>\n",
       "      <td>0.596461</td>\n",
       "      <td>True</td>\n",
       "      <td>malinois</td>\n",
       "      <td>0.138584</td>\n",
       "      <td>True</td>\n",
       "      <td>bloodhound</td>\n",
       "      <td>0.116197</td>\n",
       "      <td>True</td>\n",
       "    </tr>\n",
       "    <tr>\n",
       "      <th>3</th>\n",
       "      <td>666044226329800704</td>\n",
       "      <td>https://pbs.twimg.com/media/CT5Dr8HUEAA-lEu.jpg</td>\n",
       "      <td>1</td>\n",
       "      <td>Rhodesian_ridgeback</td>\n",
       "      <td>0.408143</td>\n",
       "      <td>True</td>\n",
       "      <td>redbone</td>\n",
       "      <td>0.360687</td>\n",
       "      <td>True</td>\n",
       "      <td>miniature_pinscher</td>\n",
       "      <td>0.222752</td>\n",
       "      <td>True</td>\n",
       "    </tr>\n",
       "    <tr>\n",
       "      <th>4</th>\n",
       "      <td>666049248165822465</td>\n",
       "      <td>https://pbs.twimg.com/media/CT5IQmsXIAAKY4A.jpg</td>\n",
       "      <td>1</td>\n",
       "      <td>miniature_pinscher</td>\n",
       "      <td>0.560311</td>\n",
       "      <td>True</td>\n",
       "      <td>Rottweiler</td>\n",
       "      <td>0.243682</td>\n",
       "      <td>True</td>\n",
       "      <td>Doberman</td>\n",
       "      <td>0.154629</td>\n",
       "      <td>True</td>\n",
       "    </tr>\n",
       "  </tbody>\n",
       "</table>\n",
       "</div>"
      ],
      "text/plain": [
       "             tweet_id                                          jpg_url  \\\n",
       "0  666020888022790149  https://pbs.twimg.com/media/CT4udn0WwAA0aMy.jpg   \n",
       "1  666029285002620928  https://pbs.twimg.com/media/CT42GRgUYAA5iDo.jpg   \n",
       "2  666033412701032449  https://pbs.twimg.com/media/CT4521TWwAEvMyu.jpg   \n",
       "3  666044226329800704  https://pbs.twimg.com/media/CT5Dr8HUEAA-lEu.jpg   \n",
       "4  666049248165822465  https://pbs.twimg.com/media/CT5IQmsXIAAKY4A.jpg   \n",
       "\n",
       "   img_num                      p1   p1_conf  p1_dog                  p2  \\\n",
       "0        1  Welsh_springer_spaniel  0.465074    True              collie   \n",
       "1        1                 redbone  0.506826    True  miniature_pinscher   \n",
       "2        1         German_shepherd  0.596461    True            malinois   \n",
       "3        1     Rhodesian_ridgeback  0.408143    True             redbone   \n",
       "4        1      miniature_pinscher  0.560311    True          Rottweiler   \n",
       "\n",
       "    p2_conf  p2_dog                   p3   p3_conf  p3_dog  \n",
       "0  0.156665    True    Shetland_sheepdog  0.061428    True  \n",
       "1  0.074192    True  Rhodesian_ridgeback  0.072010    True  \n",
       "2  0.138584    True           bloodhound  0.116197    True  \n",
       "3  0.360687    True   miniature_pinscher  0.222752    True  \n",
       "4  0.243682    True             Doberman  0.154629    True  "
      ]
     },
     "execution_count": 23,
     "metadata": {},
     "output_type": "execute_result"
    }
   ],
   "source": [
    "image_predictions.head()"
   ]
  },
  {
   "cell_type": "code",
   "execution_count": 24,
   "metadata": {},
   "outputs": [
    {
     "data": {
      "text/plain": [
       "1    1780\n",
       "2     198\n",
       "3      66\n",
       "4      31\n",
       "Name: img_num, dtype: int64"
      ]
     },
     "execution_count": 24,
     "metadata": {},
     "output_type": "execute_result"
    }
   ],
   "source": [
    "image_predictions.img_num.value_counts()"
   ]
  },
  {
   "cell_type": "code",
   "execution_count": 25,
   "metadata": {},
   "outputs": [
    {
     "data": {
      "text/plain": [
       "0"
      ]
     },
     "execution_count": 25,
     "metadata": {},
     "output_type": "execute_result"
    }
   ],
   "source": [
    "image_predictions.tweet_id.duplicated().sum()"
   ]
  },
  {
   "cell_type": "markdown",
   "metadata": {},
   "source": [
    "So there are no duplicate tweet ids in this dataframe."
   ]
  },
  {
   "cell_type": "code",
   "execution_count": 26,
   "metadata": {},
   "outputs": [
    {
     "data": {
      "text/plain": [
       "66"
      ]
     },
     "execution_count": 26,
     "metadata": {},
     "output_type": "execute_result"
    }
   ],
   "source": [
    "image_predictions.jpg_url.duplicated().sum()"
   ]
  },
  {
   "cell_type": "code",
   "execution_count": 27,
   "metadata": {},
   "outputs": [
    {
     "data": {
      "text/plain": [
       "https://pbs.twimg.com/ext_tw_video_thumb/675354114423808004/pu/img/qL1R_nGLqa6lmkOx.jpg    2\n",
       "https://pbs.twimg.com/media/CVMOlMiWwAA4Yxl.jpg                                            2\n",
       "https://pbs.twimg.com/media/CsVO7ljW8AAckRD.jpg                                            2\n",
       "https://pbs.twimg.com/media/CwS4aqZXUAAe3IO.jpg                                            2\n",
       "https://pbs.twimg.com/media/CsGnz64WYAEIDHJ.jpg                                            2\n",
       "https://pbs.twimg.com/media/CdHwZd0VIAA4792.jpg                                            2\n",
       "https://pbs.twimg.com/media/C12whDoVEAALRxa.jpg                                            2\n",
       "https://pbs.twimg.com/media/CZhn-QAWwAASQan.jpg                                            2\n",
       "https://pbs.twimg.com/media/CkNjahBXAAQ2kWo.jpg                                            2\n",
       "https://pbs.twimg.com/media/CVgdFjNWEAAxmbq.jpg                                            2\n",
       "https://pbs.twimg.com/media/CrXhIqBW8AA6Bse.jpg                                            2\n",
       "https://pbs.twimg.com/media/CYLDikFWEAAIy1y.jpg                                            2\n",
       "https://pbs.twimg.com/media/CWyD2HGUYAQ1Xa7.jpg                                            2\n",
       "https://pbs.twimg.com/tweet_video_thumb/CeBym7oXEAEWbEg.jpg                                2\n",
       "https://pbs.twimg.com/media/CvT6IV6WEAQhhV5.jpg                                            2\n",
       "Name: jpg_url, dtype: int64"
      ]
     },
     "execution_count": 27,
     "metadata": {},
     "output_type": "execute_result"
    }
   ],
   "source": [
    "image_predictions.jpg_url.value_counts().head(15)"
   ]
  },
  {
   "cell_type": "markdown",
   "metadata": {},
   "source": [
    "All the jpg_urls having counts > 1 are duplicated/retweeted. Checking one of them to find the difference between both the entries."
   ]
  },
  {
   "cell_type": "code",
   "execution_count": 28,
   "metadata": {},
   "outputs": [
    {
     "data": {
      "text/html": [
       "<div>\n",
       "<style scoped>\n",
       "    .dataframe tbody tr th:only-of-type {\n",
       "        vertical-align: middle;\n",
       "    }\n",
       "\n",
       "    .dataframe tbody tr th {\n",
       "        vertical-align: top;\n",
       "    }\n",
       "\n",
       "    .dataframe thead th {\n",
       "        text-align: right;\n",
       "    }\n",
       "</style>\n",
       "<table border=\"1\" class=\"dataframe\">\n",
       "  <thead>\n",
       "    <tr style=\"text-align: right;\">\n",
       "      <th></th>\n",
       "      <th>tweet_id</th>\n",
       "      <th>jpg_url</th>\n",
       "      <th>img_num</th>\n",
       "      <th>p1</th>\n",
       "      <th>p1_conf</th>\n",
       "      <th>p1_dog</th>\n",
       "      <th>p2</th>\n",
       "      <th>p2_conf</th>\n",
       "      <th>p2_dog</th>\n",
       "      <th>p3</th>\n",
       "      <th>p3_conf</th>\n",
       "      <th>p3_dog</th>\n",
       "    </tr>\n",
       "  </thead>\n",
       "  <tbody>\n",
       "    <tr>\n",
       "      <th>1380</th>\n",
       "      <td>765222098633691136</td>\n",
       "      <td>https://pbs.twimg.com/media/Cp6db4-XYAAMmqL.jpg</td>\n",
       "      <td>1</td>\n",
       "      <td>dalmatian</td>\n",
       "      <td>0.556595</td>\n",
       "      <td>True</td>\n",
       "      <td>whippet</td>\n",
       "      <td>0.151047</td>\n",
       "      <td>True</td>\n",
       "      <td>American_Staffordshire_terrier</td>\n",
       "      <td>0.096435</td>\n",
       "      <td>True</td>\n",
       "    </tr>\n",
       "    <tr>\n",
       "      <th>1427</th>\n",
       "      <td>772615324260794368</td>\n",
       "      <td>https://pbs.twimg.com/media/Cp6db4-XYAAMmqL.jpg</td>\n",
       "      <td>1</td>\n",
       "      <td>dalmatian</td>\n",
       "      <td>0.556595</td>\n",
       "      <td>True</td>\n",
       "      <td>whippet</td>\n",
       "      <td>0.151047</td>\n",
       "      <td>True</td>\n",
       "      <td>American_Staffordshire_terrier</td>\n",
       "      <td>0.096435</td>\n",
       "      <td>True</td>\n",
       "    </tr>\n",
       "  </tbody>\n",
       "</table>\n",
       "</div>"
      ],
      "text/plain": [
       "                tweet_id                                          jpg_url  \\\n",
       "1380  765222098633691136  https://pbs.twimg.com/media/Cp6db4-XYAAMmqL.jpg   \n",
       "1427  772615324260794368  https://pbs.twimg.com/media/Cp6db4-XYAAMmqL.jpg   \n",
       "\n",
       "      img_num         p1   p1_conf  p1_dog       p2   p2_conf  p2_dog  \\\n",
       "1380        1  dalmatian  0.556595    True  whippet  0.151047    True   \n",
       "1427        1  dalmatian  0.556595    True  whippet  0.151047    True   \n",
       "\n",
       "                                  p3   p3_conf  p3_dog  \n",
       "1380  American_Staffordshire_terrier  0.096435    True  \n",
       "1427  American_Staffordshire_terrier  0.096435    True  "
      ]
     },
     "execution_count": 28,
     "metadata": {},
     "output_type": "execute_result"
    }
   ],
   "source": [
    "image_predictions.query('jpg_url == \"https://pbs.twimg.com/media/Cp6db4-XYAAMmqL.jpg\"')"
   ]
  },
  {
   "cell_type": "code",
   "execution_count": 29,
   "metadata": {},
   "outputs": [
    {
     "data": {
      "text/html": [
       "<div>\n",
       "<style scoped>\n",
       "    .dataframe tbody tr th:only-of-type {\n",
       "        vertical-align: middle;\n",
       "    }\n",
       "\n",
       "    .dataframe tbody tr th {\n",
       "        vertical-align: top;\n",
       "    }\n",
       "\n",
       "    .dataframe thead th {\n",
       "        text-align: right;\n",
       "    }\n",
       "</style>\n",
       "<table border=\"1\" class=\"dataframe\">\n",
       "  <thead>\n",
       "    <tr style=\"text-align: right;\">\n",
       "      <th></th>\n",
       "      <th>tweet_id</th>\n",
       "      <th>in_reply_to_status_id</th>\n",
       "      <th>in_reply_to_user_id</th>\n",
       "      <th>timestamp</th>\n",
       "      <th>source</th>\n",
       "      <th>text</th>\n",
       "      <th>retweeted_status_id</th>\n",
       "      <th>retweeted_status_user_id</th>\n",
       "      <th>retweeted_status_timestamp</th>\n",
       "      <th>expanded_urls</th>\n",
       "      <th>rating_numerator</th>\n",
       "      <th>rating_denominator</th>\n",
       "      <th>name</th>\n",
       "      <th>doggo</th>\n",
       "      <th>floofer</th>\n",
       "      <th>pupper</th>\n",
       "      <th>puppo</th>\n",
       "    </tr>\n",
       "  </thead>\n",
       "  <tbody>\n",
       "    <tr>\n",
       "      <th>854</th>\n",
       "      <td>765222098633691136</td>\n",
       "      <td>NaN</td>\n",
       "      <td>NaN</td>\n",
       "      <td>2016-08-15 16:22:20 +0000</td>\n",
       "      <td>&lt;a href=\"http://twitter.com/download/iphone\" r...</td>\n",
       "      <td>This is Gromit. He's pupset because there's no...</td>\n",
       "      <td>NaN</td>\n",
       "      <td>NaN</td>\n",
       "      <td>NaN</td>\n",
       "      <td>https://twitter.com/dog_rates/status/765222098...</td>\n",
       "      <td>10</td>\n",
       "      <td>10</td>\n",
       "      <td>Gromit</td>\n",
       "      <td>None</td>\n",
       "      <td>None</td>\n",
       "      <td>None</td>\n",
       "      <td>None</td>\n",
       "    </tr>\n",
       "  </tbody>\n",
       "</table>\n",
       "</div>"
      ],
      "text/plain": [
       "               tweet_id  in_reply_to_status_id  in_reply_to_user_id  \\\n",
       "854  765222098633691136                    NaN                  NaN   \n",
       "\n",
       "                     timestamp  \\\n",
       "854  2016-08-15 16:22:20 +0000   \n",
       "\n",
       "                                                source  \\\n",
       "854  <a href=\"http://twitter.com/download/iphone\" r...   \n",
       "\n",
       "                                                  text  retweeted_status_id  \\\n",
       "854  This is Gromit. He's pupset because there's no...                  NaN   \n",
       "\n",
       "     retweeted_status_user_id retweeted_status_timestamp  \\\n",
       "854                       NaN                        NaN   \n",
       "\n",
       "                                         expanded_urls  rating_numerator  \\\n",
       "854  https://twitter.com/dog_rates/status/765222098...                10   \n",
       "\n",
       "     rating_denominator    name doggo floofer pupper puppo  \n",
       "854                  10  Gromit  None    None   None  None  "
      ]
     },
     "execution_count": 29,
     "metadata": {},
     "output_type": "execute_result"
    }
   ],
   "source": [
    "twitter_archive.query('tweet_id == \"765222098633691136\"')"
   ]
  },
  {
   "cell_type": "code",
   "execution_count": 30,
   "metadata": {},
   "outputs": [
    {
     "data": {
      "text/html": [
       "<div>\n",
       "<style scoped>\n",
       "    .dataframe tbody tr th:only-of-type {\n",
       "        vertical-align: middle;\n",
       "    }\n",
       "\n",
       "    .dataframe tbody tr th {\n",
       "        vertical-align: top;\n",
       "    }\n",
       "\n",
       "    .dataframe thead th {\n",
       "        text-align: right;\n",
       "    }\n",
       "</style>\n",
       "<table border=\"1\" class=\"dataframe\">\n",
       "  <thead>\n",
       "    <tr style=\"text-align: right;\">\n",
       "      <th></th>\n",
       "      <th>tweet_id</th>\n",
       "      <th>in_reply_to_status_id</th>\n",
       "      <th>in_reply_to_user_id</th>\n",
       "      <th>timestamp</th>\n",
       "      <th>source</th>\n",
       "      <th>text</th>\n",
       "      <th>retweeted_status_id</th>\n",
       "      <th>retweeted_status_user_id</th>\n",
       "      <th>retweeted_status_timestamp</th>\n",
       "      <th>expanded_urls</th>\n",
       "      <th>rating_numerator</th>\n",
       "      <th>rating_denominator</th>\n",
       "      <th>name</th>\n",
       "      <th>doggo</th>\n",
       "      <th>floofer</th>\n",
       "      <th>pupper</th>\n",
       "      <th>puppo</th>\n",
       "    </tr>\n",
       "  </thead>\n",
       "  <tbody>\n",
       "    <tr>\n",
       "      <th>800</th>\n",
       "      <td>772615324260794368</td>\n",
       "      <td>NaN</td>\n",
       "      <td>NaN</td>\n",
       "      <td>2016-09-05 02:00:22 +0000</td>\n",
       "      <td>&lt;a href=\"http://twitter.com/download/iphone\" r...</td>\n",
       "      <td>RT @dog_rates: This is Gromit. He's pupset bec...</td>\n",
       "      <td>7.652221e+17</td>\n",
       "      <td>4.196984e+09</td>\n",
       "      <td>2016-08-15 16:22:20 +0000</td>\n",
       "      <td>https://twitter.com/dog_rates/status/765222098...</td>\n",
       "      <td>10</td>\n",
       "      <td>10</td>\n",
       "      <td>Gromit</td>\n",
       "      <td>None</td>\n",
       "      <td>None</td>\n",
       "      <td>None</td>\n",
       "      <td>None</td>\n",
       "    </tr>\n",
       "  </tbody>\n",
       "</table>\n",
       "</div>"
      ],
      "text/plain": [
       "               tweet_id  in_reply_to_status_id  in_reply_to_user_id  \\\n",
       "800  772615324260794368                    NaN                  NaN   \n",
       "\n",
       "                     timestamp  \\\n",
       "800  2016-09-05 02:00:22 +0000   \n",
       "\n",
       "                                                source  \\\n",
       "800  <a href=\"http://twitter.com/download/iphone\" r...   \n",
       "\n",
       "                                                  text  retweeted_status_id  \\\n",
       "800  RT @dog_rates: This is Gromit. He's pupset bec...         7.652221e+17   \n",
       "\n",
       "     retweeted_status_user_id retweeted_status_timestamp  \\\n",
       "800              4.196984e+09  2016-08-15 16:22:20 +0000   \n",
       "\n",
       "                                         expanded_urls  rating_numerator  \\\n",
       "800  https://twitter.com/dog_rates/status/765222098...                10   \n",
       "\n",
       "     rating_denominator    name doggo floofer pupper puppo  \n",
       "800                  10  Gromit  None    None   None  None  "
      ]
     },
     "execution_count": 30,
     "metadata": {},
     "output_type": "execute_result"
    }
   ],
   "source": [
    "twitter_archive.query('tweet_id == \"772615324260794368\"')"
   ]
  },
  {
   "cell_type": "markdown",
   "metadata": {},
   "source": [
    "This dataframe contains tweets that were retweeted"
   ]
  },
  {
   "cell_type": "code",
   "execution_count": 31,
   "metadata": {},
   "outputs": [
    {
     "data": {
      "text/html": [
       "<div>\n",
       "<style scoped>\n",
       "    .dataframe tbody tr th:only-of-type {\n",
       "        vertical-align: middle;\n",
       "    }\n",
       "\n",
       "    .dataframe tbody tr th {\n",
       "        vertical-align: top;\n",
       "    }\n",
       "\n",
       "    .dataframe thead th {\n",
       "        text-align: right;\n",
       "    }\n",
       "</style>\n",
       "<table border=\"1\" class=\"dataframe\">\n",
       "  <thead>\n",
       "    <tr style=\"text-align: right;\">\n",
       "      <th></th>\n",
       "      <th>tweet_id</th>\n",
       "      <th>jpg_url</th>\n",
       "      <th>img_num</th>\n",
       "      <th>p1</th>\n",
       "      <th>p1_conf</th>\n",
       "      <th>p1_dog</th>\n",
       "      <th>p2</th>\n",
       "      <th>p2_conf</th>\n",
       "      <th>p2_dog</th>\n",
       "      <th>p3</th>\n",
       "      <th>p3_conf</th>\n",
       "      <th>p3_dog</th>\n",
       "    </tr>\n",
       "  </thead>\n",
       "  <tbody>\n",
       "    <tr>\n",
       "      <th>6</th>\n",
       "      <td>666051853826850816</td>\n",
       "      <td>https://pbs.twimg.com/media/CT5KoJ1WoAAJash.jpg</td>\n",
       "      <td>1</td>\n",
       "      <td>box_turtle</td>\n",
       "      <td>0.933012</td>\n",
       "      <td>False</td>\n",
       "      <td>mud_turtle</td>\n",
       "      <td>4.588540e-02</td>\n",
       "      <td>False</td>\n",
       "      <td>terrapin</td>\n",
       "      <td>1.788530e-02</td>\n",
       "      <td>False</td>\n",
       "    </tr>\n",
       "    <tr>\n",
       "      <th>17</th>\n",
       "      <td>666104133288665088</td>\n",
       "      <td>https://pbs.twimg.com/media/CT56LSZWoAAlJj2.jpg</td>\n",
       "      <td>1</td>\n",
       "      <td>hen</td>\n",
       "      <td>0.965932</td>\n",
       "      <td>False</td>\n",
       "      <td>cock</td>\n",
       "      <td>3.391940e-02</td>\n",
       "      <td>False</td>\n",
       "      <td>partridge</td>\n",
       "      <td>5.206580e-05</td>\n",
       "      <td>False</td>\n",
       "    </tr>\n",
       "    <tr>\n",
       "      <th>18</th>\n",
       "      <td>666268910803644416</td>\n",
       "      <td>https://pbs.twimg.com/media/CT8QCd1WEAADXws.jpg</td>\n",
       "      <td>1</td>\n",
       "      <td>desktop_computer</td>\n",
       "      <td>0.086502</td>\n",
       "      <td>False</td>\n",
       "      <td>desk</td>\n",
       "      <td>8.554740e-02</td>\n",
       "      <td>False</td>\n",
       "      <td>bookcase</td>\n",
       "      <td>7.947970e-02</td>\n",
       "      <td>False</td>\n",
       "    </tr>\n",
       "    <tr>\n",
       "      <th>21</th>\n",
       "      <td>666293911632134144</td>\n",
       "      <td>https://pbs.twimg.com/media/CT8mx7KW4AEQu8N.jpg</td>\n",
       "      <td>1</td>\n",
       "      <td>three-toed_sloth</td>\n",
       "      <td>0.914671</td>\n",
       "      <td>False</td>\n",
       "      <td>otter</td>\n",
       "      <td>1.525000e-02</td>\n",
       "      <td>False</td>\n",
       "      <td>great_grey_owl</td>\n",
       "      <td>1.320720e-02</td>\n",
       "      <td>False</td>\n",
       "    </tr>\n",
       "    <tr>\n",
       "      <th>25</th>\n",
       "      <td>666362758909284353</td>\n",
       "      <td>https://pbs.twimg.com/media/CT9lXGsUcAAyUFt.jpg</td>\n",
       "      <td>1</td>\n",
       "      <td>guinea_pig</td>\n",
       "      <td>0.996496</td>\n",
       "      <td>False</td>\n",
       "      <td>skunk</td>\n",
       "      <td>2.402450e-03</td>\n",
       "      <td>False</td>\n",
       "      <td>hamster</td>\n",
       "      <td>4.608630e-04</td>\n",
       "      <td>False</td>\n",
       "    </tr>\n",
       "    <tr>\n",
       "      <th>29</th>\n",
       "      <td>666411507551481857</td>\n",
       "      <td>https://pbs.twimg.com/media/CT-RugiWIAELEaq.jpg</td>\n",
       "      <td>1</td>\n",
       "      <td>coho</td>\n",
       "      <td>0.404640</td>\n",
       "      <td>False</td>\n",
       "      <td>barracouta</td>\n",
       "      <td>2.714850e-01</td>\n",
       "      <td>False</td>\n",
       "      <td>gar</td>\n",
       "      <td>1.899450e-01</td>\n",
       "      <td>False</td>\n",
       "    </tr>\n",
       "    <tr>\n",
       "      <th>45</th>\n",
       "      <td>666786068205871104</td>\n",
       "      <td>https://pbs.twimg.com/media/CUDmZIkWcAAIPPe.jpg</td>\n",
       "      <td>1</td>\n",
       "      <td>snail</td>\n",
       "      <td>0.999888</td>\n",
       "      <td>False</td>\n",
       "      <td>slug</td>\n",
       "      <td>5.514170e-05</td>\n",
       "      <td>False</td>\n",
       "      <td>acorn</td>\n",
       "      <td>2.625800e-05</td>\n",
       "      <td>False</td>\n",
       "    </tr>\n",
       "    <tr>\n",
       "      <th>50</th>\n",
       "      <td>666837028449972224</td>\n",
       "      <td>https://pbs.twimg.com/media/CUEUva1WsAA2jPb.jpg</td>\n",
       "      <td>1</td>\n",
       "      <td>triceratops</td>\n",
       "      <td>0.442113</td>\n",
       "      <td>False</td>\n",
       "      <td>armadillo</td>\n",
       "      <td>1.140710e-01</td>\n",
       "      <td>False</td>\n",
       "      <td>common_iguana</td>\n",
       "      <td>4.325530e-02</td>\n",
       "      <td>False</td>\n",
       "    </tr>\n",
       "    <tr>\n",
       "      <th>51</th>\n",
       "      <td>666983947667116034</td>\n",
       "      <td>https://pbs.twimg.com/media/CUGaXDhW4AY9JUH.jpg</td>\n",
       "      <td>1</td>\n",
       "      <td>swab</td>\n",
       "      <td>0.589446</td>\n",
       "      <td>False</td>\n",
       "      <td>chain_saw</td>\n",
       "      <td>1.901420e-01</td>\n",
       "      <td>False</td>\n",
       "      <td>wig</td>\n",
       "      <td>3.450970e-02</td>\n",
       "      <td>False</td>\n",
       "    </tr>\n",
       "    <tr>\n",
       "      <th>53</th>\n",
       "      <td>667012601033924608</td>\n",
       "      <td>https://pbs.twimg.com/media/CUG0bC0U8AAw2su.jpg</td>\n",
       "      <td>1</td>\n",
       "      <td>hyena</td>\n",
       "      <td>0.987230</td>\n",
       "      <td>False</td>\n",
       "      <td>African_hunting_dog</td>\n",
       "      <td>1.260080e-02</td>\n",
       "      <td>False</td>\n",
       "      <td>coyote</td>\n",
       "      <td>5.735010e-05</td>\n",
       "      <td>False</td>\n",
       "    </tr>\n",
       "    <tr>\n",
       "      <th>56</th>\n",
       "      <td>667065535570550784</td>\n",
       "      <td>https://pbs.twimg.com/media/CUHkkJpXIAA2w3n.jpg</td>\n",
       "      <td>1</td>\n",
       "      <td>jigsaw_puzzle</td>\n",
       "      <td>0.560001</td>\n",
       "      <td>False</td>\n",
       "      <td>doormat</td>\n",
       "      <td>1.032590e-01</td>\n",
       "      <td>False</td>\n",
       "      <td>space_heater</td>\n",
       "      <td>4.256800e-02</td>\n",
       "      <td>False</td>\n",
       "    </tr>\n",
       "    <tr>\n",
       "      <th>69</th>\n",
       "      <td>667188689915760640</td>\n",
       "      <td>https://pbs.twimg.com/media/CUJUk2iWUAAVtOv.jpg</td>\n",
       "      <td>1</td>\n",
       "      <td>vacuum</td>\n",
       "      <td>0.335830</td>\n",
       "      <td>False</td>\n",
       "      <td>swab</td>\n",
       "      <td>2.652780e-01</td>\n",
       "      <td>False</td>\n",
       "      <td>toilet_tissue</td>\n",
       "      <td>1.407030e-01</td>\n",
       "      <td>False</td>\n",
       "    </tr>\n",
       "    <tr>\n",
       "      <th>73</th>\n",
       "      <td>667369227918143488</td>\n",
       "      <td>https://pbs.twimg.com/media/CUL4xR9UkAEdlJ6.jpg</td>\n",
       "      <td>1</td>\n",
       "      <td>teddy</td>\n",
       "      <td>0.709545</td>\n",
       "      <td>False</td>\n",
       "      <td>bath_towel</td>\n",
       "      <td>1.272850e-01</td>\n",
       "      <td>False</td>\n",
       "      <td>Christmas_stocking</td>\n",
       "      <td>2.856750e-02</td>\n",
       "      <td>False</td>\n",
       "    </tr>\n",
       "    <tr>\n",
       "      <th>77</th>\n",
       "      <td>667437278097252352</td>\n",
       "      <td>https://pbs.twimg.com/media/CUM2qWaWoAUZ06L.jpg</td>\n",
       "      <td>1</td>\n",
       "      <td>porcupine</td>\n",
       "      <td>0.989154</td>\n",
       "      <td>False</td>\n",
       "      <td>bath_towel</td>\n",
       "      <td>6.300490e-03</td>\n",
       "      <td>False</td>\n",
       "      <td>badger</td>\n",
       "      <td>9.663400e-04</td>\n",
       "      <td>False</td>\n",
       "    </tr>\n",
       "    <tr>\n",
       "      <th>78</th>\n",
       "      <td>667443425659232256</td>\n",
       "      <td>https://pbs.twimg.com/media/CUM8QZwW4AAVsBl.jpg</td>\n",
       "      <td>1</td>\n",
       "      <td>goose</td>\n",
       "      <td>0.980815</td>\n",
       "      <td>False</td>\n",
       "      <td>drake</td>\n",
       "      <td>6.917770e-03</td>\n",
       "      <td>False</td>\n",
       "      <td>hen</td>\n",
       "      <td>5.255170e-03</td>\n",
       "      <td>False</td>\n",
       "    </tr>\n",
       "    <tr>\n",
       "      <th>93</th>\n",
       "      <td>667549055577362432</td>\n",
       "      <td>https://pbs.twimg.com/media/CUOcVCwWsAERUKY.jpg</td>\n",
       "      <td>1</td>\n",
       "      <td>electric_fan</td>\n",
       "      <td>0.984377</td>\n",
       "      <td>False</td>\n",
       "      <td>spotlight</td>\n",
       "      <td>7.736710e-03</td>\n",
       "      <td>False</td>\n",
       "      <td>lampshade</td>\n",
       "      <td>1.901230e-03</td>\n",
       "      <td>False</td>\n",
       "    </tr>\n",
       "    <tr>\n",
       "      <th>94</th>\n",
       "      <td>667550882905632768</td>\n",
       "      <td>https://pbs.twimg.com/media/CUObvUJVEAAnYPF.jpg</td>\n",
       "      <td>1</td>\n",
       "      <td>web_site</td>\n",
       "      <td>0.998258</td>\n",
       "      <td>False</td>\n",
       "      <td>dishwasher</td>\n",
       "      <td>2.010840e-04</td>\n",
       "      <td>False</td>\n",
       "      <td>oscilloscope</td>\n",
       "      <td>1.417360e-04</td>\n",
       "      <td>False</td>\n",
       "    </tr>\n",
       "    <tr>\n",
       "      <th>96</th>\n",
       "      <td>667724302356258817</td>\n",
       "      <td>https://pbs.twimg.com/media/CUQ7tv3W4AA3KlI.jpg</td>\n",
       "      <td>1</td>\n",
       "      <td>ibex</td>\n",
       "      <td>0.619098</td>\n",
       "      <td>False</td>\n",
       "      <td>bighorn</td>\n",
       "      <td>1.251190e-01</td>\n",
       "      <td>False</td>\n",
       "      <td>ram</td>\n",
       "      <td>7.467320e-02</td>\n",
       "      <td>False</td>\n",
       "    </tr>\n",
       "    <tr>\n",
       "      <th>98</th>\n",
       "      <td>667766675769573376</td>\n",
       "      <td>https://pbs.twimg.com/media/CURiQMnUAAAPT2M.jpg</td>\n",
       "      <td>1</td>\n",
       "      <td>fire_engine</td>\n",
       "      <td>0.883493</td>\n",
       "      <td>False</td>\n",
       "      <td>tow_truck</td>\n",
       "      <td>7.473390e-02</td>\n",
       "      <td>False</td>\n",
       "      <td>jeep</td>\n",
       "      <td>1.277260e-02</td>\n",
       "      <td>False</td>\n",
       "    </tr>\n",
       "    <tr>\n",
       "      <th>100</th>\n",
       "      <td>667782464991965184</td>\n",
       "      <td>https://pbs.twimg.com/media/CURwm3cUkAARcO6.jpg</td>\n",
       "      <td>1</td>\n",
       "      <td>lorikeet</td>\n",
       "      <td>0.466149</td>\n",
       "      <td>False</td>\n",
       "      <td>hummingbird</td>\n",
       "      <td>8.301100e-02</td>\n",
       "      <td>False</td>\n",
       "      <td>African_grey</td>\n",
       "      <td>5.424740e-02</td>\n",
       "      <td>False</td>\n",
       "    </tr>\n",
       "    <tr>\n",
       "      <th>106</th>\n",
       "      <td>667866724293877760</td>\n",
       "      <td>https://pbs.twimg.com/media/CUS9PlUWwAANeAD.jpg</td>\n",
       "      <td>1</td>\n",
       "      <td>jigsaw_puzzle</td>\n",
       "      <td>1.000000</td>\n",
       "      <td>False</td>\n",
       "      <td>prayer_rug</td>\n",
       "      <td>1.011300e-08</td>\n",
       "      <td>False</td>\n",
       "      <td>doormat</td>\n",
       "      <td>1.740170e-10</td>\n",
       "      <td>False</td>\n",
       "    </tr>\n",
       "    <tr>\n",
       "      <th>107</th>\n",
       "      <td>667873844930215936</td>\n",
       "      <td>https://pbs.twimg.com/media/CUTDtyGXIAARxus.jpg</td>\n",
       "      <td>1</td>\n",
       "      <td>common_iguana</td>\n",
       "      <td>0.999647</td>\n",
       "      <td>False</td>\n",
       "      <td>frilled_lizard</td>\n",
       "      <td>1.811500e-04</td>\n",
       "      <td>False</td>\n",
       "      <td>African_chameleon</td>\n",
       "      <td>1.283570e-04</td>\n",
       "      <td>False</td>\n",
       "    </tr>\n",
       "    <tr>\n",
       "      <th>112</th>\n",
       "      <td>667911425562669056</td>\n",
       "      <td>https://pbs.twimg.com/media/CUTl5m1WUAAabZG.jpg</td>\n",
       "      <td>1</td>\n",
       "      <td>frilled_lizard</td>\n",
       "      <td>0.257695</td>\n",
       "      <td>False</td>\n",
       "      <td>ox</td>\n",
       "      <td>2.351600e-01</td>\n",
       "      <td>False</td>\n",
       "      <td>triceratops</td>\n",
       "      <td>8.531690e-02</td>\n",
       "      <td>False</td>\n",
       "    </tr>\n",
       "    <tr>\n",
       "      <th>115</th>\n",
       "      <td>667937095915278337</td>\n",
       "      <td>https://pbs.twimg.com/media/CUT9PuQWwAABQv7.jpg</td>\n",
       "      <td>1</td>\n",
       "      <td>hamster</td>\n",
       "      <td>0.172078</td>\n",
       "      <td>False</td>\n",
       "      <td>guinea_pig</td>\n",
       "      <td>9.492420e-02</td>\n",
       "      <td>False</td>\n",
       "      <td>Band_Aid</td>\n",
       "      <td>5.999520e-02</td>\n",
       "      <td>False</td>\n",
       "    </tr>\n",
       "    <tr>\n",
       "      <th>117</th>\n",
       "      <td>668142349051129856</td>\n",
       "      <td>https://pbs.twimg.com/media/CUW37BzWsAAlJlN.jpg</td>\n",
       "      <td>1</td>\n",
       "      <td>Angora</td>\n",
       "      <td>0.918834</td>\n",
       "      <td>False</td>\n",
       "      <td>hen</td>\n",
       "      <td>3.779340e-02</td>\n",
       "      <td>False</td>\n",
       "      <td>wood_rabbit</td>\n",
       "      <td>1.101490e-02</td>\n",
       "      <td>False</td>\n",
       "    </tr>\n",
       "    <tr>\n",
       "      <th>118</th>\n",
       "      <td>668154635664932864</td>\n",
       "      <td>https://pbs.twimg.com/media/CUXDGR2WcAAUQKz.jpg</td>\n",
       "      <td>1</td>\n",
       "      <td>Arctic_fox</td>\n",
       "      <td>0.473584</td>\n",
       "      <td>False</td>\n",
       "      <td>wallaby</td>\n",
       "      <td>2.614110e-01</td>\n",
       "      <td>False</td>\n",
       "      <td>white_wolf</td>\n",
       "      <td>8.094780e-02</td>\n",
       "      <td>False</td>\n",
       "    </tr>\n",
       "    <tr>\n",
       "      <th>123</th>\n",
       "      <td>668226093875376128</td>\n",
       "      <td>https://pbs.twimg.com/media/CUYEFlQXAAUkPGm.jpg</td>\n",
       "      <td>1</td>\n",
       "      <td>trombone</td>\n",
       "      <td>0.390339</td>\n",
       "      <td>False</td>\n",
       "      <td>cornet</td>\n",
       "      <td>3.141490e-01</td>\n",
       "      <td>False</td>\n",
       "      <td>French_horn</td>\n",
       "      <td>2.551820e-01</td>\n",
       "      <td>False</td>\n",
       "    </tr>\n",
       "    <tr>\n",
       "      <th>130</th>\n",
       "      <td>668291999406125056</td>\n",
       "      <td>https://pbs.twimg.com/media/CUZABzGW4AE5F0k.jpg</td>\n",
       "      <td>1</td>\n",
       "      <td>web_site</td>\n",
       "      <td>0.995535</td>\n",
       "      <td>False</td>\n",
       "      <td>skunk</td>\n",
       "      <td>1.363490e-03</td>\n",
       "      <td>False</td>\n",
       "      <td>badger</td>\n",
       "      <td>6.856500e-04</td>\n",
       "      <td>False</td>\n",
       "    </tr>\n",
       "    <tr>\n",
       "      <th>132</th>\n",
       "      <td>668466899341221888</td>\n",
       "      <td>https://pbs.twimg.com/media/CUbfGbbWoAApZth.jpg</td>\n",
       "      <td>1</td>\n",
       "      <td>shopping_basket</td>\n",
       "      <td>0.398361</td>\n",
       "      <td>False</td>\n",
       "      <td>hamper</td>\n",
       "      <td>3.632220e-01</td>\n",
       "      <td>False</td>\n",
       "      <td>bassinet</td>\n",
       "      <td>8.417350e-02</td>\n",
       "      <td>False</td>\n",
       "    </tr>\n",
       "    <tr>\n",
       "      <th>140</th>\n",
       "      <td>668544745690562560</td>\n",
       "      <td>https://pbs.twimg.com/media/CUcl5jeWsAA6ufS.jpg</td>\n",
       "      <td>1</td>\n",
       "      <td>bearskin</td>\n",
       "      <td>0.427870</td>\n",
       "      <td>False</td>\n",
       "      <td>bow</td>\n",
       "      <td>2.588580e-01</td>\n",
       "      <td>False</td>\n",
       "      <td>panpipe</td>\n",
       "      <td>2.156260e-02</td>\n",
       "      <td>False</td>\n",
       "    </tr>\n",
       "    <tr>\n",
       "      <th>...</th>\n",
       "      <td>...</td>\n",
       "      <td>...</td>\n",
       "      <td>...</td>\n",
       "      <td>...</td>\n",
       "      <td>...</td>\n",
       "      <td>...</td>\n",
       "      <td>...</td>\n",
       "      <td>...</td>\n",
       "      <td>...</td>\n",
       "      <td>...</td>\n",
       "      <td>...</td>\n",
       "      <td>...</td>\n",
       "    </tr>\n",
       "    <tr>\n",
       "      <th>1839</th>\n",
       "      <td>837482249356513284</td>\n",
       "      <td>https://pbs.twimg.com/media/C59VqMUXEAAzldG.jpg</td>\n",
       "      <td>2</td>\n",
       "      <td>birdhouse</td>\n",
       "      <td>0.541196</td>\n",
       "      <td>False</td>\n",
       "      <td>can_opener</td>\n",
       "      <td>1.210940e-01</td>\n",
       "      <td>False</td>\n",
       "      <td>carton</td>\n",
       "      <td>5.613670e-02</td>\n",
       "      <td>False</td>\n",
       "    </tr>\n",
       "    <tr>\n",
       "      <th>1844</th>\n",
       "      <td>838916489579200512</td>\n",
       "      <td>https://pbs.twimg.com/media/C6RkiQZUsAAM4R4.jpg</td>\n",
       "      <td>2</td>\n",
       "      <td>web_site</td>\n",
       "      <td>0.993651</td>\n",
       "      <td>False</td>\n",
       "      <td>monitor</td>\n",
       "      <td>1.405900e-03</td>\n",
       "      <td>False</td>\n",
       "      <td>envelope</td>\n",
       "      <td>1.093090e-03</td>\n",
       "      <td>False</td>\n",
       "    </tr>\n",
       "    <tr>\n",
       "      <th>1847</th>\n",
       "      <td>839290600511926273</td>\n",
       "      <td>https://pbs.twimg.com/media/C6XBt9XXEAEEW9U.jpg</td>\n",
       "      <td>1</td>\n",
       "      <td>web_site</td>\n",
       "      <td>0.670892</td>\n",
       "      <td>False</td>\n",
       "      <td>monitor</td>\n",
       "      <td>1.015650e-01</td>\n",
       "      <td>False</td>\n",
       "      <td>screen</td>\n",
       "      <td>7.530610e-02</td>\n",
       "      <td>False</td>\n",
       "    </tr>\n",
       "    <tr>\n",
       "      <th>1851</th>\n",
       "      <td>840370681858686976</td>\n",
       "      <td>https://pbs.twimg.com/media/C6mYrK0UwAANhep.jpg</td>\n",
       "      <td>1</td>\n",
       "      <td>teapot</td>\n",
       "      <td>0.981819</td>\n",
       "      <td>False</td>\n",
       "      <td>cup</td>\n",
       "      <td>1.402580e-02</td>\n",
       "      <td>False</td>\n",
       "      <td>coffeepot</td>\n",
       "      <td>2.420540e-03</td>\n",
       "      <td>False</td>\n",
       "    </tr>\n",
       "    <tr>\n",
       "      <th>1853</th>\n",
       "      <td>840696689258311684</td>\n",
       "      <td>https://pbs.twimg.com/media/C6rBLenU0AAr8MN.jpg</td>\n",
       "      <td>1</td>\n",
       "      <td>web_site</td>\n",
       "      <td>0.841768</td>\n",
       "      <td>False</td>\n",
       "      <td>rule</td>\n",
       "      <td>7.087310e-03</td>\n",
       "      <td>False</td>\n",
       "      <td>envelope</td>\n",
       "      <td>6.820300e-03</td>\n",
       "      <td>False</td>\n",
       "    </tr>\n",
       "    <tr>\n",
       "      <th>1869</th>\n",
       "      <td>844580511645339650</td>\n",
       "      <td>https://pbs.twimg.com/media/C7iNfq1W0AAcbsR.jpg</td>\n",
       "      <td>1</td>\n",
       "      <td>washer</td>\n",
       "      <td>0.903064</td>\n",
       "      <td>False</td>\n",
       "      <td>dishwasher</td>\n",
       "      <td>3.248900e-02</td>\n",
       "      <td>False</td>\n",
       "      <td>printer</td>\n",
       "      <td>1.645620e-02</td>\n",
       "      <td>False</td>\n",
       "    </tr>\n",
       "    <tr>\n",
       "      <th>1886</th>\n",
       "      <td>847962785489326080</td>\n",
       "      <td>https://pbs.twimg.com/media/C8SRpHNUIAARB3j.jpg</td>\n",
       "      <td>1</td>\n",
       "      <td>sea_lion</td>\n",
       "      <td>0.882654</td>\n",
       "      <td>False</td>\n",
       "      <td>mink</td>\n",
       "      <td>6.688020e-02</td>\n",
       "      <td>False</td>\n",
       "      <td>otter</td>\n",
       "      <td>2.567870e-02</td>\n",
       "      <td>False</td>\n",
       "    </tr>\n",
       "    <tr>\n",
       "      <th>1887</th>\n",
       "      <td>847971574464610304</td>\n",
       "      <td>https://pbs.twimg.com/media/C8SZH1EWAAAIRRF.jpg</td>\n",
       "      <td>1</td>\n",
       "      <td>coffee_mug</td>\n",
       "      <td>0.633652</td>\n",
       "      <td>False</td>\n",
       "      <td>cup</td>\n",
       "      <td>2.733920e-01</td>\n",
       "      <td>False</td>\n",
       "      <td>toilet_tissue</td>\n",
       "      <td>6.665580e-02</td>\n",
       "      <td>False</td>\n",
       "    </tr>\n",
       "    <tr>\n",
       "      <th>1891</th>\n",
       "      <td>849051919805034497</td>\n",
       "      <td>https://pbs.twimg.com/media/C8hwNxbXYAAwyVG.jpg</td>\n",
       "      <td>1</td>\n",
       "      <td>fountain</td>\n",
       "      <td>0.997509</td>\n",
       "      <td>False</td>\n",
       "      <td>American_black_bear</td>\n",
       "      <td>1.413120e-03</td>\n",
       "      <td>False</td>\n",
       "      <td>sundial</td>\n",
       "      <td>6.811150e-04</td>\n",
       "      <td>False</td>\n",
       "    </tr>\n",
       "    <tr>\n",
       "      <th>1892</th>\n",
       "      <td>849336543269576704</td>\n",
       "      <td>https://pbs.twimg.com/media/C8lzFC4XcAAQxB4.jpg</td>\n",
       "      <td>1</td>\n",
       "      <td>patio</td>\n",
       "      <td>0.521788</td>\n",
       "      <td>False</td>\n",
       "      <td>prison</td>\n",
       "      <td>1.495440e-01</td>\n",
       "      <td>False</td>\n",
       "      <td>restaurant</td>\n",
       "      <td>2.715260e-02</td>\n",
       "      <td>False</td>\n",
       "    </tr>\n",
       "    <tr>\n",
       "      <th>1900</th>\n",
       "      <td>851464819735769094</td>\n",
       "      <td>https://pbs.twimg.com/media/C9ECujZXsAAPCSM.jpg</td>\n",
       "      <td>2</td>\n",
       "      <td>web_site</td>\n",
       "      <td>0.919649</td>\n",
       "      <td>False</td>\n",
       "      <td>menu</td>\n",
       "      <td>2.630610e-02</td>\n",
       "      <td>False</td>\n",
       "      <td>crossword_puzzle</td>\n",
       "      <td>3.481510e-03</td>\n",
       "      <td>False</td>\n",
       "    </tr>\n",
       "    <tr>\n",
       "      <th>1902</th>\n",
       "      <td>851861385021730816</td>\n",
       "      <td>https://pbs.twimg.com/media/C8W6sY_W0AEmttW.jpg</td>\n",
       "      <td>1</td>\n",
       "      <td>pencil_box</td>\n",
       "      <td>0.662183</td>\n",
       "      <td>False</td>\n",
       "      <td>purse</td>\n",
       "      <td>6.650550e-02</td>\n",
       "      <td>False</td>\n",
       "      <td>pillow</td>\n",
       "      <td>4.472530e-02</td>\n",
       "      <td>False</td>\n",
       "    </tr>\n",
       "    <tr>\n",
       "      <th>1905</th>\n",
       "      <td>852226086759018497</td>\n",
       "      <td>https://pbs.twimg.com/ext_tw_video_thumb/85222...</td>\n",
       "      <td>1</td>\n",
       "      <td>prison</td>\n",
       "      <td>0.352793</td>\n",
       "      <td>False</td>\n",
       "      <td>dishwasher</td>\n",
       "      <td>1.107230e-01</td>\n",
       "      <td>False</td>\n",
       "      <td>file</td>\n",
       "      <td>9.411200e-02</td>\n",
       "      <td>False</td>\n",
       "    </tr>\n",
       "    <tr>\n",
       "      <th>1906</th>\n",
       "      <td>852311364735569921</td>\n",
       "      <td>https://pbs.twimg.com/media/C9QEqZ7XYAIR7fS.jpg</td>\n",
       "      <td>1</td>\n",
       "      <td>barbell</td>\n",
       "      <td>0.971581</td>\n",
       "      <td>False</td>\n",
       "      <td>dumbbell</td>\n",
       "      <td>2.841790e-02</td>\n",
       "      <td>False</td>\n",
       "      <td>go-kart</td>\n",
       "      <td>5.595040e-07</td>\n",
       "      <td>False</td>\n",
       "    </tr>\n",
       "    <tr>\n",
       "      <th>1910</th>\n",
       "      <td>853299958564483072</td>\n",
       "      <td>https://pbs.twimg.com/media/C9eHyF7XgAAOxPM.jpg</td>\n",
       "      <td>1</td>\n",
       "      <td>grille</td>\n",
       "      <td>0.652280</td>\n",
       "      <td>False</td>\n",
       "      <td>beach_wagon</td>\n",
       "      <td>1.128460e-01</td>\n",
       "      <td>False</td>\n",
       "      <td>convertible</td>\n",
       "      <td>8.625230e-02</td>\n",
       "      <td>False</td>\n",
       "    </tr>\n",
       "    <tr>\n",
       "      <th>1931</th>\n",
       "      <td>859074603037188101</td>\n",
       "      <td>https://pbs.twimg.com/media/C-wLyufW0AA546I.jpg</td>\n",
       "      <td>1</td>\n",
       "      <td>revolver</td>\n",
       "      <td>0.190292</td>\n",
       "      <td>False</td>\n",
       "      <td>projectile</td>\n",
       "      <td>1.490640e-01</td>\n",
       "      <td>False</td>\n",
       "      <td>fountain</td>\n",
       "      <td>6.604660e-02</td>\n",
       "      <td>False</td>\n",
       "    </tr>\n",
       "    <tr>\n",
       "      <th>1936</th>\n",
       "      <td>860184849394610176</td>\n",
       "      <td>https://pbs.twimg.com/media/C-_9jWWUwAAnwkd.jpg</td>\n",
       "      <td>1</td>\n",
       "      <td>chimpanzee</td>\n",
       "      <td>0.267612</td>\n",
       "      <td>False</td>\n",
       "      <td>gorilla</td>\n",
       "      <td>1.042930e-01</td>\n",
       "      <td>False</td>\n",
       "      <td>orangutan</td>\n",
       "      <td>5.990750e-02</td>\n",
       "      <td>False</td>\n",
       "    </tr>\n",
       "    <tr>\n",
       "      <th>1937</th>\n",
       "      <td>860276583193509888</td>\n",
       "      <td>https://pbs.twimg.com/media/C_BQ_NlVwAAgYGD.jpg</td>\n",
       "      <td>1</td>\n",
       "      <td>lakeside</td>\n",
       "      <td>0.312299</td>\n",
       "      <td>False</td>\n",
       "      <td>dock</td>\n",
       "      <td>1.598420e-01</td>\n",
       "      <td>False</td>\n",
       "      <td>canoe</td>\n",
       "      <td>7.079450e-02</td>\n",
       "      <td>False</td>\n",
       "    </tr>\n",
       "    <tr>\n",
       "      <th>1940</th>\n",
       "      <td>860924035999428608</td>\n",
       "      <td>https://pbs.twimg.com/media/C_KVJjDXsAEUCWn.jpg</td>\n",
       "      <td>2</td>\n",
       "      <td>envelope</td>\n",
       "      <td>0.933016</td>\n",
       "      <td>False</td>\n",
       "      <td>oscilloscope</td>\n",
       "      <td>1.259140e-02</td>\n",
       "      <td>False</td>\n",
       "      <td>paper_towel</td>\n",
       "      <td>1.117850e-02</td>\n",
       "      <td>False</td>\n",
       "    </tr>\n",
       "    <tr>\n",
       "      <th>1946</th>\n",
       "      <td>862457590147678208</td>\n",
       "      <td>https://pbs.twimg.com/media/C_gQmaTUMAAPYSS.jpg</td>\n",
       "      <td>1</td>\n",
       "      <td>home_theater</td>\n",
       "      <td>0.496348</td>\n",
       "      <td>False</td>\n",
       "      <td>studio_couch</td>\n",
       "      <td>1.672560e-01</td>\n",
       "      <td>False</td>\n",
       "      <td>barber_chair</td>\n",
       "      <td>5.262500e-02</td>\n",
       "      <td>False</td>\n",
       "    </tr>\n",
       "    <tr>\n",
       "      <th>1953</th>\n",
       "      <td>863907417377173506</td>\n",
       "      <td>https://pbs.twimg.com/media/C_03NPeUQAAgrMl.jpg</td>\n",
       "      <td>1</td>\n",
       "      <td>marmot</td>\n",
       "      <td>0.358828</td>\n",
       "      <td>False</td>\n",
       "      <td>meerkat</td>\n",
       "      <td>1.747030e-01</td>\n",
       "      <td>False</td>\n",
       "      <td>weasel</td>\n",
       "      <td>1.234850e-01</td>\n",
       "      <td>False</td>\n",
       "    </tr>\n",
       "    <tr>\n",
       "      <th>1956</th>\n",
       "      <td>864873206498414592</td>\n",
       "      <td>https://pbs.twimg.com/media/DAClmHkXcAA1kSv.jpg</td>\n",
       "      <td>2</td>\n",
       "      <td>pole</td>\n",
       "      <td>0.478616</td>\n",
       "      <td>False</td>\n",
       "      <td>lakeside</td>\n",
       "      <td>1.141820e-01</td>\n",
       "      <td>False</td>\n",
       "      <td>wreck</td>\n",
       "      <td>5.592650e-02</td>\n",
       "      <td>False</td>\n",
       "    </tr>\n",
       "    <tr>\n",
       "      <th>1975</th>\n",
       "      <td>870063196459192321</td>\n",
       "      <td>https://pbs.twimg.com/media/DBMV3NnXUAAm0Pp.jpg</td>\n",
       "      <td>1</td>\n",
       "      <td>comic_book</td>\n",
       "      <td>0.534409</td>\n",
       "      <td>False</td>\n",
       "      <td>envelope</td>\n",
       "      <td>2.807220e-01</td>\n",
       "      <td>False</td>\n",
       "      <td>book_jacket</td>\n",
       "      <td>4.378550e-02</td>\n",
       "      <td>False</td>\n",
       "    </tr>\n",
       "    <tr>\n",
       "      <th>1979</th>\n",
       "      <td>870804317367881728</td>\n",
       "      <td>https://pbs.twimg.com/media/DBW35ZsVoAEWZUU.jpg</td>\n",
       "      <td>1</td>\n",
       "      <td>home_theater</td>\n",
       "      <td>0.168290</td>\n",
       "      <td>False</td>\n",
       "      <td>sandbar</td>\n",
       "      <td>9.804040e-02</td>\n",
       "      <td>False</td>\n",
       "      <td>television</td>\n",
       "      <td>7.972940e-02</td>\n",
       "      <td>False</td>\n",
       "    </tr>\n",
       "    <tr>\n",
       "      <th>2012</th>\n",
       "      <td>879050749262655488</td>\n",
       "      <td>https://pbs.twimg.com/media/DDMD_phXoAQ1qf0.jpg</td>\n",
       "      <td>1</td>\n",
       "      <td>tabby</td>\n",
       "      <td>0.311861</td>\n",
       "      <td>False</td>\n",
       "      <td>window_screen</td>\n",
       "      <td>1.691230e-01</td>\n",
       "      <td>False</td>\n",
       "      <td>Egyptian_cat</td>\n",
       "      <td>1.329320e-01</td>\n",
       "      <td>False</td>\n",
       "    </tr>\n",
       "    <tr>\n",
       "      <th>2021</th>\n",
       "      <td>880935762899988482</td>\n",
       "      <td>https://pbs.twimg.com/media/DDm2Z5aXUAEDS2u.jpg</td>\n",
       "      <td>1</td>\n",
       "      <td>street_sign</td>\n",
       "      <td>0.251801</td>\n",
       "      <td>False</td>\n",
       "      <td>umbrella</td>\n",
       "      <td>1.151230e-01</td>\n",
       "      <td>False</td>\n",
       "      <td>traffic_light</td>\n",
       "      <td>6.953380e-02</td>\n",
       "      <td>False</td>\n",
       "    </tr>\n",
       "    <tr>\n",
       "      <th>2022</th>\n",
       "      <td>881268444196462592</td>\n",
       "      <td>https://pbs.twimg.com/media/DDrk-f9WAAI-WQv.jpg</td>\n",
       "      <td>1</td>\n",
       "      <td>tusker</td>\n",
       "      <td>0.473303</td>\n",
       "      <td>False</td>\n",
       "      <td>Indian_elephant</td>\n",
       "      <td>2.456460e-01</td>\n",
       "      <td>False</td>\n",
       "      <td>ibex</td>\n",
       "      <td>5.566070e-02</td>\n",
       "      <td>False</td>\n",
       "    </tr>\n",
       "    <tr>\n",
       "      <th>2046</th>\n",
       "      <td>886680336477933568</td>\n",
       "      <td>https://pbs.twimg.com/media/DE4fEDzWAAAyHMM.jpg</td>\n",
       "      <td>1</td>\n",
       "      <td>convertible</td>\n",
       "      <td>0.738995</td>\n",
       "      <td>False</td>\n",
       "      <td>sports_car</td>\n",
       "      <td>1.399520e-01</td>\n",
       "      <td>False</td>\n",
       "      <td>car_wheel</td>\n",
       "      <td>4.417270e-02</td>\n",
       "      <td>False</td>\n",
       "    </tr>\n",
       "    <tr>\n",
       "      <th>2052</th>\n",
       "      <td>887517139158093824</td>\n",
       "      <td>https://pbs.twimg.com/ext_tw_video_thumb/88751...</td>\n",
       "      <td>1</td>\n",
       "      <td>limousine</td>\n",
       "      <td>0.130432</td>\n",
       "      <td>False</td>\n",
       "      <td>tow_truck</td>\n",
       "      <td>2.917540e-02</td>\n",
       "      <td>False</td>\n",
       "      <td>shopping_cart</td>\n",
       "      <td>2.632080e-02</td>\n",
       "      <td>False</td>\n",
       "    </tr>\n",
       "    <tr>\n",
       "      <th>2074</th>\n",
       "      <td>892420643555336193</td>\n",
       "      <td>https://pbs.twimg.com/media/DGKD1-bXoAAIAUK.jpg</td>\n",
       "      <td>1</td>\n",
       "      <td>orange</td>\n",
       "      <td>0.097049</td>\n",
       "      <td>False</td>\n",
       "      <td>bagel</td>\n",
       "      <td>8.585110e-02</td>\n",
       "      <td>False</td>\n",
       "      <td>banana</td>\n",
       "      <td>7.611000e-02</td>\n",
       "      <td>False</td>\n",
       "    </tr>\n",
       "  </tbody>\n",
       "</table>\n",
       "<p>324 rows × 12 columns</p>\n",
       "</div>"
      ],
      "text/plain": [
       "                tweet_id                                            jpg_url  \\\n",
       "6     666051853826850816    https://pbs.twimg.com/media/CT5KoJ1WoAAJash.jpg   \n",
       "17    666104133288665088    https://pbs.twimg.com/media/CT56LSZWoAAlJj2.jpg   \n",
       "18    666268910803644416    https://pbs.twimg.com/media/CT8QCd1WEAADXws.jpg   \n",
       "21    666293911632134144    https://pbs.twimg.com/media/CT8mx7KW4AEQu8N.jpg   \n",
       "25    666362758909284353    https://pbs.twimg.com/media/CT9lXGsUcAAyUFt.jpg   \n",
       "29    666411507551481857    https://pbs.twimg.com/media/CT-RugiWIAELEaq.jpg   \n",
       "45    666786068205871104    https://pbs.twimg.com/media/CUDmZIkWcAAIPPe.jpg   \n",
       "50    666837028449972224    https://pbs.twimg.com/media/CUEUva1WsAA2jPb.jpg   \n",
       "51    666983947667116034    https://pbs.twimg.com/media/CUGaXDhW4AY9JUH.jpg   \n",
       "53    667012601033924608    https://pbs.twimg.com/media/CUG0bC0U8AAw2su.jpg   \n",
       "56    667065535570550784    https://pbs.twimg.com/media/CUHkkJpXIAA2w3n.jpg   \n",
       "69    667188689915760640    https://pbs.twimg.com/media/CUJUk2iWUAAVtOv.jpg   \n",
       "73    667369227918143488    https://pbs.twimg.com/media/CUL4xR9UkAEdlJ6.jpg   \n",
       "77    667437278097252352    https://pbs.twimg.com/media/CUM2qWaWoAUZ06L.jpg   \n",
       "78    667443425659232256    https://pbs.twimg.com/media/CUM8QZwW4AAVsBl.jpg   \n",
       "93    667549055577362432    https://pbs.twimg.com/media/CUOcVCwWsAERUKY.jpg   \n",
       "94    667550882905632768    https://pbs.twimg.com/media/CUObvUJVEAAnYPF.jpg   \n",
       "96    667724302356258817    https://pbs.twimg.com/media/CUQ7tv3W4AA3KlI.jpg   \n",
       "98    667766675769573376    https://pbs.twimg.com/media/CURiQMnUAAAPT2M.jpg   \n",
       "100   667782464991965184    https://pbs.twimg.com/media/CURwm3cUkAARcO6.jpg   \n",
       "106   667866724293877760    https://pbs.twimg.com/media/CUS9PlUWwAANeAD.jpg   \n",
       "107   667873844930215936    https://pbs.twimg.com/media/CUTDtyGXIAARxus.jpg   \n",
       "112   667911425562669056    https://pbs.twimg.com/media/CUTl5m1WUAAabZG.jpg   \n",
       "115   667937095915278337    https://pbs.twimg.com/media/CUT9PuQWwAABQv7.jpg   \n",
       "117   668142349051129856    https://pbs.twimg.com/media/CUW37BzWsAAlJlN.jpg   \n",
       "118   668154635664932864    https://pbs.twimg.com/media/CUXDGR2WcAAUQKz.jpg   \n",
       "123   668226093875376128    https://pbs.twimg.com/media/CUYEFlQXAAUkPGm.jpg   \n",
       "130   668291999406125056    https://pbs.twimg.com/media/CUZABzGW4AE5F0k.jpg   \n",
       "132   668466899341221888    https://pbs.twimg.com/media/CUbfGbbWoAApZth.jpg   \n",
       "140   668544745690562560    https://pbs.twimg.com/media/CUcl5jeWsAA6ufS.jpg   \n",
       "...                  ...                                                ...   \n",
       "1839  837482249356513284    https://pbs.twimg.com/media/C59VqMUXEAAzldG.jpg   \n",
       "1844  838916489579200512    https://pbs.twimg.com/media/C6RkiQZUsAAM4R4.jpg   \n",
       "1847  839290600511926273    https://pbs.twimg.com/media/C6XBt9XXEAEEW9U.jpg   \n",
       "1851  840370681858686976    https://pbs.twimg.com/media/C6mYrK0UwAANhep.jpg   \n",
       "1853  840696689258311684    https://pbs.twimg.com/media/C6rBLenU0AAr8MN.jpg   \n",
       "1869  844580511645339650    https://pbs.twimg.com/media/C7iNfq1W0AAcbsR.jpg   \n",
       "1886  847962785489326080    https://pbs.twimg.com/media/C8SRpHNUIAARB3j.jpg   \n",
       "1887  847971574464610304    https://pbs.twimg.com/media/C8SZH1EWAAAIRRF.jpg   \n",
       "1891  849051919805034497    https://pbs.twimg.com/media/C8hwNxbXYAAwyVG.jpg   \n",
       "1892  849336543269576704    https://pbs.twimg.com/media/C8lzFC4XcAAQxB4.jpg   \n",
       "1900  851464819735769094    https://pbs.twimg.com/media/C9ECujZXsAAPCSM.jpg   \n",
       "1902  851861385021730816    https://pbs.twimg.com/media/C8W6sY_W0AEmttW.jpg   \n",
       "1905  852226086759018497  https://pbs.twimg.com/ext_tw_video_thumb/85222...   \n",
       "1906  852311364735569921    https://pbs.twimg.com/media/C9QEqZ7XYAIR7fS.jpg   \n",
       "1910  853299958564483072    https://pbs.twimg.com/media/C9eHyF7XgAAOxPM.jpg   \n",
       "1931  859074603037188101    https://pbs.twimg.com/media/C-wLyufW0AA546I.jpg   \n",
       "1936  860184849394610176    https://pbs.twimg.com/media/C-_9jWWUwAAnwkd.jpg   \n",
       "1937  860276583193509888    https://pbs.twimg.com/media/C_BQ_NlVwAAgYGD.jpg   \n",
       "1940  860924035999428608    https://pbs.twimg.com/media/C_KVJjDXsAEUCWn.jpg   \n",
       "1946  862457590147678208    https://pbs.twimg.com/media/C_gQmaTUMAAPYSS.jpg   \n",
       "1953  863907417377173506    https://pbs.twimg.com/media/C_03NPeUQAAgrMl.jpg   \n",
       "1956  864873206498414592    https://pbs.twimg.com/media/DAClmHkXcAA1kSv.jpg   \n",
       "1975  870063196459192321    https://pbs.twimg.com/media/DBMV3NnXUAAm0Pp.jpg   \n",
       "1979  870804317367881728    https://pbs.twimg.com/media/DBW35ZsVoAEWZUU.jpg   \n",
       "2012  879050749262655488    https://pbs.twimg.com/media/DDMD_phXoAQ1qf0.jpg   \n",
       "2021  880935762899988482    https://pbs.twimg.com/media/DDm2Z5aXUAEDS2u.jpg   \n",
       "2022  881268444196462592    https://pbs.twimg.com/media/DDrk-f9WAAI-WQv.jpg   \n",
       "2046  886680336477933568    https://pbs.twimg.com/media/DE4fEDzWAAAyHMM.jpg   \n",
       "2052  887517139158093824  https://pbs.twimg.com/ext_tw_video_thumb/88751...   \n",
       "2074  892420643555336193    https://pbs.twimg.com/media/DGKD1-bXoAAIAUK.jpg   \n",
       "\n",
       "      img_num                p1   p1_conf  p1_dog                   p2  \\\n",
       "6           1        box_turtle  0.933012   False           mud_turtle   \n",
       "17          1               hen  0.965932   False                 cock   \n",
       "18          1  desktop_computer  0.086502   False                 desk   \n",
       "21          1  three-toed_sloth  0.914671   False                otter   \n",
       "25          1        guinea_pig  0.996496   False                skunk   \n",
       "29          1              coho  0.404640   False           barracouta   \n",
       "45          1             snail  0.999888   False                 slug   \n",
       "50          1       triceratops  0.442113   False            armadillo   \n",
       "51          1              swab  0.589446   False            chain_saw   \n",
       "53          1             hyena  0.987230   False  African_hunting_dog   \n",
       "56          1     jigsaw_puzzle  0.560001   False              doormat   \n",
       "69          1            vacuum  0.335830   False                 swab   \n",
       "73          1             teddy  0.709545   False           bath_towel   \n",
       "77          1         porcupine  0.989154   False           bath_towel   \n",
       "78          1             goose  0.980815   False                drake   \n",
       "93          1      electric_fan  0.984377   False            spotlight   \n",
       "94          1          web_site  0.998258   False           dishwasher   \n",
       "96          1              ibex  0.619098   False              bighorn   \n",
       "98          1       fire_engine  0.883493   False            tow_truck   \n",
       "100         1          lorikeet  0.466149   False          hummingbird   \n",
       "106         1     jigsaw_puzzle  1.000000   False           prayer_rug   \n",
       "107         1     common_iguana  0.999647   False       frilled_lizard   \n",
       "112         1    frilled_lizard  0.257695   False                   ox   \n",
       "115         1           hamster  0.172078   False           guinea_pig   \n",
       "117         1            Angora  0.918834   False                  hen   \n",
       "118         1        Arctic_fox  0.473584   False              wallaby   \n",
       "123         1          trombone  0.390339   False               cornet   \n",
       "130         1          web_site  0.995535   False                skunk   \n",
       "132         1   shopping_basket  0.398361   False               hamper   \n",
       "140         1          bearskin  0.427870   False                  bow   \n",
       "...       ...               ...       ...     ...                  ...   \n",
       "1839        2         birdhouse  0.541196   False           can_opener   \n",
       "1844        2          web_site  0.993651   False              monitor   \n",
       "1847        1          web_site  0.670892   False              monitor   \n",
       "1851        1            teapot  0.981819   False                  cup   \n",
       "1853        1          web_site  0.841768   False                 rule   \n",
       "1869        1            washer  0.903064   False           dishwasher   \n",
       "1886        1          sea_lion  0.882654   False                 mink   \n",
       "1887        1        coffee_mug  0.633652   False                  cup   \n",
       "1891        1          fountain  0.997509   False  American_black_bear   \n",
       "1892        1             patio  0.521788   False               prison   \n",
       "1900        2          web_site  0.919649   False                 menu   \n",
       "1902        1        pencil_box  0.662183   False                purse   \n",
       "1905        1            prison  0.352793   False           dishwasher   \n",
       "1906        1           barbell  0.971581   False             dumbbell   \n",
       "1910        1            grille  0.652280   False          beach_wagon   \n",
       "1931        1          revolver  0.190292   False           projectile   \n",
       "1936        1        chimpanzee  0.267612   False              gorilla   \n",
       "1937        1          lakeside  0.312299   False                 dock   \n",
       "1940        2          envelope  0.933016   False         oscilloscope   \n",
       "1946        1      home_theater  0.496348   False         studio_couch   \n",
       "1953        1            marmot  0.358828   False              meerkat   \n",
       "1956        2              pole  0.478616   False             lakeside   \n",
       "1975        1        comic_book  0.534409   False             envelope   \n",
       "1979        1      home_theater  0.168290   False              sandbar   \n",
       "2012        1             tabby  0.311861   False        window_screen   \n",
       "2021        1       street_sign  0.251801   False             umbrella   \n",
       "2022        1            tusker  0.473303   False      Indian_elephant   \n",
       "2046        1       convertible  0.738995   False           sports_car   \n",
       "2052        1         limousine  0.130432   False            tow_truck   \n",
       "2074        1            orange  0.097049   False                bagel   \n",
       "\n",
       "           p2_conf  p2_dog                  p3       p3_conf  p3_dog  \n",
       "6     4.588540e-02   False            terrapin  1.788530e-02   False  \n",
       "17    3.391940e-02   False           partridge  5.206580e-05   False  \n",
       "18    8.554740e-02   False            bookcase  7.947970e-02   False  \n",
       "21    1.525000e-02   False      great_grey_owl  1.320720e-02   False  \n",
       "25    2.402450e-03   False             hamster  4.608630e-04   False  \n",
       "29    2.714850e-01   False                 gar  1.899450e-01   False  \n",
       "45    5.514170e-05   False               acorn  2.625800e-05   False  \n",
       "50    1.140710e-01   False       common_iguana  4.325530e-02   False  \n",
       "51    1.901420e-01   False                 wig  3.450970e-02   False  \n",
       "53    1.260080e-02   False              coyote  5.735010e-05   False  \n",
       "56    1.032590e-01   False        space_heater  4.256800e-02   False  \n",
       "69    2.652780e-01   False       toilet_tissue  1.407030e-01   False  \n",
       "73    1.272850e-01   False  Christmas_stocking  2.856750e-02   False  \n",
       "77    6.300490e-03   False              badger  9.663400e-04   False  \n",
       "78    6.917770e-03   False                 hen  5.255170e-03   False  \n",
       "93    7.736710e-03   False           lampshade  1.901230e-03   False  \n",
       "94    2.010840e-04   False        oscilloscope  1.417360e-04   False  \n",
       "96    1.251190e-01   False                 ram  7.467320e-02   False  \n",
       "98    7.473390e-02   False                jeep  1.277260e-02   False  \n",
       "100   8.301100e-02   False        African_grey  5.424740e-02   False  \n",
       "106   1.011300e-08   False             doormat  1.740170e-10   False  \n",
       "107   1.811500e-04   False   African_chameleon  1.283570e-04   False  \n",
       "112   2.351600e-01   False         triceratops  8.531690e-02   False  \n",
       "115   9.492420e-02   False            Band_Aid  5.999520e-02   False  \n",
       "117   3.779340e-02   False         wood_rabbit  1.101490e-02   False  \n",
       "118   2.614110e-01   False          white_wolf  8.094780e-02   False  \n",
       "123   3.141490e-01   False         French_horn  2.551820e-01   False  \n",
       "130   1.363490e-03   False              badger  6.856500e-04   False  \n",
       "132   3.632220e-01   False            bassinet  8.417350e-02   False  \n",
       "140   2.588580e-01   False             panpipe  2.156260e-02   False  \n",
       "...            ...     ...                 ...           ...     ...  \n",
       "1839  1.210940e-01   False              carton  5.613670e-02   False  \n",
       "1844  1.405900e-03   False            envelope  1.093090e-03   False  \n",
       "1847  1.015650e-01   False              screen  7.530610e-02   False  \n",
       "1851  1.402580e-02   False           coffeepot  2.420540e-03   False  \n",
       "1853  7.087310e-03   False            envelope  6.820300e-03   False  \n",
       "1869  3.248900e-02   False             printer  1.645620e-02   False  \n",
       "1886  6.688020e-02   False               otter  2.567870e-02   False  \n",
       "1887  2.733920e-01   False       toilet_tissue  6.665580e-02   False  \n",
       "1891  1.413120e-03   False             sundial  6.811150e-04   False  \n",
       "1892  1.495440e-01   False          restaurant  2.715260e-02   False  \n",
       "1900  2.630610e-02   False    crossword_puzzle  3.481510e-03   False  \n",
       "1902  6.650550e-02   False              pillow  4.472530e-02   False  \n",
       "1905  1.107230e-01   False                file  9.411200e-02   False  \n",
       "1906  2.841790e-02   False             go-kart  5.595040e-07   False  \n",
       "1910  1.128460e-01   False         convertible  8.625230e-02   False  \n",
       "1931  1.490640e-01   False            fountain  6.604660e-02   False  \n",
       "1936  1.042930e-01   False           orangutan  5.990750e-02   False  \n",
       "1937  1.598420e-01   False               canoe  7.079450e-02   False  \n",
       "1940  1.259140e-02   False         paper_towel  1.117850e-02   False  \n",
       "1946  1.672560e-01   False        barber_chair  5.262500e-02   False  \n",
       "1953  1.747030e-01   False              weasel  1.234850e-01   False  \n",
       "1956  1.141820e-01   False               wreck  5.592650e-02   False  \n",
       "1975  2.807220e-01   False         book_jacket  4.378550e-02   False  \n",
       "1979  9.804040e-02   False          television  7.972940e-02   False  \n",
       "2012  1.691230e-01   False        Egyptian_cat  1.329320e-01   False  \n",
       "2021  1.151230e-01   False       traffic_light  6.953380e-02   False  \n",
       "2022  2.456460e-01   False                ibex  5.566070e-02   False  \n",
       "2046  1.399520e-01   False           car_wheel  4.417270e-02   False  \n",
       "2052  2.917540e-02   False       shopping_cart  2.632080e-02   False  \n",
       "2074  8.585110e-02   False              banana  7.611000e-02   False  \n",
       "\n",
       "[324 rows x 12 columns]"
      ]
     },
     "execution_count": 31,
     "metadata": {},
     "output_type": "execute_result"
    }
   ],
   "source": [
    "image_predictions.query('p1_dog == False and p2_dog == False and p3_dog == False')"
   ]
  },
  {
   "cell_type": "markdown",
   "metadata": {},
   "source": [
    "All of these columns have p1_dog, p2_dog & p3_dog values False which means the images in this entries aren't of dogs."
   ]
  },
  {
   "cell_type": "code",
   "execution_count": 32,
   "metadata": {},
   "outputs": [
    {
     "name": "stdout",
     "output_type": "stream",
     "text": [
      "<class 'pandas.core.frame.DataFrame'>\n",
      "RangeIndex: 2333 entries, 0 to 2332\n",
      "Data columns (total 5 columns):\n",
      "tweet_id              2333 non-null int64\n",
      "retweet_count         2333 non-null int64\n",
      "favorite_count        2333 non-null int64\n",
      "retweeted             2333 non-null bool\n",
      "display_text_range    2333 non-null object\n",
      "dtypes: bool(1), int64(3), object(1)\n",
      "memory usage: 75.3+ KB\n"
     ]
    }
   ],
   "source": [
    "tweet_df.info()"
   ]
  },
  {
   "cell_type": "code",
   "execution_count": 33,
   "metadata": {},
   "outputs": [
    {
     "data": {
      "text/plain": [
       "False    2333\n",
       "Name: retweeted, dtype: int64"
      ]
     },
     "execution_count": 33,
     "metadata": {},
     "output_type": "execute_result"
    }
   ],
   "source": [
    "tweet_df.retweeted.value_counts()"
   ]
  },
  {
   "cell_type": "markdown",
   "metadata": {},
   "source": [
    "None of the tweets were retweeted. This column is not needed in this dataframe."
   ]
  },
  {
   "cell_type": "markdown",
   "metadata": {},
   "source": [
    "### Summary\n",
    "\n",
    "#### Quality Issues\n",
    "\n",
    "**twitter archive dataframe**\n",
    "1. Incorrect datatypes for in_reply_to_status_id, in_reply_to_user_id columns, timestamp fields & tweet_id.\n",
    "2. Unneccessary html tags in some of the values in source column.\n",
    "3. Text column contains untruncated text instead of displayable text.\n",
    "4. Many of the tweet ids present in twitter_archive df are not present in image_predictions df.\n",
    "5. There are retweeted entries in this dataframe.\n",
    "\n",
    "**image prediction dataframe**\n",
    "1. Incorrect datatypes for p1, p2 & p3 & tweet_id\n",
    "2. There should be space instead of '_' in p1,p2 & p3 columns.\n",
    "3. The names in p1, p2 & p3 are not consistent, sometimes start with uppercase and other times with lowercase.\n",
    "4. There are several entries with no dog images in the tweets.\n",
    "\n",
    "**tweet df**\n",
    "1. There is no need to have retweeted column in this dataframe since all of its values are False.\n",
    "2. Incorrect datatype for tweet_id column.\n",
    "\n",
    "#### Tidiness Issues\n",
    "\n",
    "1. Retweet count & Favorite count should be merged from tweet_df into twitter_archive dataframe.\n",
    "2. Merge the doggo, floffer, pupper & puppo columns of twitter_archive into a single column dog_stage.\n",
    "3. There is no need to have retweeted columns (retweeted_status_id, retweeted_status_user_id &   retweeted_status_timestamp)\n",
    "4. Merge p1 and p1_conf column of image_classification dataframe into the twitter_archive_clean dataframe\n"
   ]
  },
  {
   "cell_type": "markdown",
   "metadata": {},
   "source": [
    "## Cleaning data"
   ]
  },
  {
   "cell_type": "markdown",
   "metadata": {},
   "source": [
    "### Data Quality Issues"
   ]
  },
  {
   "cell_type": "code",
   "execution_count": 53,
   "metadata": {},
   "outputs": [],
   "source": [
    "twitter_archive_clean = twitter_archive.copy()"
   ]
  },
  {
   "cell_type": "markdown",
   "metadata": {},
   "source": [
    "**twitter archive dataframe**"
   ]
  },
  {
   "cell_type": "markdown",
   "metadata": {},
   "source": [
    "1. Incorrect datatypes for in_reply_to_status_id, in_reply_to_user_id columns, timestamp fields & tweet_id.\n",
    "   "
   ]
  },
  {
   "cell_type": "markdown",
   "metadata": {},
   "source": [
    "#### Define"
   ]
  },
  {
   "cell_type": "markdown",
   "metadata": {},
   "source": [
    " - change in_reply_to_status_id & in_reply_to_user_id from float to int\n",
    " - timestamp from object to datetime\n",
    " - tweet_id from int to string"
   ]
  },
  {
   "cell_type": "markdown",
   "metadata": {},
   "source": [
    "#### Code"
   ]
  },
  {
   "cell_type": "code",
   "execution_count": 57,
   "metadata": {},
   "outputs": [],
   "source": [
    "twitter_archive_clean.in_reply_to_status_id = twitter_archive_clean.in_reply_to_status_id.fillna(0)\n",
    "twitter_archive_clean.in_reply_to_user_id = twitter_archive_clean.in_reply_to_user_id.fillna(0)\n",
    "\n",
    "twitter_archive_clean.in_reply_to_status_id = twitter_archive_clean.in_reply_to_status_id.astype(int)\n",
    "twitter_archive_clean.in_reply_to_user_id = twitter_archive_clean.in_reply_to_user_id.astype(int)\n",
    "\n",
    "twitter_archive_clean.timestamp = pd.to_datetime(twitter_archive_clean.timestamp)\n",
    "twitter_archive_clean.retweeted_status_timestamp = pd.to_datetime(twitter_archive_clean.retweeted_status_timestamp)\n",
    "\n",
    "twitter_archive_clean.tweet_id = twitter_archive_clean.tweet_id.astype(str)\n",
    "\n",
    "tweet_df.tweet_id = tweet_df.tweet_id.astype(str)"
   ]
  },
  {
   "cell_type": "markdown",
   "metadata": {},
   "source": [
    "#### Test"
   ]
  },
  {
   "cell_type": "code",
   "execution_count": 56,
   "metadata": {},
   "outputs": [
    {
     "name": "stdout",
     "output_type": "stream",
     "text": [
      "<class 'pandas.core.frame.DataFrame'>\n",
      "Int64Index: 2075 entries, 0 to 2355\n",
      "Data columns (total 17 columns):\n",
      "tweet_id                      2075 non-null int64\n",
      "in_reply_to_status_id         23 non-null float64\n",
      "in_reply_to_user_id           23 non-null float64\n",
      "timestamp                     2075 non-null object\n",
      "source                        2075 non-null object\n",
      "text                          2075 non-null object\n",
      "retweeted_status_id           81 non-null float64\n",
      "retweeted_status_user_id      81 non-null float64\n",
      "retweeted_status_timestamp    81 non-null object\n",
      "expanded_urls                 2075 non-null object\n",
      "rating_numerator              2075 non-null int64\n",
      "rating_denominator            2075 non-null int64\n",
      "name                          2075 non-null object\n",
      "doggo                         2075 non-null object\n",
      "floofer                       2075 non-null object\n",
      "pupper                        2075 non-null object\n",
      "puppo                         2075 non-null object\n",
      "dtypes: float64(4), int64(3), object(10)\n",
      "memory usage: 291.8+ KB\n"
     ]
    }
   ],
   "source": [
    "twitter_archive_clean.info()"
   ]
  },
  {
   "cell_type": "markdown",
   "metadata": {},
   "source": [
    "2. Unneccessary html tags in some of the values in source column."
   ]
  },
  {
   "cell_type": "markdown",
   "metadata": {},
   "source": [
    "#### Define"
   ]
  },
  {
   "cell_type": "markdown",
   "metadata": {},
   "source": [
    "Remove html tags and just leave the text in the source column and then convert it into category datatype"
   ]
  },
  {
   "cell_type": "markdown",
   "metadata": {},
   "source": [
    "#### Code"
   ]
  },
  {
   "cell_type": "code",
   "execution_count": 58,
   "metadata": {},
   "outputs": [],
   "source": [
    "twitter_archive_clean.source = twitter_archive_clean.source.str.replace(r'<(?:a\\b[^>]*>|/a>)', '')\n",
    "twitter_archive_clean.source = twitter_archive_clean.source.astype('category')"
   ]
  },
  {
   "cell_type": "markdown",
   "metadata": {},
   "source": [
    "#### Test"
   ]
  },
  {
   "cell_type": "code",
   "execution_count": 38,
   "metadata": {},
   "outputs": [
    {
     "data": {
      "text/plain": [
       "163    Twitter for iPhone\n",
       "Name: source, dtype: category\n",
       "Categories (4, object): [TweetDeck, Twitter Web Client, Twitter for iPhone, Vine - Make a Scene]"
      ]
     },
     "execution_count": 38,
     "metadata": {},
     "output_type": "execute_result"
    }
   ],
   "source": [
    "twitter_archive_clean.source.sample()"
   ]
  },
  {
   "cell_type": "code",
   "execution_count": 39,
   "metadata": {},
   "outputs": [
    {
     "data": {
      "text/plain": [
       "Twitter for iPhone     2221\n",
       "Vine - Make a Scene      91\n",
       "Twitter Web Client       33\n",
       "TweetDeck                11\n",
       "Name: source, dtype: int64"
      ]
     },
     "execution_count": 39,
     "metadata": {},
     "output_type": "execute_result"
    }
   ],
   "source": [
    "twitter_archive_clean.source.value_counts()"
   ]
  },
  {
   "cell_type": "markdown",
   "metadata": {},
   "source": [
    "3. Text column contains untruncated text instead of displayable text.\n"
   ]
  },
  {
   "cell_type": "markdown",
   "metadata": {},
   "source": [
    "#### Define"
   ]
  },
  {
   "cell_type": "markdown",
   "metadata": {},
   "source": [
    "Extract the displayable text from tweet_df and use it in twitter_archive_clean dataframe"
   ]
  },
  {
   "cell_type": "markdown",
   "metadata": {},
   "source": [
    "#### Code"
   ]
  },
  {
   "cell_type": "code",
   "execution_count": 40,
   "metadata": {},
   "outputs": [
    {
     "name": "stdout",
     "output_type": "stream",
     "text": [
      "This is Tilly. She's just checking pup on you. Hopes you're doing ok. If not, she's available for pats, snugs, boops, the whole bit. 13/10 https://t.co/0Xxu71qeIV\n",
      "This is Archie. He is a rare Norwegian Pouncing Corgo. Lives in the tall grass. You never know when one may strike. 12/10 https://t.co/wUnZnhtVJB\n"
     ]
    }
   ],
   "source": [
    "print(twitter_archive_clean.text[1])\n",
    "\n",
    "print(twitter_archive_clean.text[2])"
   ]
  },
  {
   "cell_type": "code",
   "execution_count": 59,
   "metadata": {},
   "outputs": [],
   "source": [
    "twitter_archive_clean = pd.merge(twitter_archive_clean, tweet_df[['tweet_id', 'display_text_range']], on='tweet_id')"
   ]
  },
  {
   "cell_type": "code",
   "execution_count": 60,
   "metadata": {},
   "outputs": [
    {
     "name": "stderr",
     "output_type": "stream",
     "text": [
      "/anaconda3/lib/python3.7/site-packages/ipykernel_launcher.py:4: FutureWarning: set_value is deprecated and will be removed in a future release. Please use .at[] or .iat[] accessors instead\n",
      "  after removing the cwd from sys.path.\n"
     ]
    }
   ],
   "source": [
    "for i, j in twitter_archive_clean.iterrows():\n",
    "    text_range = j.display_text_range\n",
    "    display = j.text[text_range[0]:text_range[1]]\n",
    "    twitter_archive_clean.set_value(i, 'text', display)\n",
    "    "
   ]
  },
  {
   "cell_type": "markdown",
   "metadata": {},
   "source": [
    "#### Test"
   ]
  },
  {
   "cell_type": "code",
   "execution_count": 43,
   "metadata": {},
   "outputs": [
    {
     "name": "stdout",
     "output_type": "stream",
     "text": [
      "This is Tilly. She's just checking pup on you. Hopes you're doing ok. If not, she's available for pats, snugs, boops, the whole bit. 13/10\n",
      "This is Archie. He is a rare Norwegian Pouncing Corgo. Lives in the tall grass. You never know when one may strike. 12/10\n"
     ]
    }
   ],
   "source": [
    "print(twitter_archive_clean.text[1])\n",
    "\n",
    "print(twitter_archive_clean.text[2])"
   ]
  },
  {
   "cell_type": "markdown",
   "metadata": {},
   "source": [
    "4. Many of the tweet ids present in twitter_archive are not present in image_predictions.\n"
   ]
  },
  {
   "cell_type": "markdown",
   "metadata": {},
   "source": [
    "#### Define"
   ]
  },
  {
   "cell_type": "markdown",
   "metadata": {},
   "source": [
    "Keep only the entries of tweet_ids present in both twitter_archive dataframe and image_predictions dataframe."
   ]
  },
  {
   "cell_type": "markdown",
   "metadata": {},
   "source": [
    "#### Code"
   ]
  },
  {
   "cell_type": "code",
   "execution_count": 55,
   "metadata": {},
   "outputs": [],
   "source": [
    "twitter_archive_clean = twitter_archive_clean[twitter_archive_clean.tweet_id.isin(image_predictions.tweet_id)]\n",
    "\n"
   ]
  },
  {
   "cell_type": "markdown",
   "metadata": {},
   "source": [
    "#### Test"
   ]
  },
  {
   "cell_type": "code",
   "execution_count": 378,
   "metadata": {},
   "outputs": [
    {
     "data": {
      "text/plain": [
       "0"
      ]
     },
     "execution_count": 378,
     "metadata": {},
     "output_type": "execute_result"
    }
   ],
   "source": [
    "len(twitter_archive_clean[~twitter_archive_clean.tweet_id.isin(image_predictions.tweet_id)])"
   ]
  },
  {
   "cell_type": "markdown",
   "metadata": {},
   "source": [
    "5. There are retweeted entries in this dataframe"
   ]
  },
  {
   "cell_type": "markdown",
   "metadata": {},
   "source": [
    "#### Define"
   ]
  },
  {
   "cell_type": "markdown",
   "metadata": {},
   "source": [
    "The retweeted_status_id column value should be null in all the cases since there should be no retweeted entries in this df. The current value is 181."
   ]
  },
  {
   "cell_type": "code",
   "execution_count": 283,
   "metadata": {},
   "outputs": [
    {
     "data": {
      "text/plain": [
       "181"
      ]
     },
     "execution_count": 283,
     "metadata": {},
     "output_type": "execute_result"
    }
   ],
   "source": [
    "twitter_archive_clean.retweeted_status_id.notnull().sum()"
   ]
  },
  {
   "cell_type": "markdown",
   "metadata": {},
   "source": [
    "#### Code"
   ]
  },
  {
   "cell_type": "code",
   "execution_count": 61,
   "metadata": {},
   "outputs": [],
   "source": [
    "twitter_archive_clean = twitter_archive_clean[twitter_archive_clean.retweeted_status_id.isnull()]"
   ]
  },
  {
   "cell_type": "markdown",
   "metadata": {},
   "source": [
    "#### Test"
   ]
  },
  {
   "cell_type": "code",
   "execution_count": 325,
   "metadata": {},
   "outputs": [
    {
     "data": {
      "text/plain": [
       "0"
      ]
     },
     "execution_count": 325,
     "metadata": {},
     "output_type": "execute_result"
    }
   ],
   "source": [
    "twitter_archive_clean.retweeted_status_id.notnull().sum()"
   ]
  },
  {
   "cell_type": "code",
   "execution_count": 62,
   "metadata": {},
   "outputs": [
    {
     "name": "stdout",
     "output_type": "stream",
     "text": [
      "<class 'pandas.core.frame.DataFrame'>\n",
      "Int64Index: 1987 entries, 0 to 2060\n",
      "Data columns (total 18 columns):\n",
      "tweet_id                      1987 non-null object\n",
      "in_reply_to_status_id         1987 non-null int64\n",
      "in_reply_to_user_id           1987 non-null int64\n",
      "timestamp                     1987 non-null datetime64[ns, UTC]\n",
      "source                        1987 non-null category\n",
      "text                          1987 non-null object\n",
      "retweeted_status_id           0 non-null float64\n",
      "retweeted_status_user_id      0 non-null float64\n",
      "retweeted_status_timestamp    0 non-null datetime64[ns, UTC]\n",
      "expanded_urls                 1987 non-null object\n",
      "rating_numerator              1987 non-null int64\n",
      "rating_denominator            1987 non-null int64\n",
      "name                          1987 non-null object\n",
      "doggo                         1987 non-null object\n",
      "floofer                       1987 non-null object\n",
      "pupper                        1987 non-null object\n",
      "puppo                         1987 non-null object\n",
      "display_text_range            1987 non-null object\n",
      "dtypes: category(1), datetime64[ns, UTC](2), float64(2), int64(4), object(9)\n",
      "memory usage: 281.5+ KB\n"
     ]
    }
   ],
   "source": [
    "twitter_archive_clean.info()"
   ]
  },
  {
   "cell_type": "markdown",
   "metadata": {},
   "source": [
    "**image predictions dataframe**"
   ]
  },
  {
   "cell_type": "code",
   "execution_count": 63,
   "metadata": {},
   "outputs": [],
   "source": [
    "image_predictions_clean = image_predictions.copy()"
   ]
  },
  {
   "cell_type": "markdown",
   "metadata": {},
   "source": [
    "1. Incorrect datatypes for p1, p2 & p3 & tweet_id\n"
   ]
  },
  {
   "cell_type": "markdown",
   "metadata": {},
   "source": [
    "#### Define"
   ]
  },
  {
   "cell_type": "markdown",
   "metadata": {},
   "source": [
    "Change the datatypes for p1,p2 & p3 from string to category and tweet_id datatype from int to str.\n"
   ]
  },
  {
   "cell_type": "markdown",
   "metadata": {},
   "source": [
    "#### Code"
   ]
  },
  {
   "cell_type": "code",
   "execution_count": 64,
   "metadata": {},
   "outputs": [],
   "source": [
    "image_predictions_clean.p1 = image_predictions_clean.p1.astype('category')\n",
    "\n",
    "image_predictions_clean.p2 = image_predictions_clean.p2.astype('category')\n",
    "\n",
    "image_predictions_clean.p3 = image_predictions_clean.p3.astype('category')\n",
    "\n",
    "image_predictions_clean.tweet_id = image_predictions_clean.tweet_id.astype(str)"
   ]
  },
  {
   "cell_type": "markdown",
   "metadata": {},
   "source": [
    "#### Test"
   ]
  },
  {
   "cell_type": "code",
   "execution_count": 165,
   "metadata": {},
   "outputs": [
    {
     "name": "stdout",
     "output_type": "stream",
     "text": [
      "<class 'pandas.core.frame.DataFrame'>\n",
      "RangeIndex: 2075 entries, 0 to 2074\n",
      "Data columns (total 12 columns):\n",
      "tweet_id    2075 non-null object\n",
      "jpg_url     2075 non-null object\n",
      "img_num     2075 non-null int64\n",
      "p1          2075 non-null category\n",
      "p1_conf     2075 non-null float64\n",
      "p1_dog      2075 non-null bool\n",
      "p2          2075 non-null category\n",
      "p2_conf     2075 non-null float64\n",
      "p2_dog      2075 non-null bool\n",
      "p3          2075 non-null category\n",
      "p3_conf     2075 non-null float64\n",
      "p3_dog      2075 non-null bool\n",
      "dtypes: bool(3), category(3), float64(3), int64(1), object(2)\n",
      "memory usage: 174.9+ KB\n"
     ]
    }
   ],
   "source": [
    "image_predictions_clean.info()"
   ]
  },
  {
   "cell_type": "markdown",
   "metadata": {},
   "source": [
    "2. There should be space instead of '_' in p1,p2 & p3 columns.\n"
   ]
  },
  {
   "cell_type": "markdown",
   "metadata": {},
   "source": [
    "#### Define"
   ]
  },
  {
   "cell_type": "markdown",
   "metadata": {},
   "source": [
    "The '_' should be replaced with space from the values in p1, p2 & p3 columns."
   ]
  },
  {
   "cell_type": "markdown",
   "metadata": {},
   "source": [
    "#### Code"
   ]
  },
  {
   "cell_type": "code",
   "execution_count": 65,
   "metadata": {},
   "outputs": [],
   "source": [
    "image_predictions_clean = image_predictions_clean.replace('_', ' ', regex=True)"
   ]
  },
  {
   "cell_type": "markdown",
   "metadata": {},
   "source": [
    "#### Test"
   ]
  },
  {
   "cell_type": "code",
   "execution_count": 299,
   "metadata": {},
   "outputs": [
    {
     "data": {
      "text/html": [
       "<div>\n",
       "<style scoped>\n",
       "    .dataframe tbody tr th:only-of-type {\n",
       "        vertical-align: middle;\n",
       "    }\n",
       "\n",
       "    .dataframe tbody tr th {\n",
       "        vertical-align: top;\n",
       "    }\n",
       "\n",
       "    .dataframe thead th {\n",
       "        text-align: right;\n",
       "    }\n",
       "</style>\n",
       "<table border=\"1\" class=\"dataframe\">\n",
       "  <thead>\n",
       "    <tr style=\"text-align: right;\">\n",
       "      <th></th>\n",
       "      <th>tweet_id</th>\n",
       "      <th>jpg_url</th>\n",
       "      <th>img_num</th>\n",
       "      <th>p1</th>\n",
       "      <th>p1_conf</th>\n",
       "      <th>p1_dog</th>\n",
       "      <th>p2</th>\n",
       "      <th>p2_conf</th>\n",
       "      <th>p2_dog</th>\n",
       "      <th>p3</th>\n",
       "      <th>p3_conf</th>\n",
       "      <th>p3_dog</th>\n",
       "    </tr>\n",
       "  </thead>\n",
       "  <tbody>\n",
       "    <tr>\n",
       "      <th>0</th>\n",
       "      <td>666020888022790149</td>\n",
       "      <td>https://pbs.twimg.com/media/CT4udn0WwAA0aMy.jpg</td>\n",
       "      <td>1</td>\n",
       "      <td>Welsh springer spaniel</td>\n",
       "      <td>0.465074</td>\n",
       "      <td>True</td>\n",
       "      <td>collie</td>\n",
       "      <td>0.156665</td>\n",
       "      <td>True</td>\n",
       "      <td>Shetland sheepdog</td>\n",
       "      <td>0.061428</td>\n",
       "      <td>True</td>\n",
       "    </tr>\n",
       "    <tr>\n",
       "      <th>1</th>\n",
       "      <td>666029285002620928</td>\n",
       "      <td>https://pbs.twimg.com/media/CT42GRgUYAA5iDo.jpg</td>\n",
       "      <td>1</td>\n",
       "      <td>redbone</td>\n",
       "      <td>0.506826</td>\n",
       "      <td>True</td>\n",
       "      <td>miniature pinscher</td>\n",
       "      <td>0.074192</td>\n",
       "      <td>True</td>\n",
       "      <td>Rhodesian ridgeback</td>\n",
       "      <td>0.072010</td>\n",
       "      <td>True</td>\n",
       "    </tr>\n",
       "    <tr>\n",
       "      <th>2</th>\n",
       "      <td>666033412701032449</td>\n",
       "      <td>https://pbs.twimg.com/media/CT4521TWwAEvMyu.jpg</td>\n",
       "      <td>1</td>\n",
       "      <td>German shepherd</td>\n",
       "      <td>0.596461</td>\n",
       "      <td>True</td>\n",
       "      <td>malinois</td>\n",
       "      <td>0.138584</td>\n",
       "      <td>True</td>\n",
       "      <td>bloodhound</td>\n",
       "      <td>0.116197</td>\n",
       "      <td>True</td>\n",
       "    </tr>\n",
       "    <tr>\n",
       "      <th>3</th>\n",
       "      <td>666044226329800704</td>\n",
       "      <td>https://pbs.twimg.com/media/CT5Dr8HUEAA-lEu.jpg</td>\n",
       "      <td>1</td>\n",
       "      <td>Rhodesian ridgeback</td>\n",
       "      <td>0.408143</td>\n",
       "      <td>True</td>\n",
       "      <td>redbone</td>\n",
       "      <td>0.360687</td>\n",
       "      <td>True</td>\n",
       "      <td>miniature pinscher</td>\n",
       "      <td>0.222752</td>\n",
       "      <td>True</td>\n",
       "    </tr>\n",
       "    <tr>\n",
       "      <th>4</th>\n",
       "      <td>666049248165822465</td>\n",
       "      <td>https://pbs.twimg.com/media/CT5IQmsXIAAKY4A.jpg</td>\n",
       "      <td>1</td>\n",
       "      <td>miniature pinscher</td>\n",
       "      <td>0.560311</td>\n",
       "      <td>True</td>\n",
       "      <td>Rottweiler</td>\n",
       "      <td>0.243682</td>\n",
       "      <td>True</td>\n",
       "      <td>Doberman</td>\n",
       "      <td>0.154629</td>\n",
       "      <td>True</td>\n",
       "    </tr>\n",
       "  </tbody>\n",
       "</table>\n",
       "</div>"
      ],
      "text/plain": [
       "             tweet_id                                          jpg_url  \\\n",
       "0  666020888022790149  https://pbs.twimg.com/media/CT4udn0WwAA0aMy.jpg   \n",
       "1  666029285002620928  https://pbs.twimg.com/media/CT42GRgUYAA5iDo.jpg   \n",
       "2  666033412701032449  https://pbs.twimg.com/media/CT4521TWwAEvMyu.jpg   \n",
       "3  666044226329800704  https://pbs.twimg.com/media/CT5Dr8HUEAA-lEu.jpg   \n",
       "4  666049248165822465  https://pbs.twimg.com/media/CT5IQmsXIAAKY4A.jpg   \n",
       "\n",
       "   img_num                      p1   p1_conf  p1_dog                  p2  \\\n",
       "0        1  Welsh springer spaniel  0.465074    True              collie   \n",
       "1        1                 redbone  0.506826    True  miniature pinscher   \n",
       "2        1         German shepherd  0.596461    True            malinois   \n",
       "3        1     Rhodesian ridgeback  0.408143    True             redbone   \n",
       "4        1      miniature pinscher  0.560311    True          Rottweiler   \n",
       "\n",
       "    p2_conf  p2_dog                   p3   p3_conf  p3_dog  \n",
       "0  0.156665    True    Shetland sheepdog  0.061428    True  \n",
       "1  0.074192    True  Rhodesian ridgeback  0.072010    True  \n",
       "2  0.138584    True           bloodhound  0.116197    True  \n",
       "3  0.360687    True   miniature pinscher  0.222752    True  \n",
       "4  0.243682    True             Doberman  0.154629    True  "
      ]
     },
     "execution_count": 299,
     "metadata": {},
     "output_type": "execute_result"
    }
   ],
   "source": [
    "image_predictions_clean.head(5)"
   ]
  },
  {
   "cell_type": "markdown",
   "metadata": {},
   "source": [
    "3. The names in p1, p2 & p3 are not consistent, sometimes start with uppercase and other times with lowercase."
   ]
  },
  {
   "cell_type": "markdown",
   "metadata": {},
   "source": [
    "#### Define"
   ]
  },
  {
   "cell_type": "markdown",
   "metadata": {},
   "source": [
    "All the names in columns p1, p2 and p3 should start with lower case letters."
   ]
  },
  {
   "cell_type": "markdown",
   "metadata": {},
   "source": [
    "#### Code"
   ]
  },
  {
   "cell_type": "code",
   "execution_count": 66,
   "metadata": {},
   "outputs": [],
   "source": [
    "image_predictions_clean.p1 = image_predictions_clean.p1.str.lower()\n",
    "\n",
    "image_predictions_clean.p2 = image_predictions_clean.p2.str.lower()\n",
    "\n",
    "image_predictions_clean.p3 = image_predictions_clean.p3.str.lower()"
   ]
  },
  {
   "cell_type": "markdown",
   "metadata": {},
   "source": [
    "#### Test"
   ]
  },
  {
   "cell_type": "code",
   "execution_count": 187,
   "metadata": {},
   "outputs": [
    {
     "data": {
      "text/html": [
       "<div>\n",
       "<style scoped>\n",
       "    .dataframe tbody tr th:only-of-type {\n",
       "        vertical-align: middle;\n",
       "    }\n",
       "\n",
       "    .dataframe tbody tr th {\n",
       "        vertical-align: top;\n",
       "    }\n",
       "\n",
       "    .dataframe thead th {\n",
       "        text-align: right;\n",
       "    }\n",
       "</style>\n",
       "<table border=\"1\" class=\"dataframe\">\n",
       "  <thead>\n",
       "    <tr style=\"text-align: right;\">\n",
       "      <th></th>\n",
       "      <th>tweet_id</th>\n",
       "      <th>jpg_url</th>\n",
       "      <th>img_num</th>\n",
       "      <th>p1</th>\n",
       "      <th>p1_conf</th>\n",
       "      <th>p1_dog</th>\n",
       "      <th>p2</th>\n",
       "      <th>p2_conf</th>\n",
       "      <th>p2_dog</th>\n",
       "      <th>p3</th>\n",
       "      <th>p3_conf</th>\n",
       "      <th>p3_dog</th>\n",
       "    </tr>\n",
       "  </thead>\n",
       "  <tbody>\n",
       "    <tr>\n",
       "      <th>0</th>\n",
       "      <td>666020888022790149</td>\n",
       "      <td>https://pbs.twimg.com/media/CT4udn0WwAA0aMy.jpg</td>\n",
       "      <td>1</td>\n",
       "      <td>welsh springer spaniel</td>\n",
       "      <td>0.465074</td>\n",
       "      <td>True</td>\n",
       "      <td>collie</td>\n",
       "      <td>0.156665</td>\n",
       "      <td>True</td>\n",
       "      <td>shetland sheepdog</td>\n",
       "      <td>0.061428</td>\n",
       "      <td>True</td>\n",
       "    </tr>\n",
       "    <tr>\n",
       "      <th>1</th>\n",
       "      <td>666029285002620928</td>\n",
       "      <td>https://pbs.twimg.com/media/CT42GRgUYAA5iDo.jpg</td>\n",
       "      <td>1</td>\n",
       "      <td>redbone</td>\n",
       "      <td>0.506826</td>\n",
       "      <td>True</td>\n",
       "      <td>miniature pinscher</td>\n",
       "      <td>0.074192</td>\n",
       "      <td>True</td>\n",
       "      <td>rhodesian ridgeback</td>\n",
       "      <td>0.072010</td>\n",
       "      <td>True</td>\n",
       "    </tr>\n",
       "    <tr>\n",
       "      <th>2</th>\n",
       "      <td>666033412701032449</td>\n",
       "      <td>https://pbs.twimg.com/media/CT4521TWwAEvMyu.jpg</td>\n",
       "      <td>1</td>\n",
       "      <td>german shepherd</td>\n",
       "      <td>0.596461</td>\n",
       "      <td>True</td>\n",
       "      <td>malinois</td>\n",
       "      <td>0.138584</td>\n",
       "      <td>True</td>\n",
       "      <td>bloodhound</td>\n",
       "      <td>0.116197</td>\n",
       "      <td>True</td>\n",
       "    </tr>\n",
       "    <tr>\n",
       "      <th>3</th>\n",
       "      <td>666044226329800704</td>\n",
       "      <td>https://pbs.twimg.com/media/CT5Dr8HUEAA-lEu.jpg</td>\n",
       "      <td>1</td>\n",
       "      <td>rhodesian ridgeback</td>\n",
       "      <td>0.408143</td>\n",
       "      <td>True</td>\n",
       "      <td>redbone</td>\n",
       "      <td>0.360687</td>\n",
       "      <td>True</td>\n",
       "      <td>miniature pinscher</td>\n",
       "      <td>0.222752</td>\n",
       "      <td>True</td>\n",
       "    </tr>\n",
       "    <tr>\n",
       "      <th>4</th>\n",
       "      <td>666049248165822465</td>\n",
       "      <td>https://pbs.twimg.com/media/CT5IQmsXIAAKY4A.jpg</td>\n",
       "      <td>1</td>\n",
       "      <td>miniature pinscher</td>\n",
       "      <td>0.560311</td>\n",
       "      <td>True</td>\n",
       "      <td>rottweiler</td>\n",
       "      <td>0.243682</td>\n",
       "      <td>True</td>\n",
       "      <td>doberman</td>\n",
       "      <td>0.154629</td>\n",
       "      <td>True</td>\n",
       "    </tr>\n",
       "  </tbody>\n",
       "</table>\n",
       "</div>"
      ],
      "text/plain": [
       "             tweet_id                                          jpg_url  \\\n",
       "0  666020888022790149  https://pbs.twimg.com/media/CT4udn0WwAA0aMy.jpg   \n",
       "1  666029285002620928  https://pbs.twimg.com/media/CT42GRgUYAA5iDo.jpg   \n",
       "2  666033412701032449  https://pbs.twimg.com/media/CT4521TWwAEvMyu.jpg   \n",
       "3  666044226329800704  https://pbs.twimg.com/media/CT5Dr8HUEAA-lEu.jpg   \n",
       "4  666049248165822465  https://pbs.twimg.com/media/CT5IQmsXIAAKY4A.jpg   \n",
       "\n",
       "   img_num                      p1   p1_conf  p1_dog                  p2  \\\n",
       "0        1  welsh springer spaniel  0.465074    True              collie   \n",
       "1        1                 redbone  0.506826    True  miniature pinscher   \n",
       "2        1         german shepherd  0.596461    True            malinois   \n",
       "3        1     rhodesian ridgeback  0.408143    True             redbone   \n",
       "4        1      miniature pinscher  0.560311    True          rottweiler   \n",
       "\n",
       "    p2_conf  p2_dog                   p3   p3_conf  p3_dog  \n",
       "0  0.156665    True    shetland sheepdog  0.061428    True  \n",
       "1  0.074192    True  rhodesian ridgeback  0.072010    True  \n",
       "2  0.138584    True           bloodhound  0.116197    True  \n",
       "3  0.360687    True   miniature pinscher  0.222752    True  \n",
       "4  0.243682    True             doberman  0.154629    True  "
      ]
     },
     "execution_count": 187,
     "metadata": {},
     "output_type": "execute_result"
    }
   ],
   "source": [
    "image_predictions_clean.head()"
   ]
  },
  {
   "cell_type": "markdown",
   "metadata": {},
   "source": [
    "**tweet_df**"
   ]
  },
  {
   "cell_type": "code",
   "execution_count": 68,
   "metadata": {},
   "outputs": [],
   "source": [
    "tweet_df_clean = tweet_df.copy()"
   ]
  },
  {
   "cell_type": "markdown",
   "metadata": {},
   "source": [
    "1. There is no need to have retweeted column in this dataframe since all of its values are False."
   ]
  },
  {
   "cell_type": "markdown",
   "metadata": {},
   "source": [
    "#### Define"
   ]
  },
  {
   "cell_type": "markdown",
   "metadata": {},
   "source": [
    "Delete retweeted column from the dataframe"
   ]
  },
  {
   "cell_type": "markdown",
   "metadata": {},
   "source": [
    "#### Code"
   ]
  },
  {
   "cell_type": "code",
   "execution_count": 69,
   "metadata": {},
   "outputs": [
    {
     "data": {
      "text/html": [
       "<div>\n",
       "<style scoped>\n",
       "    .dataframe tbody tr th:only-of-type {\n",
       "        vertical-align: middle;\n",
       "    }\n",
       "\n",
       "    .dataframe tbody tr th {\n",
       "        vertical-align: top;\n",
       "    }\n",
       "\n",
       "    .dataframe thead th {\n",
       "        text-align: right;\n",
       "    }\n",
       "</style>\n",
       "<table border=\"1\" class=\"dataframe\">\n",
       "  <thead>\n",
       "    <tr style=\"text-align: right;\">\n",
       "      <th></th>\n",
       "      <th>tweet_id</th>\n",
       "      <th>retweet_count</th>\n",
       "      <th>favorite_count</th>\n",
       "      <th>retweeted</th>\n",
       "      <th>display_text_range</th>\n",
       "    </tr>\n",
       "  </thead>\n",
       "  <tbody>\n",
       "    <tr>\n",
       "      <th>0</th>\n",
       "      <td>892420643555336193</td>\n",
       "      <td>7984</td>\n",
       "      <td>37273</td>\n",
       "      <td>False</td>\n",
       "      <td>[0, 85]</td>\n",
       "    </tr>\n",
       "    <tr>\n",
       "      <th>1</th>\n",
       "      <td>892177421306343426</td>\n",
       "      <td>5930</td>\n",
       "      <td>32049</td>\n",
       "      <td>False</td>\n",
       "      <td>[0, 138]</td>\n",
       "    </tr>\n",
       "    <tr>\n",
       "      <th>2</th>\n",
       "      <td>891815181378084864</td>\n",
       "      <td>3917</td>\n",
       "      <td>24148</td>\n",
       "      <td>False</td>\n",
       "      <td>[0, 121]</td>\n",
       "    </tr>\n",
       "    <tr>\n",
       "      <th>3</th>\n",
       "      <td>891689557279858688</td>\n",
       "      <td>8142</td>\n",
       "      <td>40589</td>\n",
       "      <td>False</td>\n",
       "      <td>[0, 79]</td>\n",
       "    </tr>\n",
       "    <tr>\n",
       "      <th>4</th>\n",
       "      <td>891327558926688256</td>\n",
       "      <td>8816</td>\n",
       "      <td>38826</td>\n",
       "      <td>False</td>\n",
       "      <td>[0, 138]</td>\n",
       "    </tr>\n",
       "  </tbody>\n",
       "</table>\n",
       "</div>"
      ],
      "text/plain": [
       "             tweet_id  retweet_count  favorite_count  retweeted  \\\n",
       "0  892420643555336193           7984           37273      False   \n",
       "1  892177421306343426           5930           32049      False   \n",
       "2  891815181378084864           3917           24148      False   \n",
       "3  891689557279858688           8142           40589      False   \n",
       "4  891327558926688256           8816           38826      False   \n",
       "\n",
       "  display_text_range  \n",
       "0            [0, 85]  \n",
       "1           [0, 138]  \n",
       "2           [0, 121]  \n",
       "3            [0, 79]  \n",
       "4           [0, 138]  "
      ]
     },
     "execution_count": 69,
     "metadata": {},
     "output_type": "execute_result"
    }
   ],
   "source": [
    "tweet_df_clean.head()"
   ]
  },
  {
   "cell_type": "code",
   "execution_count": 395,
   "metadata": {},
   "outputs": [],
   "source": [
    "tweet_df_clean = tweet_df_clean.drop('retweeted', axis=1)"
   ]
  },
  {
   "cell_type": "markdown",
   "metadata": {},
   "source": [
    "#### Test"
   ]
  },
  {
   "cell_type": "code",
   "execution_count": 396,
   "metadata": {},
   "outputs": [
    {
     "data": {
      "text/html": [
       "<div>\n",
       "<style scoped>\n",
       "    .dataframe tbody tr th:only-of-type {\n",
       "        vertical-align: middle;\n",
       "    }\n",
       "\n",
       "    .dataframe tbody tr th {\n",
       "        vertical-align: top;\n",
       "    }\n",
       "\n",
       "    .dataframe thead th {\n",
       "        text-align: right;\n",
       "    }\n",
       "</style>\n",
       "<table border=\"1\" class=\"dataframe\">\n",
       "  <thead>\n",
       "    <tr style=\"text-align: right;\">\n",
       "      <th></th>\n",
       "      <th>tweet_id</th>\n",
       "      <th>retweet_count</th>\n",
       "      <th>favorite_count</th>\n",
       "      <th>display_text_range</th>\n",
       "    </tr>\n",
       "  </thead>\n",
       "  <tbody>\n",
       "    <tr>\n",
       "      <th>0</th>\n",
       "      <td>892420643555336193</td>\n",
       "      <td>7984</td>\n",
       "      <td>37273</td>\n",
       "      <td>[0, 85]</td>\n",
       "    </tr>\n",
       "    <tr>\n",
       "      <th>1</th>\n",
       "      <td>892177421306343426</td>\n",
       "      <td>5930</td>\n",
       "      <td>32049</td>\n",
       "      <td>[0, 138]</td>\n",
       "    </tr>\n",
       "    <tr>\n",
       "      <th>2</th>\n",
       "      <td>891815181378084864</td>\n",
       "      <td>3917</td>\n",
       "      <td>24148</td>\n",
       "      <td>[0, 121]</td>\n",
       "    </tr>\n",
       "    <tr>\n",
       "      <th>3</th>\n",
       "      <td>891689557279858688</td>\n",
       "      <td>8142</td>\n",
       "      <td>40589</td>\n",
       "      <td>[0, 79]</td>\n",
       "    </tr>\n",
       "    <tr>\n",
       "      <th>4</th>\n",
       "      <td>891327558926688256</td>\n",
       "      <td>8816</td>\n",
       "      <td>38826</td>\n",
       "      <td>[0, 138]</td>\n",
       "    </tr>\n",
       "  </tbody>\n",
       "</table>\n",
       "</div>"
      ],
      "text/plain": [
       "             tweet_id  retweet_count  favorite_count display_text_range\n",
       "0  892420643555336193           7984           37273            [0, 85]\n",
       "1  892177421306343426           5930           32049           [0, 138]\n",
       "2  891815181378084864           3917           24148           [0, 121]\n",
       "3  891689557279858688           8142           40589            [0, 79]\n",
       "4  891327558926688256           8816           38826           [0, 138]"
      ]
     },
     "execution_count": 396,
     "metadata": {},
     "output_type": "execute_result"
    }
   ],
   "source": [
    "tweet_df_clean.head()"
   ]
  },
  {
   "cell_type": "markdown",
   "metadata": {},
   "source": [
    "2. Incorrect datatype for tweet_id column."
   ]
  },
  {
   "cell_type": "markdown",
   "metadata": {},
   "source": [
    "#### Define"
   ]
  },
  {
   "cell_type": "markdown",
   "metadata": {},
   "source": [
    "Change tweet_id column datatype from int to str."
   ]
  },
  {
   "cell_type": "markdown",
   "metadata": {},
   "source": [
    "#### Code"
   ]
  },
  {
   "cell_type": "code",
   "execution_count": 70,
   "metadata": {},
   "outputs": [],
   "source": [
    "tweet_df_clean.tweet_id = tweet_df_clean.tweet_id.astype(str)"
   ]
  },
  {
   "cell_type": "markdown",
   "metadata": {},
   "source": [
    "#### Test"
   ]
  },
  {
   "cell_type": "code",
   "execution_count": 333,
   "metadata": {},
   "outputs": [
    {
     "name": "stdout",
     "output_type": "stream",
     "text": [
      "<class 'pandas.core.frame.DataFrame'>\n",
      "RangeIndex: 2333 entries, 0 to 2332\n",
      "Data columns (total 4 columns):\n",
      "tweet_id              2333 non-null object\n",
      "retweet_count         2333 non-null int64\n",
      "favorite_count        2333 non-null int64\n",
      "display_text_range    2333 non-null object\n",
      "dtypes: int64(2), object(2)\n",
      "memory usage: 73.0+ KB\n"
     ]
    }
   ],
   "source": [
    "tweet_df_clean.info()"
   ]
  },
  {
   "cell_type": "markdown",
   "metadata": {},
   "source": [
    "### Data Tidiness Issues"
   ]
  },
  {
   "cell_type": "markdown",
   "metadata": {},
   "source": [
    "1. Retweet count & Favorite count should be merged from tweet_df into twitter_archive dataframe. "
   ]
  },
  {
   "cell_type": "markdown",
   "metadata": {},
   "source": [
    "#### Define"
   ]
  },
  {
   "cell_type": "markdown",
   "metadata": {},
   "source": [
    "Merge retweet count & favorite count from tweet_df to twitter_archive dataframe."
   ]
  },
  {
   "cell_type": "markdown",
   "metadata": {},
   "source": [
    "#### Code"
   ]
  },
  {
   "cell_type": "code",
   "execution_count": 71,
   "metadata": {},
   "outputs": [],
   "source": [
    "twitter_archive_clean = pd.merge(twitter_archive_clean, tweet_df[['tweet_id', 'retweet_count', 'favorite_count']], on='tweet_id')\n"
   ]
  },
  {
   "cell_type": "markdown",
   "metadata": {},
   "source": [
    "#### Test"
   ]
  },
  {
   "cell_type": "code",
   "execution_count": 398,
   "metadata": {},
   "outputs": [
    {
     "name": "stdout",
     "output_type": "stream",
     "text": [
      "<class 'pandas.core.frame.DataFrame'>\n",
      "Int64Index: 1987 entries, 0 to 1986\n",
      "Data columns (total 20 columns):\n",
      "tweet_id                      1987 non-null object\n",
      "in_reply_to_status_id         1987 non-null int64\n",
      "in_reply_to_user_id           1987 non-null int64\n",
      "timestamp                     1987 non-null datetime64[ns, UTC]\n",
      "source                        1987 non-null category\n",
      "text                          1987 non-null object\n",
      "retweeted_status_id           0 non-null float64\n",
      "retweeted_status_user_id      0 non-null float64\n",
      "retweeted_status_timestamp    0 non-null datetime64[ns, UTC]\n",
      "expanded_urls                 1987 non-null object\n",
      "rating_numerator              1987 non-null int64\n",
      "rating_denominator            1987 non-null int64\n",
      "name                          1987 non-null object\n",
      "doggo                         1987 non-null object\n",
      "floofer                       1987 non-null object\n",
      "pupper                        1987 non-null object\n",
      "puppo                         1987 non-null object\n",
      "display_text_range            1987 non-null object\n",
      "retweet_count                 1987 non-null int64\n",
      "favorite_count                1987 non-null int64\n",
      "dtypes: category(1), datetime64[ns, UTC](2), float64(2), int64(6), object(9)\n",
      "memory usage: 312.5+ KB\n"
     ]
    }
   ],
   "source": [
    "twitter_archive_clean.info()"
   ]
  },
  {
   "cell_type": "markdown",
   "metadata": {},
   "source": [
    "2. Merge the doggo, floofer, pupper & puppo columns of twitter_archive into a single column dog_stage."
   ]
  },
  {
   "cell_type": "markdown",
   "metadata": {},
   "source": [
    "#### Define"
   ]
  },
  {
   "cell_type": "markdown",
   "metadata": {},
   "source": [
    "The doggo, floofer, pupper & puppo columns should be merged into one dog_stage column, convert it into category datatype and then drop the individual columns from the twitter_archive_clean dataframe."
   ]
  },
  {
   "cell_type": "markdown",
   "metadata": {},
   "source": [
    "#### Code"
   ]
  },
  {
   "cell_type": "code",
   "execution_count": 72,
   "metadata": {},
   "outputs": [],
   "source": [
    "twitter_archive_clean['dog_stage'] = twitter_archive_clean[['doggo', 'floofer', 'pupper', 'puppo']].max(axis=1)"
   ]
  },
  {
   "cell_type": "code",
   "execution_count": 73,
   "metadata": {},
   "outputs": [],
   "source": [
    "twitter_archive_clean.dog_stage = twitter_archive_clean.dog_stage.astype('category')"
   ]
  },
  {
   "cell_type": "code",
   "execution_count": 74,
   "metadata": {},
   "outputs": [],
   "source": [
    "twitter_archive_clean = twitter_archive_clean.drop(['doggo', 'floofer', 'pupper', 'puppo'], axis=1)"
   ]
  },
  {
   "cell_type": "markdown",
   "metadata": {},
   "source": [
    "#### Test"
   ]
  },
  {
   "cell_type": "code",
   "execution_count": 75,
   "metadata": {},
   "outputs": [
    {
     "data": {
      "text/plain": [
       "None       1682\n",
       "pupper      212\n",
       "doggo        62\n",
       "puppo        23\n",
       "floofer       8\n",
       "Name: dog_stage, dtype: int64"
      ]
     },
     "execution_count": 75,
     "metadata": {},
     "output_type": "execute_result"
    }
   ],
   "source": [
    "twitter_archive_clean.dog_stage.value_counts()"
   ]
  },
  {
   "cell_type": "code",
   "execution_count": 403,
   "metadata": {},
   "outputs": [
    {
     "name": "stdout",
     "output_type": "stream",
     "text": [
      "<class 'pandas.core.frame.DataFrame'>\n",
      "Int64Index: 1987 entries, 0 to 1986\n",
      "Data columns (total 17 columns):\n",
      "tweet_id                      1987 non-null object\n",
      "in_reply_to_status_id         1987 non-null int64\n",
      "in_reply_to_user_id           1987 non-null int64\n",
      "timestamp                     1987 non-null datetime64[ns, UTC]\n",
      "source                        1987 non-null category\n",
      "text                          1987 non-null object\n",
      "retweeted_status_id           0 non-null float64\n",
      "retweeted_status_user_id      0 non-null float64\n",
      "retweeted_status_timestamp    0 non-null datetime64[ns, UTC]\n",
      "expanded_urls                 1987 non-null object\n",
      "rating_numerator              1987 non-null int64\n",
      "rating_denominator            1987 non-null int64\n",
      "name                          1987 non-null object\n",
      "display_text_range            1987 non-null object\n",
      "retweet_count                 1987 non-null int64\n",
      "favorite_count                1987 non-null int64\n",
      "dog_stage                     1987 non-null category\n",
      "dtypes: category(2), datetime64[ns, UTC](2), float64(2), int64(6), object(5)\n",
      "memory usage: 252.6+ KB\n"
     ]
    }
   ],
   "source": [
    "twitter_archive_clean.info()"
   ]
  },
  {
   "cell_type": "markdown",
   "metadata": {},
   "source": [
    "3. There is no need to have retweeted columns (retweeted_status_id, retweeted_status_user_id &   retweeted_status_timestamp)"
   ]
  },
  {
   "cell_type": "markdown",
   "metadata": {},
   "source": [
    "#### Define"
   ]
  },
  {
   "cell_type": "markdown",
   "metadata": {},
   "source": [
    "Delete the retweeted_status_id, retweeted_status_user_id & retweeted_status_timestamp columns from the twitter_archive_clean dataframe."
   ]
  },
  {
   "cell_type": "markdown",
   "metadata": {},
   "source": [
    "#### Code"
   ]
  },
  {
   "cell_type": "code",
   "execution_count": 76,
   "metadata": {},
   "outputs": [],
   "source": [
    "twitter_archive_clean = twitter_archive_clean.drop(['retweeted_status_id', 'retweeted_status_user_id', 'retweeted_status_timestamp',], axis=1)"
   ]
  },
  {
   "cell_type": "markdown",
   "metadata": {},
   "source": [
    "#### Test"
   ]
  },
  {
   "cell_type": "code",
   "execution_count": 405,
   "metadata": {},
   "outputs": [
    {
     "name": "stdout",
     "output_type": "stream",
     "text": [
      "<class 'pandas.core.frame.DataFrame'>\n",
      "Int64Index: 1987 entries, 0 to 1986\n",
      "Data columns (total 14 columns):\n",
      "tweet_id                 1987 non-null object\n",
      "in_reply_to_status_id    1987 non-null int64\n",
      "in_reply_to_user_id      1987 non-null int64\n",
      "timestamp                1987 non-null datetime64[ns, UTC]\n",
      "source                   1987 non-null category\n",
      "text                     1987 non-null object\n",
      "expanded_urls            1987 non-null object\n",
      "rating_numerator         1987 non-null int64\n",
      "rating_denominator       1987 non-null int64\n",
      "name                     1987 non-null object\n",
      "display_text_range       1987 non-null object\n",
      "retweet_count            1987 non-null int64\n",
      "favorite_count           1987 non-null int64\n",
      "dog_stage                1987 non-null category\n",
      "dtypes: category(2), datetime64[ns, UTC](1), int64(6), object(5)\n",
      "memory usage: 206.0+ KB\n"
     ]
    }
   ],
   "source": [
    "twitter_archive_clean.info()"
   ]
  },
  {
   "cell_type": "markdown",
   "metadata": {},
   "source": [
    "4. Merge p1 column of image_classification dataframe into the twitter_archive_clean dataframe"
   ]
  },
  {
   "cell_type": "markdown",
   "metadata": {},
   "source": [
    "#### Define"
   ]
  },
  {
   "cell_type": "markdown",
   "metadata": {},
   "source": [
    "Merge the p1, p1_conf & p1_dog column of image_classification df into twitter_archive_clean df since it the the column with high confidence.\n",
    "\n",
    "Delete all the entries where p1_dog = False"
   ]
  },
  {
   "cell_type": "markdown",
   "metadata": {},
   "source": [
    "#### Code"
   ]
  },
  {
   "cell_type": "code",
   "execution_count": 77,
   "metadata": {},
   "outputs": [],
   "source": [
    "twitter_archive_clean = pd.merge(twitter_archive_clean, image_predictions_clean[['tweet_id', 'p1', 'p1_conf', 'p1_dog']], on='tweet_id')                                                                                                               \n",
    "                                                                                                                                                                                                   "
   ]
  },
  {
   "cell_type": "code",
   "execution_count": 78,
   "metadata": {},
   "outputs": [],
   "source": [
    "twitter_archive_clean = twitter_archive_clean[twitter_archive_clean.p1_dog != False]"
   ]
  },
  {
   "cell_type": "markdown",
   "metadata": {},
   "source": [
    "#### Test"
   ]
  },
  {
   "cell_type": "code",
   "execution_count": 414,
   "metadata": {},
   "outputs": [
    {
     "data": {
      "text/plain": [
       "True    1470\n",
       "Name: p1_dog, dtype: int64"
      ]
     },
     "execution_count": 414,
     "metadata": {},
     "output_type": "execute_result"
    }
   ],
   "source": [
    "twitter_archive_clean.p1_dog.value_counts()"
   ]
  },
  {
   "cell_type": "code",
   "execution_count": 415,
   "metadata": {},
   "outputs": [
    {
     "name": "stdout",
     "output_type": "stream",
     "text": [
      "<class 'pandas.core.frame.DataFrame'>\n",
      "Int64Index: 1470 entries, 1 to 1986\n",
      "Data columns (total 17 columns):\n",
      "tweet_id                 1470 non-null object\n",
      "in_reply_to_status_id    1470 non-null int64\n",
      "in_reply_to_user_id      1470 non-null int64\n",
      "timestamp                1470 non-null datetime64[ns, UTC]\n",
      "source                   1470 non-null category\n",
      "text                     1470 non-null object\n",
      "expanded_urls            1470 non-null object\n",
      "rating_numerator         1470 non-null int64\n",
      "rating_denominator       1470 non-null int64\n",
      "name                     1470 non-null object\n",
      "display_text_range       1470 non-null object\n",
      "retweet_count            1470 non-null int64\n",
      "favorite_count           1470 non-null int64\n",
      "dog_stage                1470 non-null category\n",
      "p1                       1470 non-null object\n",
      "p1_conf                  1470 non-null float64\n",
      "p1_dog                   1470 non-null bool\n",
      "dtypes: bool(1), category(2), datetime64[ns, UTC](1), float64(1), int64(6), object(6)\n",
      "memory usage: 176.9+ KB\n"
     ]
    }
   ],
   "source": [
    "twitter_archive_clean.info()"
   ]
  },
  {
   "cell_type": "markdown",
   "metadata": {},
   "source": [
    "## Storing data"
   ]
  },
  {
   "cell_type": "code",
   "execution_count": 79,
   "metadata": {},
   "outputs": [],
   "source": [
    "twitter_archive_clean.to_csv('twitter_archive_master.csv', index=False)"
   ]
  },
  {
   "cell_type": "markdown",
   "metadata": {},
   "source": [
    "## Analyzing data"
   ]
  },
  {
   "cell_type": "code",
   "execution_count": 80,
   "metadata": {},
   "outputs": [],
   "source": [
    "df_analysis = twitter_archive_clean.copy()"
   ]
  },
  {
   "cell_type": "code",
   "execution_count": 81,
   "metadata": {},
   "outputs": [
    {
     "name": "stdout",
     "output_type": "stream",
     "text": [
      "<class 'pandas.core.frame.DataFrame'>\n",
      "Int64Index: 1470 entries, 1 to 1986\n",
      "Data columns (total 17 columns):\n",
      "tweet_id                 1470 non-null object\n",
      "in_reply_to_status_id    1470 non-null int64\n",
      "in_reply_to_user_id      1470 non-null int64\n",
      "timestamp                1470 non-null datetime64[ns, UTC]\n",
      "source                   1470 non-null category\n",
      "text                     1470 non-null object\n",
      "expanded_urls            1470 non-null object\n",
      "rating_numerator         1470 non-null int64\n",
      "rating_denominator       1470 non-null int64\n",
      "name                     1470 non-null object\n",
      "display_text_range       1470 non-null object\n",
      "retweet_count            1470 non-null int64\n",
      "favorite_count           1470 non-null int64\n",
      "dog_stage                1470 non-null category\n",
      "p1                       1470 non-null object\n",
      "p1_conf                  1470 non-null float64\n",
      "p1_dog                   1470 non-null bool\n",
      "dtypes: bool(1), category(2), datetime64[ns, UTC](1), float64(1), int64(6), object(6)\n",
      "memory usage: 176.9+ KB\n"
     ]
    }
   ],
   "source": [
    "df_analysis.info()"
   ]
  },
  {
   "cell_type": "markdown",
   "metadata": {},
   "source": [
    "#### Analysis 1"
   ]
  },
  {
   "cell_type": "markdown",
   "metadata": {},
   "source": [
    "Calculating the mean retweet count and mean favorite count for all 4 dog stages (doggo, floofer, pupper & puppo)."
   ]
  },
  {
   "cell_type": "code",
   "execution_count": 82,
   "metadata": {},
   "outputs": [
    {
     "data": {
      "text/plain": [
       "None       1243\n",
       "pupper      152\n",
       "doggo        47\n",
       "puppo        20\n",
       "floofer       8\n",
       "Name: dog_stage, dtype: int64"
      ]
     },
     "execution_count": 82,
     "metadata": {},
     "output_type": "execute_result"
    }
   ],
   "source": [
    "df_analysis.dog_stage.value_counts()"
   ]
  },
  {
   "cell_type": "code",
   "execution_count": 83,
   "metadata": {},
   "outputs": [
    {
     "name": "stdout",
     "output_type": "stream",
     "text": [
      "Doggo\n",
      "Mean Retweet Count: 7291\n",
      "Mean Favorite Count: 20978\n",
      "\n",
      "\n",
      "Floofer\n",
      "Mean Retweet Count: 4343\n",
      "Mean Favorite Count: 12892\n",
      "\n",
      "\n",
      "Pupper\n",
      "Mean Retweet Count: 2436\n",
      "Mean Favorite Count: 7998\n",
      "\n",
      "\n",
      "Puppo\n",
      "Mean Retweet Count: 6712\n",
      "Mean Favorite Count: 23368\n"
     ]
    }
   ],
   "source": [
    "print('Doggo')\n",
    "print(\"Mean Retweet Count:\" , round(df_analysis.query('dog_stage == \"doggo\"')['retweet_count'].mean()))\n",
    "print(\"Mean Favorite Count:\" , round(df_analysis.query('dog_stage == \"doggo\"')['favorite_count'].mean()))\n",
    "\n",
    "print('\\n')\n",
    "\n",
    "print('Floofer')\n",
    "print(\"Mean Retweet Count:\" , round(df_analysis.query('dog_stage == \"floofer\"')['retweet_count'].mean()))\n",
    "print(\"Mean Favorite Count:\" , round(df_analysis.query('dog_stage == \"floofer\"')['favorite_count'].mean()))\n",
    "\n",
    "print('\\n')\n",
    "\n",
    "print('Pupper')\n",
    "print(\"Mean Retweet Count:\" , round(df_analysis.query('dog_stage == \"pupper\"')['retweet_count'].mean()))\n",
    "print(\"Mean Favorite Count:\" , round(df_analysis.query('dog_stage == \"pupper\"')['favorite_count'].mean()))\n",
    "\n",
    "print('\\n')\n",
    "\n",
    "print('Puppo')\n",
    "print(\"Mean Retweet Count:\" , round(df_analysis.query('dog_stage == \"puppo\"')['retweet_count'].mean()))\n",
    "print(\"Mean Favorite Count:\" , round(df_analysis.query('dog_stage == \"puppo\"')['favorite_count'].mean()))"
   ]
  },
  {
   "cell_type": "markdown",
   "metadata": {},
   "source": [
    "There is a vast difference between the retweet count and favorite count of all the four dog stages."
   ]
  },
  {
   "cell_type": "markdown",
   "metadata": {},
   "source": [
    "#### Analysis 2"
   ]
  },
  {
   "cell_type": "markdown",
   "metadata": {},
   "source": [
    "Analyzing number of tweets every year and every month of each year."
   ]
  },
  {
   "cell_type": "code",
   "execution_count": 442,
   "metadata": {},
   "outputs": [],
   "source": [
    "df_analysis['year'] = pd.DatetimeIndex(df_analysis['timestamp']).year"
   ]
  },
  {
   "cell_type": "code",
   "execution_count": 445,
   "metadata": {},
   "outputs": [
    {
     "data": {
      "text/plain": [
       "2016    748\n",
       "2015    437\n",
       "2017    285\n",
       "Name: year, dtype: int64"
      ]
     },
     "execution_count": 445,
     "metadata": {},
     "output_type": "execute_result"
    }
   ],
   "source": [
    "df_analysis.year.value_counts()"
   ]
  },
  {
   "cell_type": "markdown",
   "metadata": {},
   "source": [
    "This is the number of tweets per year derived from the the timestamp column. This analysis can be further detailed by deriving the number of tweets each month of every year."
   ]
  },
  {
   "cell_type": "code",
   "execution_count": 436,
   "metadata": {},
   "outputs": [
    {
     "name": "stderr",
     "output_type": "stream",
     "text": [
      "/anaconda3/lib/python3.7/site-packages/pandas/core/arrays/datetimes.py:1172: UserWarning: Converting to PeriodArray/Index representation will drop timezone information.\n",
      "  \"will drop timezone information.\", UserWarning)\n"
     ]
    }
   ],
   "source": [
    "df_analysis['month_year'] = df_analysis['timestamp'].dt.to_period('M')"
   ]
  },
  {
   "cell_type": "code",
   "execution_count": 440,
   "metadata": {},
   "outputs": [
    {
     "data": {
      "text/plain": [
       "2015-12    245\n",
       "2015-11    192\n",
       "2016-01    127\n",
       "2016-03     92\n",
       "2016-02     84\n",
       "2016-07     67\n",
       "2016-06     61\n",
       "2017-01     52\n",
       "2017-02     51\n",
       "2016-10     49\n",
       "2016-09     49\n",
       "2016-12     46\n",
       "2016-04     45\n",
       "2017-07     44\n",
       "2016-08     44\n",
       "2016-11     44\n",
       "2016-05     40\n",
       "2017-06     38\n",
       "2017-03     35\n",
       "2017-05     33\n",
       "2017-04     31\n",
       "2017-08      1\n",
       "Freq: M, Name: month_year, dtype: int64"
      ]
     },
     "execution_count": 440,
     "metadata": {},
     "output_type": "execute_result"
    }
   ],
   "source": [
    "df_analysis.month_year.value_counts()"
   ]
  },
  {
   "cell_type": "markdown",
   "metadata": {},
   "source": [
    "This is the number of tweets every month through 12-2015 to 08-2017."
   ]
  },
  {
   "cell_type": "markdown",
   "metadata": {},
   "source": [
    "#### Analysis 3"
   ]
  },
  {
   "cell_type": "markdown",
   "metadata": {},
   "source": [
    "Analyzing the source for various tweets."
   ]
  },
  {
   "cell_type": "code",
   "execution_count": 450,
   "metadata": {
    "scrolled": true
   },
   "outputs": [
    {
     "data": {
      "text/plain": [
       "Twitter for iPhone    1445\n",
       "Twitter Web Client      19\n",
       "TweetDeck                6\n",
       "Name: source, dtype: int64"
      ]
     },
     "execution_count": 450,
     "metadata": {},
     "output_type": "execute_result"
    }
   ],
   "source": [
    "df_analysis.source.value_counts()"
   ]
  },
  {
   "cell_type": "markdown",
   "metadata": {},
   "source": [
    "Twitter for iPhone as a source has the highest number of entries"
   ]
  },
  {
   "cell_type": "markdown",
   "metadata": {},
   "source": [
    "#### Analysis 4"
   ]
  },
  {
   "cell_type": "markdown",
   "metadata": {},
   "source": [
    "Analyzing dog breeds based on confidence intervals."
   ]
  },
  {
   "cell_type": "code",
   "execution_count": 462,
   "metadata": {},
   "outputs": [
    {
     "data": {
      "text/plain": [
       "golden retriever    36\n",
       "pembroke            26\n",
       "pug                 24\n",
       "samoyed             20\n",
       "pomeranian          16\n",
       "Name: p1, dtype: int64"
      ]
     },
     "execution_count": 462,
     "metadata": {},
     "output_type": "execute_result"
    }
   ],
   "source": [
    "df_analysis.query('p1_conf > 0.90')['p1'].value_counts().head(5)"
   ]
  },
  {
   "cell_type": "markdown",
   "metadata": {},
   "source": [
    "At 90% confidence interval, the top 5 predicted dog breeds are listed above."
   ]
  },
  {
   "cell_type": "code",
   "execution_count": 473,
   "metadata": {},
   "outputs": [
    {
     "data": {
      "text/plain": [
       "pug                 20\n",
       "pembroke            19\n",
       "samoyed             18\n",
       "golden retriever    16\n",
       "pomeranian          13\n",
       "Name: p1, dtype: int64"
      ]
     },
     "execution_count": 473,
     "metadata": {},
     "output_type": "execute_result"
    }
   ],
   "source": [
    "df_analysis.query('p1_conf > 0.95')['p1'].value_counts().head(5)"
   ]
  },
  {
   "cell_type": "markdown",
   "metadata": {},
   "source": [
    "At 95% confidence interval, the top 5 predicted dog breeds are listed above."
   ]
  },
  {
   "cell_type": "markdown",
   "metadata": {},
   "source": [
    "#### Analysis 5"
   ]
  },
  {
   "cell_type": "markdown",
   "metadata": {},
   "source": [
    "At a particular confidence interval, the dog breed having maximum retweet & favorite count."
   ]
  },
  {
   "cell_type": "code",
   "execution_count": 475,
   "metadata": {},
   "outputs": [
    {
     "data": {
      "text/plain": [
       "p1                vizsla\n",
       "retweet_count      10964\n",
       "favorite_count     31215\n",
       "dtype: object"
      ]
     },
     "execution_count": 475,
     "metadata": {},
     "output_type": "execute_result"
    }
   ],
   "source": [
    "df_analysis.query('p1_conf >= 0.99')[['p1','retweet_count', 'favorite_count']].max()"
   ]
  },
  {
   "cell_type": "markdown",
   "metadata": {},
   "source": [
    "At 99% confidence interval, Vizsla dog breed is having 10964 retweets and 31215 favorite count."
   ]
  },
  {
   "cell_type": "code",
   "execution_count": 476,
   "metadata": {},
   "outputs": [
    {
     "data": {
      "text/plain": [
       "p1                weimaraner\n",
       "retweet_count          21983\n",
       "favorite_count         51385\n",
       "dtype: object"
      ]
     },
     "execution_count": 476,
     "metadata": {},
     "output_type": "execute_result"
    }
   ],
   "source": [
    "df_analysis.query('p1_conf >= 0.95')[['p1','retweet_count', 'favorite_count']].max()"
   ]
  },
  {
   "cell_type": "markdown",
   "metadata": {},
   "source": [
    "At 95% confidence interval, Weimaraner dog breed is having 21983 retweets and 51385 favorite count."
   ]
  },
  {
   "cell_type": "code",
   "execution_count": 477,
   "metadata": {},
   "outputs": [
    {
     "data": {
      "text/plain": [
       "p1                yorkshire terrier\n",
       "retweet_count                 34114\n",
       "favorite_count               119650\n",
       "dtype: object"
      ]
     },
     "execution_count": 477,
     "metadata": {},
     "output_type": "execute_result"
    }
   ],
   "source": [
    "df_analysis.query('p1_conf >= 0.90')[['p1','retweet_count', 'favorite_count']].max()"
   ]
  },
  {
   "cell_type": "markdown",
   "metadata": {},
   "source": [
    "At 90% confidence interval, Yorkshire Terrier dog breed is having 34114 retweets and 119650 favorite count."
   ]
  },
  {
   "cell_type": "markdown",
   "metadata": {},
   "source": [
    "## Visualizing data"
   ]
  },
  {
   "cell_type": "code",
   "execution_count": 85,
   "metadata": {},
   "outputs": [
    {
     "data": {
      "text/plain": [
       "<matplotlib.axes._subplots.AxesSubplot at 0x114048208>"
      ]
     },
     "execution_count": 85,
     "metadata": {},
     "output_type": "execute_result"
    },
    {
     "data": {
      "image/png": "[encoded data removed]",
      "text/plain": [
       "<Figure size 432x288 with 1 Axes>"
      ]
     },
     "metadata": {
      "needs_background": "light"
     },
     "output_type": "display_data"
    }
   ],
   "source": [
    "df_analysis['source'].value_counts().plot(kind='hist')"
   ]
  },
  {
   "cell_type": "code",
   "execution_count": null,
   "metadata": {},
   "outputs": [],
   "source": []
  }
 ],
 "metadata": {
  "kernelspec": {
   "display_name": "Python 3",
   "language": "python",
   "name": "python3"
  },
  "language_info": {
   "codemirror_mode": {
    "name": "ipython",
    "version": 3
   },
   "file_extension": ".py",
   "mimetype": "text/x-python",
   "name": "python",
   "nbconvert_exporter": "python",
   "pygments_lexer": "ipython3",
   "version": "3.7.3"
  }
 },
 "nbformat": 4,
 "nbformat_minor": 2
}
